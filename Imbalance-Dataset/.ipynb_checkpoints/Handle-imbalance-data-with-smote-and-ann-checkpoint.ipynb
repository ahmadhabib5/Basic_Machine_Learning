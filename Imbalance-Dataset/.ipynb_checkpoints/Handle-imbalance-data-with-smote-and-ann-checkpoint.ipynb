{
 "cells": [
  {
   "cell_type": "code",
   "execution_count": 1,
   "id": "rYxvHnurFxD2",
   "metadata": {
    "colab": {
     "base_uri": "https://localhost:8080/"
    },
    "executionInfo": {
     "elapsed": 9954,
     "status": "ok",
     "timestamp": 1633616085375,
     "user": {
      "displayName": "Ahmad Habib",
      "photoUrl": "https://lh3.googleusercontent.com/a-/AOh14GhO4o_fO723EBzG9aZH_2E2uBHOgS6-H2XcOb3hrQ=s64",
      "userId": "07615486812975318675"
     },
     "user_tz": -420
    },
    "id": "rYxvHnurFxD2",
    "outputId": "2b491188-34a1-41c8-ede4-637877629a31"
   },
   "outputs": [
    {
     "name": "stdout",
     "output_type": "stream",
     "text": [
      "Collecting imbalanced-learn==0.8.1\n",
      "  Using cached imbalanced_learn-0.8.1-py3-none-any.whl (189 kB)\n",
      "Requirement already satisfied: scipy>=0.19.1 in d:\\pemrograman\\miniconda3\\envs\\my_env\\lib\\site-packages (from imbalanced-learn==0.8.1) (1.6.2)\n",
      "Requirement already satisfied: joblib>=0.11 in d:\\pemrograman\\miniconda3\\envs\\my_env\\lib\\site-packages (from imbalanced-learn==0.8.1) (1.0.1)\n",
      "Requirement already satisfied: scikit-learn>=0.24 in d:\\pemrograman\\miniconda3\\envs\\my_env\\lib\\site-packages (from imbalanced-learn==0.8.1) (0.24.1)\n",
      "Requirement already satisfied: numpy>=1.13.3 in d:\\pemrograman\\miniconda3\\envs\\my_env\\lib\\site-packages (from imbalanced-learn==0.8.1) (1.19.5)\n",
      "Requirement already satisfied: threadpoolctl>=2.0.0 in d:\\pemrograman\\miniconda3\\envs\\my_env\\lib\\site-packages (from scikit-learn>=0.24->imbalanced-learn==0.8.1) (2.1.0)\n",
      "Installing collected packages: imbalanced-learn\n",
      "Successfully installed imbalanced-learn-0.8.1\n",
      "Note: you may need to restart the kernel to use updated packages.\n"
     ]
    }
   ],
   "source": [
    "pip install imbalanced-learn==0.8.1"
   ]
  },
  {
   "cell_type": "code",
   "execution_count": 2,
   "id": "2vJAJcTwFt5h",
   "metadata": {
    "colab": {
     "base_uri": "https://localhost:8080/",
     "height": 36
    },
    "executionInfo": {
     "elapsed": 11,
     "status": "ok",
     "timestamp": 1633616090028,
     "user": {
      "displayName": "Ahmad Habib",
      "photoUrl": "https://lh3.googleusercontent.com/a-/AOh14GhO4o_fO723EBzG9aZH_2E2uBHOgS6-H2XcOb3hrQ=s64",
      "userId": "07615486812975318675"
     },
     "user_tz": -420
    },
    "id": "2vJAJcTwFt5h",
    "outputId": "d16cc9be-f2cc-4ead-bf1e-4dea6f5db966"
   },
   "outputs": [
    {
     "data": {
      "text/plain": [
       "'0.8.1'"
      ]
     },
     "execution_count": 2,
     "metadata": {},
     "output_type": "execute_result"
    }
   ],
   "source": [
    "import imblearn\n",
    "imblearn.__version__"
   ]
  },
  {
   "cell_type": "markdown",
   "id": "1bf634f3",
   "metadata": {
    "id": "1bf634f3"
   },
   "source": [
    "# Import package"
   ]
  },
  {
   "cell_type": "code",
   "execution_count": 4,
   "id": "603adc42",
   "metadata": {
    "executionInfo": {
     "elapsed": 10,
     "status": "ok",
     "timestamp": 1633616093612,
     "user": {
      "displayName": "Ahmad Habib",
      "photoUrl": "https://lh3.googleusercontent.com/a-/AOh14GhO4o_fO723EBzG9aZH_2E2uBHOgS6-H2XcOb3hrQ=s64",
      "userId": "07615486812975318675"
     },
     "user_tz": -420
    },
    "id": "603adc42"
   },
   "outputs": [
    {
     "data": {
      "text/plain": [
       "device(type='cuda', index=0)"
      ]
     },
     "execution_count": 4,
     "metadata": {},
     "output_type": "execute_result"
    }
   ],
   "source": [
    "import pandas as pd\n",
    "import numpy as np\n",
    "import matplotlib.pyplot as plt\n",
    "import seaborn as sns\n",
    "import torch\n",
    "from torch import nn, optim\n",
    "from jcopdl.callback import Callback, set_config\n",
    "\n",
    "device = torch.device(\"cuda:0\" if torch.cuda.is_available() else \"cpu\")\n",
    "device"
   ]
  },
  {
   "cell_type": "markdown",
   "id": "f6a84fb2",
   "metadata": {
    "id": "f6a84fb2"
   },
   "source": [
    "# Load Data"
   ]
  },
  {
   "cell_type": "code",
   "execution_count": 5,
   "id": "5d2b343f",
   "metadata": {
    "colab": {
     "base_uri": "https://localhost:8080/",
     "height": 206
    },
    "executionInfo": {
     "elapsed": 1869,
     "status": "ok",
     "timestamp": 1633616155266,
     "user": {
      "displayName": "Ahmad Habib",
      "photoUrl": "https://lh3.googleusercontent.com/a-/AOh14GhO4o_fO723EBzG9aZH_2E2uBHOgS6-H2XcOb3hrQ=s64",
      "userId": "07615486812975318675"
     },
     "user_tz": -420
    },
    "id": "5d2b343f",
    "outputId": "bb365efe-c679-4287-f1af-5d4eb15cfce0"
   },
   "outputs": [
    {
     "data": {
      "text/html": [
       "<div>\n",
       "<style scoped>\n",
       "    .dataframe tbody tr th:only-of-type {\n",
       "        vertical-align: middle;\n",
       "    }\n",
       "\n",
       "    .dataframe tbody tr th {\n",
       "        vertical-align: top;\n",
       "    }\n",
       "\n",
       "    .dataframe thead th {\n",
       "        text-align: right;\n",
       "    }\n",
       "</style>\n",
       "<table border=\"1\" class=\"dataframe\">\n",
       "  <thead>\n",
       "    <tr style=\"text-align: right;\">\n",
       "      <th></th>\n",
       "      <th>PH</th>\n",
       "      <th>cahaya</th>\n",
       "      <th>intensitas air</th>\n",
       "      <th>suhu</th>\n",
       "      <th>PPM</th>\n",
       "      <th>tinggi air</th>\n",
       "      <th>aksi</th>\n",
       "    </tr>\n",
       "  </thead>\n",
       "  <tbody>\n",
       "    <tr>\n",
       "      <th>0</th>\n",
       "      <td>6.5</td>\n",
       "      <td>Ada</td>\n",
       "      <td>Tinggi</td>\n",
       "      <td>27.0</td>\n",
       "      <td>188.0</td>\n",
       "      <td>622</td>\n",
       "      <td>Hidupkan Lampu dan Pompa nutrisi TDS</td>\n",
       "    </tr>\n",
       "    <tr>\n",
       "      <th>1</th>\n",
       "      <td>5.7</td>\n",
       "      <td>Ada</td>\n",
       "      <td>Tinggi</td>\n",
       "      <td>26.9</td>\n",
       "      <td>79.0</td>\n",
       "      <td>557</td>\n",
       "      <td>Hidupkan Lampu dan Pompa nutrisi TDS</td>\n",
       "    </tr>\n",
       "    <tr>\n",
       "      <th>2</th>\n",
       "      <td>6.0</td>\n",
       "      <td>Ada</td>\n",
       "      <td>Tinggi</td>\n",
       "      <td>27.0</td>\n",
       "      <td>11.0</td>\n",
       "      <td>491</td>\n",
       "      <td>Hidupkan Lampu dan Pompa nutrisi TDS</td>\n",
       "    </tr>\n",
       "    <tr>\n",
       "      <th>3</th>\n",
       "      <td>6.5</td>\n",
       "      <td>Ada</td>\n",
       "      <td>Tinggi</td>\n",
       "      <td>27.1</td>\n",
       "      <td>345.0</td>\n",
       "      <td>12000</td>\n",
       "      <td>Tidak melakukan apa-apa</td>\n",
       "    </tr>\n",
       "    <tr>\n",
       "      <th>4</th>\n",
       "      <td>6.2</td>\n",
       "      <td>NaN</td>\n",
       "      <td>Tinggi</td>\n",
       "      <td>27.1</td>\n",
       "      <td>602.0</td>\n",
       "      <td>444</td>\n",
       "      <td>Tidak melakukan apa-apa</td>\n",
       "    </tr>\n",
       "  </tbody>\n",
       "</table>\n",
       "</div>"
      ],
      "text/plain": [
       "    PH cahaya intensitas air  suhu    PPM  tinggi air  \\\n",
       "0  6.5    Ada         Tinggi  27.0  188.0         622   \n",
       "1  5.7    Ada         Tinggi  26.9   79.0         557   \n",
       "2  6.0    Ada         Tinggi  27.0   11.0         491   \n",
       "3  6.5    Ada         Tinggi  27.1  345.0       12000   \n",
       "4  6.2    NaN         Tinggi  27.1  602.0         444   \n",
       "\n",
       "                                   aksi  \n",
       "0  Hidupkan Lampu dan Pompa nutrisi TDS  \n",
       "1  Hidupkan Lampu dan Pompa nutrisi TDS  \n",
       "2  Hidupkan Lampu dan Pompa nutrisi TDS  \n",
       "3               Tidak melakukan apa-apa  \n",
       "4               Tidak melakukan apa-apa  "
      ]
     },
     "execution_count": 5,
     "metadata": {},
     "output_type": "execute_result"
    }
   ],
   "source": [
    "df = pd.read_csv(\"activity_km_07_01.csv\")\n",
    "df.head()"
   ]
  },
  {
   "cell_type": "markdown",
   "id": "2b2ab920",
   "metadata": {
    "id": "2b2ab920"
   },
   "source": [
    "### Mengganti nama kolom yang menggunakan spasi"
   ]
  },
  {
   "cell_type": "code",
   "execution_count": 6,
   "id": "aaf311ba",
   "metadata": {
    "colab": {
     "base_uri": "https://localhost:8080/",
     "height": 206
    },
    "executionInfo": {
     "elapsed": 384,
     "status": "ok",
     "timestamp": 1633616159378,
     "user": {
      "displayName": "Ahmad Habib",
      "photoUrl": "https://lh3.googleusercontent.com/a-/AOh14GhO4o_fO723EBzG9aZH_2E2uBHOgS6-H2XcOb3hrQ=s64",
      "userId": "07615486812975318675"
     },
     "user_tz": -420
    },
    "id": "aaf311ba",
    "outputId": "3d9be400-a8fc-4829-d379-528b5c399c9a",
    "scrolled": true
   },
   "outputs": [
    {
     "data": {
      "text/html": [
       "<div>\n",
       "<style scoped>\n",
       "    .dataframe tbody tr th:only-of-type {\n",
       "        vertical-align: middle;\n",
       "    }\n",
       "\n",
       "    .dataframe tbody tr th {\n",
       "        vertical-align: top;\n",
       "    }\n",
       "\n",
       "    .dataframe thead th {\n",
       "        text-align: right;\n",
       "    }\n",
       "</style>\n",
       "<table border=\"1\" class=\"dataframe\">\n",
       "  <thead>\n",
       "    <tr style=\"text-align: right;\">\n",
       "      <th></th>\n",
       "      <th>PH</th>\n",
       "      <th>cahaya</th>\n",
       "      <th>intensitas_air</th>\n",
       "      <th>suhu</th>\n",
       "      <th>PPM</th>\n",
       "      <th>tinggi_air</th>\n",
       "      <th>aksi</th>\n",
       "    </tr>\n",
       "  </thead>\n",
       "  <tbody>\n",
       "    <tr>\n",
       "      <th>0</th>\n",
       "      <td>6.5</td>\n",
       "      <td>Ada</td>\n",
       "      <td>Tinggi</td>\n",
       "      <td>27.0</td>\n",
       "      <td>188.0</td>\n",
       "      <td>622</td>\n",
       "      <td>Hidupkan Lampu dan Pompa nutrisi TDS</td>\n",
       "    </tr>\n",
       "    <tr>\n",
       "      <th>1</th>\n",
       "      <td>5.7</td>\n",
       "      <td>Ada</td>\n",
       "      <td>Tinggi</td>\n",
       "      <td>26.9</td>\n",
       "      <td>79.0</td>\n",
       "      <td>557</td>\n",
       "      <td>Hidupkan Lampu dan Pompa nutrisi TDS</td>\n",
       "    </tr>\n",
       "    <tr>\n",
       "      <th>2</th>\n",
       "      <td>6.0</td>\n",
       "      <td>Ada</td>\n",
       "      <td>Tinggi</td>\n",
       "      <td>27.0</td>\n",
       "      <td>11.0</td>\n",
       "      <td>491</td>\n",
       "      <td>Hidupkan Lampu dan Pompa nutrisi TDS</td>\n",
       "    </tr>\n",
       "    <tr>\n",
       "      <th>3</th>\n",
       "      <td>6.5</td>\n",
       "      <td>Ada</td>\n",
       "      <td>Tinggi</td>\n",
       "      <td>27.1</td>\n",
       "      <td>345.0</td>\n",
       "      <td>12000</td>\n",
       "      <td>Tidak melakukan apa-apa</td>\n",
       "    </tr>\n",
       "    <tr>\n",
       "      <th>4</th>\n",
       "      <td>6.2</td>\n",
       "      <td>NaN</td>\n",
       "      <td>Tinggi</td>\n",
       "      <td>27.1</td>\n",
       "      <td>602.0</td>\n",
       "      <td>444</td>\n",
       "      <td>Tidak melakukan apa-apa</td>\n",
       "    </tr>\n",
       "  </tbody>\n",
       "</table>\n",
       "</div>"
      ],
      "text/plain": [
       "    PH cahaya intensitas_air  suhu    PPM  tinggi_air  \\\n",
       "0  6.5    Ada         Tinggi  27.0  188.0         622   \n",
       "1  5.7    Ada         Tinggi  26.9   79.0         557   \n",
       "2  6.0    Ada         Tinggi  27.0   11.0         491   \n",
       "3  6.5    Ada         Tinggi  27.1  345.0       12000   \n",
       "4  6.2    NaN         Tinggi  27.1  602.0         444   \n",
       "\n",
       "                                   aksi  \n",
       "0  Hidupkan Lampu dan Pompa nutrisi TDS  \n",
       "1  Hidupkan Lampu dan Pompa nutrisi TDS  \n",
       "2  Hidupkan Lampu dan Pompa nutrisi TDS  \n",
       "3               Tidak melakukan apa-apa  \n",
       "4               Tidak melakukan apa-apa  "
      ]
     },
     "execution_count": 6,
     "metadata": {},
     "output_type": "execute_result"
    }
   ],
   "source": [
    "df.columns = df.columns.str.replace(\" \",\"_\")\n",
    "df.head()"
   ]
  },
  {
   "cell_type": "markdown",
   "id": "3d22f0f1",
   "metadata": {
    "id": "3d22f0f1"
   },
   "source": [
    "### Cek Missing Values"
   ]
  },
  {
   "cell_type": "code",
   "execution_count": 7,
   "id": "f93f3475",
   "metadata": {
    "colab": {
     "base_uri": "https://localhost:8080/"
    },
    "executionInfo": {
     "elapsed": 498,
     "status": "ok",
     "timestamp": 1633616162364,
     "user": {
      "displayName": "Ahmad Habib",
      "photoUrl": "https://lh3.googleusercontent.com/a-/AOh14GhO4o_fO723EBzG9aZH_2E2uBHOgS6-H2XcOb3hrQ=s64",
      "userId": "07615486812975318675"
     },
     "user_tz": -420
    },
    "id": "f93f3475",
    "outputId": "4e8995e0-7c4f-4933-b040-162139b6338b"
   },
   "outputs": [
    {
     "data": {
      "text/plain": [
       "(616, 7)"
      ]
     },
     "execution_count": 7,
     "metadata": {},
     "output_type": "execute_result"
    }
   ],
   "source": [
    "df.shape"
   ]
  },
  {
   "cell_type": "code",
   "execution_count": 8,
   "id": "dad70baf",
   "metadata": {
    "colab": {
     "base_uri": "https://localhost:8080/"
    },
    "executionInfo": {
     "elapsed": 9,
     "status": "ok",
     "timestamp": 1633616162832,
     "user": {
      "displayName": "Ahmad Habib",
      "photoUrl": "https://lh3.googleusercontent.com/a-/AOh14GhO4o_fO723EBzG9aZH_2E2uBHOgS6-H2XcOb3hrQ=s64",
      "userId": "07615486812975318675"
     },
     "user_tz": -420
    },
    "id": "dad70baf",
    "outputId": "2db38f48-1b39-4264-e5b4-f1634c288dfc"
   },
   "outputs": [
    {
     "name": "stdout",
     "output_type": "stream",
     "text": [
      "Total Rows           :  616\n",
      "Total Cols           :  7\n",
      "Total Missing Values :  74\n"
     ]
    }
   ],
   "source": [
    "print(\"Total Rows           : \", df.shape[0])\n",
    "print(\"Total Cols           : \", df.shape[1])\n",
    "print(\"Total Missing Values : \", df.isnull().sum().sum())"
   ]
  },
  {
   "cell_type": "code",
   "execution_count": 9,
   "id": "fc2d92e9",
   "metadata": {
    "colab": {
     "base_uri": "https://localhost:8080/",
     "height": 269
    },
    "executionInfo": {
     "elapsed": 11,
     "status": "ok",
     "timestamp": 1633616163389,
     "user": {
      "displayName": "Ahmad Habib",
      "photoUrl": "https://lh3.googleusercontent.com/a-/AOh14GhO4o_fO723EBzG9aZH_2E2uBHOgS6-H2XcOb3hrQ=s64",
      "userId": "07615486812975318675"
     },
     "user_tz": -420
    },
    "id": "fc2d92e9",
    "outputId": "3bdfebf0-a72c-422f-c459-6f3d216a0dca"
   },
   "outputs": [
    {
     "data": {
      "text/html": [
       "<div>\n",
       "<style scoped>\n",
       "    .dataframe tbody tr th:only-of-type {\n",
       "        vertical-align: middle;\n",
       "    }\n",
       "\n",
       "    .dataframe tbody tr th {\n",
       "        vertical-align: top;\n",
       "    }\n",
       "\n",
       "    .dataframe thead th {\n",
       "        text-align: right;\n",
       "    }\n",
       "</style>\n",
       "<table border=\"1\" class=\"dataframe\">\n",
       "  <thead>\n",
       "    <tr style=\"text-align: right;\">\n",
       "      <th></th>\n",
       "      <th>Missing_values</th>\n",
       "      <th>Persentase_missing_values (%)</th>\n",
       "    </tr>\n",
       "  </thead>\n",
       "  <tbody>\n",
       "    <tr>\n",
       "      <th>PH</th>\n",
       "      <td>16</td>\n",
       "      <td>2.597403</td>\n",
       "    </tr>\n",
       "    <tr>\n",
       "      <th>cahaya</th>\n",
       "      <td>26</td>\n",
       "      <td>4.220779</td>\n",
       "    </tr>\n",
       "    <tr>\n",
       "      <th>intensitas_air</th>\n",
       "      <td>0</td>\n",
       "      <td>0.000000</td>\n",
       "    </tr>\n",
       "    <tr>\n",
       "      <th>suhu</th>\n",
       "      <td>27</td>\n",
       "      <td>4.383117</td>\n",
       "    </tr>\n",
       "    <tr>\n",
       "      <th>PPM</th>\n",
       "      <td>5</td>\n",
       "      <td>0.811688</td>\n",
       "    </tr>\n",
       "    <tr>\n",
       "      <th>tinggi_air</th>\n",
       "      <td>0</td>\n",
       "      <td>0.000000</td>\n",
       "    </tr>\n",
       "    <tr>\n",
       "      <th>aksi</th>\n",
       "      <td>0</td>\n",
       "      <td>0.000000</td>\n",
       "    </tr>\n",
       "  </tbody>\n",
       "</table>\n",
       "</div>"
      ],
      "text/plain": [
       "                Missing_values  Persentase_missing_values (%)\n",
       "PH                          16                       2.597403\n",
       "cahaya                      26                       4.220779\n",
       "intensitas_air               0                       0.000000\n",
       "suhu                        27                       4.383117\n",
       "PPM                          5                       0.811688\n",
       "tinggi_air                   0                       0.000000\n",
       "aksi                         0                       0.000000"
      ]
     },
     "execution_count": 9,
     "metadata": {},
     "output_type": "execute_result"
    }
   ],
   "source": [
    "pd.DataFrame({\n",
    "    'Missing_values': df.isnull().sum(),\n",
    "    'Persentase_missing_values (%)': (df.isnull().sum()/len(df))*100\n",
    "})"
   ]
  },
  {
   "cell_type": "markdown",
   "id": "104c17b3",
   "metadata": {
    "id": "104c17b3"
   },
   "source": [
    "### cek value target "
   ]
  },
  {
   "cell_type": "code",
   "execution_count": 10,
   "id": "b847064d",
   "metadata": {
    "colab": {
     "base_uri": "https://localhost:8080/",
     "height": 175
    },
    "executionInfo": {
     "elapsed": 6,
     "status": "ok",
     "timestamp": 1633616164826,
     "user": {
      "displayName": "Ahmad Habib",
      "photoUrl": "https://lh3.googleusercontent.com/a-/AOh14GhO4o_fO723EBzG9aZH_2E2uBHOgS6-H2XcOb3hrQ=s64",
      "userId": "07615486812975318675"
     },
     "user_tz": -420
    },
    "id": "b847064d",
    "outputId": "cf9c9cfe-d7b8-496a-911d-882b3267176a"
   },
   "outputs": [
    {
     "data": {
      "text/html": [
       "<div>\n",
       "<style scoped>\n",
       "    .dataframe tbody tr th:only-of-type {\n",
       "        vertical-align: middle;\n",
       "    }\n",
       "\n",
       "    .dataframe tbody tr th {\n",
       "        vertical-align: top;\n",
       "    }\n",
       "\n",
       "    .dataframe thead th {\n",
       "        text-align: right;\n",
       "    }\n",
       "</style>\n",
       "<table border=\"1\" class=\"dataframe\">\n",
       "  <thead>\n",
       "    <tr style=\"text-align: right;\">\n",
       "      <th></th>\n",
       "      <th>aksi</th>\n",
       "    </tr>\n",
       "  </thead>\n",
       "  <tbody>\n",
       "    <tr>\n",
       "      <th>Tidak melakukan apa-apa</th>\n",
       "      <td>473</td>\n",
       "    </tr>\n",
       "    <tr>\n",
       "      <th>Hidupkan Lampu</th>\n",
       "      <td>92</td>\n",
       "    </tr>\n",
       "    <tr>\n",
       "      <th>Hidupkan Lampu dan Pompa nutrisi TDS</th>\n",
       "      <td>39</td>\n",
       "    </tr>\n",
       "    <tr>\n",
       "      <th>Hidupkan Pompa nutrisi TDS</th>\n",
       "      <td>12</td>\n",
       "    </tr>\n",
       "  </tbody>\n",
       "</table>\n",
       "</div>"
      ],
      "text/plain": [
       "                                      aksi\n",
       "Tidak melakukan apa-apa                473\n",
       "Hidupkan Lampu                          92\n",
       "Hidupkan Lampu dan Pompa nutrisi TDS    39\n",
       "Hidupkan Pompa nutrisi TDS              12"
      ]
     },
     "execution_count": 10,
     "metadata": {},
     "output_type": "execute_result"
    }
   ],
   "source": [
    "df.aksi.value_counts().to_frame()"
   ]
  },
  {
   "cell_type": "markdown",
   "id": "c051088f",
   "metadata": {
    "id": "c051088f"
   },
   "source": [
    "# Handle Missing Value "
   ]
  },
  {
   "cell_type": "code",
   "execution_count": 11,
   "id": "ca1343b1",
   "metadata": {
    "colab": {
     "base_uri": "https://localhost:8080/",
     "height": 269
    },
    "executionInfo": {
     "elapsed": 545,
     "status": "ok",
     "timestamp": 1633616168803,
     "user": {
      "displayName": "Ahmad Habib",
      "photoUrl": "https://lh3.googleusercontent.com/a-/AOh14GhO4o_fO723EBzG9aZH_2E2uBHOgS6-H2XcOb3hrQ=s64",
      "userId": "07615486812975318675"
     },
     "user_tz": -420
    },
    "id": "ca1343b1",
    "outputId": "306082f3-2645-4a20-e94e-ae39aec05b00",
    "scrolled": true
   },
   "outputs": [
    {
     "data": {
      "text/html": [
       "<div>\n",
       "<style scoped>\n",
       "    .dataframe tbody tr th:only-of-type {\n",
       "        vertical-align: middle;\n",
       "    }\n",
       "\n",
       "    .dataframe tbody tr th {\n",
       "        vertical-align: top;\n",
       "    }\n",
       "\n",
       "    .dataframe thead th {\n",
       "        text-align: right;\n",
       "    }\n",
       "</style>\n",
       "<table border=\"1\" class=\"dataframe\">\n",
       "  <thead>\n",
       "    <tr style=\"text-align: right;\">\n",
       "      <th></th>\n",
       "      <th>Missing_values</th>\n",
       "      <th>Persentase_missing_values (%)</th>\n",
       "    </tr>\n",
       "  </thead>\n",
       "  <tbody>\n",
       "    <tr>\n",
       "      <th>PH</th>\n",
       "      <td>16</td>\n",
       "      <td>2.597403</td>\n",
       "    </tr>\n",
       "    <tr>\n",
       "      <th>cahaya</th>\n",
       "      <td>26</td>\n",
       "      <td>4.220779</td>\n",
       "    </tr>\n",
       "    <tr>\n",
       "      <th>intensitas_air</th>\n",
       "      <td>0</td>\n",
       "      <td>0.000000</td>\n",
       "    </tr>\n",
       "    <tr>\n",
       "      <th>suhu</th>\n",
       "      <td>27</td>\n",
       "      <td>4.383117</td>\n",
       "    </tr>\n",
       "    <tr>\n",
       "      <th>PPM</th>\n",
       "      <td>5</td>\n",
       "      <td>0.811688</td>\n",
       "    </tr>\n",
       "    <tr>\n",
       "      <th>tinggi_air</th>\n",
       "      <td>0</td>\n",
       "      <td>0.000000</td>\n",
       "    </tr>\n",
       "    <tr>\n",
       "      <th>aksi</th>\n",
       "      <td>0</td>\n",
       "      <td>0.000000</td>\n",
       "    </tr>\n",
       "  </tbody>\n",
       "</table>\n",
       "</div>"
      ],
      "text/plain": [
       "                Missing_values  Persentase_missing_values (%)\n",
       "PH                          16                       2.597403\n",
       "cahaya                      26                       4.220779\n",
       "intensitas_air               0                       0.000000\n",
       "suhu                        27                       4.383117\n",
       "PPM                          5                       0.811688\n",
       "tinggi_air                   0                       0.000000\n",
       "aksi                         0                       0.000000"
      ]
     },
     "execution_count": 11,
     "metadata": {},
     "output_type": "execute_result"
    }
   ],
   "source": [
    "miss = pd.DataFrame({\n",
    "    'Missing_values': df.isnull().sum(),\n",
    "    'Persentase_missing_values (%)': (df.isnull().sum()/len(df))*100\n",
    "})\n",
    "miss"
   ]
  },
  {
   "cell_type": "markdown",
   "id": "624d4c7c",
   "metadata": {
    "id": "624d4c7c"
   },
   "source": [
    "### Suhu"
   ]
  },
  {
   "cell_type": "code",
   "execution_count": 12,
   "id": "53243809",
   "metadata": {
    "colab": {
     "base_uri": "https://localhost:8080/"
    },
    "executionInfo": {
     "elapsed": 9,
     "status": "ok",
     "timestamp": 1633616171055,
     "user": {
      "displayName": "Ahmad Habib",
      "photoUrl": "https://lh3.googleusercontent.com/a-/AOh14GhO4o_fO723EBzG9aZH_2E2uBHOgS6-H2XcOb3hrQ=s64",
      "userId": "07615486812975318675"
     },
     "user_tz": -420
    },
    "id": "53243809",
    "outputId": "37dab4bf-8042-4b6b-93ea-524c478002a7"
   },
   "outputs": [
    {
     "data": {
      "text/plain": [
       "29.36400679117148"
      ]
     },
     "execution_count": 12,
     "metadata": {},
     "output_type": "execute_result"
    }
   ],
   "source": [
    "mean_temp = float(df.suhu.mean())\n",
    "mean_temp"
   ]
  },
  {
   "cell_type": "code",
   "execution_count": 13,
   "id": "0d69c1df",
   "metadata": {
    "executionInfo": {
     "elapsed": 10,
     "status": "ok",
     "timestamp": 1633616171451,
     "user": {
      "displayName": "Ahmad Habib",
      "photoUrl": "https://lh3.googleusercontent.com/a-/AOh14GhO4o_fO723EBzG9aZH_2E2uBHOgS6-H2XcOb3hrQ=s64",
      "userId": "07615486812975318675"
     },
     "user_tz": -420
    },
    "id": "0d69c1df"
   },
   "outputs": [],
   "source": [
    "df.suhu.fillna(value=mean_temp, inplace=True)"
   ]
  },
  {
   "cell_type": "markdown",
   "id": "393ecd27",
   "metadata": {
    "id": "393ecd27"
   },
   "source": [
    "###  cahaya"
   ]
  },
  {
   "cell_type": "code",
   "execution_count": 14,
   "id": "9d01890b",
   "metadata": {
    "colab": {
     "base_uri": "https://localhost:8080/",
     "height": 36
    },
    "executionInfo": {
     "elapsed": 11,
     "status": "ok",
     "timestamp": 1633616172872,
     "user": {
      "displayName": "Ahmad Habib",
      "photoUrl": "https://lh3.googleusercontent.com/a-/AOh14GhO4o_fO723EBzG9aZH_2E2uBHOgS6-H2XcOb3hrQ=s64",
      "userId": "07615486812975318675"
     },
     "user_tz": -420
    },
    "id": "9d01890b",
    "outputId": "47418ed8-0fb8-4496-ff7d-a4abe4d698ff",
    "scrolled": true
   },
   "outputs": [
    {
     "data": {
      "text/plain": [
       "'Ada'"
      ]
     },
     "execution_count": 14,
     "metadata": {},
     "output_type": "execute_result"
    }
   ],
   "source": [
    "mode_light = df.cahaya.mode()[0]\n",
    "mode_light"
   ]
  },
  {
   "cell_type": "code",
   "execution_count": 15,
   "id": "bd14e18d",
   "metadata": {
    "executionInfo": {
     "elapsed": 6,
     "status": "ok",
     "timestamp": 1633616172872,
     "user": {
      "displayName": "Ahmad Habib",
      "photoUrl": "https://lh3.googleusercontent.com/a-/AOh14GhO4o_fO723EBzG9aZH_2E2uBHOgS6-H2XcOb3hrQ=s64",
      "userId": "07615486812975318675"
     },
     "user_tz": -420
    },
    "id": "bd14e18d"
   },
   "outputs": [],
   "source": [
    "df.cahaya.fillna(value=mode_light, inplace=True)"
   ]
  },
  {
   "cell_type": "markdown",
   "id": "6837e86c",
   "metadata": {
    "id": "6837e86c"
   },
   "source": [
    "### PH"
   ]
  },
  {
   "cell_type": "code",
   "execution_count": 16,
   "id": "28234da0",
   "metadata": {
    "colab": {
     "base_uri": "https://localhost:8080/"
    },
    "executionInfo": {
     "elapsed": 12,
     "status": "ok",
     "timestamp": 1633616174740,
     "user": {
      "displayName": "Ahmad Habib",
      "photoUrl": "https://lh3.googleusercontent.com/a-/AOh14GhO4o_fO723EBzG9aZH_2E2uBHOgS6-H2XcOb3hrQ=s64",
      "userId": "07615486812975318675"
     },
     "user_tz": -420
    },
    "id": "28234da0",
    "outputId": "79a6f8fa-50a5-424b-a089-fd7187a3abe9"
   },
   "outputs": [
    {
     "data": {
      "text/plain": [
       "6.655166666666665"
      ]
     },
     "execution_count": 16,
     "metadata": {},
     "output_type": "execute_result"
    }
   ],
   "source": [
    "mean_ph = float(df.PH.mean())\n",
    "mean_ph"
   ]
  },
  {
   "cell_type": "code",
   "execution_count": 17,
   "id": "21a55751",
   "metadata": {
    "executionInfo": {
     "elapsed": 6,
     "status": "ok",
     "timestamp": 1633616175302,
     "user": {
      "displayName": "Ahmad Habib",
      "photoUrl": "https://lh3.googleusercontent.com/a-/AOh14GhO4o_fO723EBzG9aZH_2E2uBHOgS6-H2XcOb3hrQ=s64",
      "userId": "07615486812975318675"
     },
     "user_tz": -420
    },
    "id": "21a55751"
   },
   "outputs": [],
   "source": [
    "df.PH.fillna(value=mean_ph, inplace=True)"
   ]
  },
  {
   "cell_type": "markdown",
   "id": "d3334c17",
   "metadata": {
    "id": "d3334c17"
   },
   "source": [
    "### PPM"
   ]
  },
  {
   "cell_type": "code",
   "execution_count": 18,
   "id": "f5cca877",
   "metadata": {
    "colab": {
     "base_uri": "https://localhost:8080/"
    },
    "executionInfo": {
     "elapsed": 7,
     "status": "ok",
     "timestamp": 1633616176334,
     "user": {
      "displayName": "Ahmad Habib",
      "photoUrl": "https://lh3.googleusercontent.com/a-/AOh14GhO4o_fO723EBzG9aZH_2E2uBHOgS6-H2XcOb3hrQ=s64",
      "userId": "07615486812975318675"
     },
     "user_tz": -420
    },
    "id": "f5cca877",
    "outputId": "685d44da-9e55-402f-afa8-1af0745d8186"
   },
   "outputs": [
    {
     "data": {
      "text/plain": [
       "1032.836333878887"
      ]
     },
     "execution_count": 18,
     "metadata": {},
     "output_type": "execute_result"
    }
   ],
   "source": [
    "mean_ppm = float(df.PPM.mean())\n",
    "mean_ppm"
   ]
  },
  {
   "cell_type": "code",
   "execution_count": 19,
   "id": "39131d43",
   "metadata": {
    "executionInfo": {
     "elapsed": 2,
     "status": "ok",
     "timestamp": 1633616176713,
     "user": {
      "displayName": "Ahmad Habib",
      "photoUrl": "https://lh3.googleusercontent.com/a-/AOh14GhO4o_fO723EBzG9aZH_2E2uBHOgS6-H2XcOb3hrQ=s64",
      "userId": "07615486812975318675"
     },
     "user_tz": -420
    },
    "id": "39131d43"
   },
   "outputs": [],
   "source": [
    "df.PPM.fillna(value=mean_ppm, inplace=True)"
   ]
  },
  {
   "cell_type": "code",
   "execution_count": 20,
   "id": "130b772a",
   "metadata": {
    "colab": {
     "base_uri": "https://localhost:8080/",
     "height": 269
    },
    "executionInfo": {
     "elapsed": 5,
     "status": "ok",
     "timestamp": 1633616177443,
     "user": {
      "displayName": "Ahmad Habib",
      "photoUrl": "https://lh3.googleusercontent.com/a-/AOh14GhO4o_fO723EBzG9aZH_2E2uBHOgS6-H2XcOb3hrQ=s64",
      "userId": "07615486812975318675"
     },
     "user_tz": -420
    },
    "id": "130b772a",
    "outputId": "335c763d-6360-4fe7-a8f8-c9d4fcf93c51",
    "scrolled": true
   },
   "outputs": [
    {
     "data": {
      "text/html": [
       "<div>\n",
       "<style scoped>\n",
       "    .dataframe tbody tr th:only-of-type {\n",
       "        vertical-align: middle;\n",
       "    }\n",
       "\n",
       "    .dataframe tbody tr th {\n",
       "        vertical-align: top;\n",
       "    }\n",
       "\n",
       "    .dataframe thead th {\n",
       "        text-align: right;\n",
       "    }\n",
       "</style>\n",
       "<table border=\"1\" class=\"dataframe\">\n",
       "  <thead>\n",
       "    <tr style=\"text-align: right;\">\n",
       "      <th></th>\n",
       "      <th>Missing_values</th>\n",
       "      <th>Persentase_missing_values (%)</th>\n",
       "    </tr>\n",
       "  </thead>\n",
       "  <tbody>\n",
       "    <tr>\n",
       "      <th>PH</th>\n",
       "      <td>0</td>\n",
       "      <td>0.0</td>\n",
       "    </tr>\n",
       "    <tr>\n",
       "      <th>cahaya</th>\n",
       "      <td>0</td>\n",
       "      <td>0.0</td>\n",
       "    </tr>\n",
       "    <tr>\n",
       "      <th>intensitas_air</th>\n",
       "      <td>0</td>\n",
       "      <td>0.0</td>\n",
       "    </tr>\n",
       "    <tr>\n",
       "      <th>suhu</th>\n",
       "      <td>0</td>\n",
       "      <td>0.0</td>\n",
       "    </tr>\n",
       "    <tr>\n",
       "      <th>PPM</th>\n",
       "      <td>0</td>\n",
       "      <td>0.0</td>\n",
       "    </tr>\n",
       "    <tr>\n",
       "      <th>tinggi_air</th>\n",
       "      <td>0</td>\n",
       "      <td>0.0</td>\n",
       "    </tr>\n",
       "    <tr>\n",
       "      <th>aksi</th>\n",
       "      <td>0</td>\n",
       "      <td>0.0</td>\n",
       "    </tr>\n",
       "  </tbody>\n",
       "</table>\n",
       "</div>"
      ],
      "text/plain": [
       "                Missing_values  Persentase_missing_values (%)\n",
       "PH                           0                            0.0\n",
       "cahaya                       0                            0.0\n",
       "intensitas_air               0                            0.0\n",
       "suhu                         0                            0.0\n",
       "PPM                          0                            0.0\n",
       "tinggi_air                   0                            0.0\n",
       "aksi                         0                            0.0"
      ]
     },
     "execution_count": 20,
     "metadata": {},
     "output_type": "execute_result"
    }
   ],
   "source": [
    "miss = pd.DataFrame({\n",
    "    'Missing_values': df.isnull().sum(),\n",
    "    'Persentase_missing_values (%)': (df.isnull().sum()/len(df))*100\n",
    "})\n",
    "miss"
   ]
  },
  {
   "cell_type": "markdown",
   "id": "7ff0affb",
   "metadata": {
    "id": "7ff0affb"
   },
   "source": [
    "# Handle & detect outliers"
   ]
  },
  {
   "cell_type": "code",
   "execution_count": 21,
   "id": "f53121b9",
   "metadata": {
    "executionInfo": {
     "elapsed": 3,
     "status": "ok",
     "timestamp": 1633616178876,
     "user": {
      "displayName": "Ahmad Habib",
      "photoUrl": "https://lh3.googleusercontent.com/a-/AOh14GhO4o_fO723EBzG9aZH_2E2uBHOgS6-H2XcOb3hrQ=s64",
      "userId": "07615486812975318675"
     },
     "user_tz": -420
    },
    "id": "f53121b9"
   },
   "outputs": [],
   "source": [
    "num_cols = np.array(['PH', 'suhu', 'PPM', 'tinggi_air']).reshape(2,2)"
   ]
  },
  {
   "cell_type": "code",
   "execution_count": 22,
   "id": "a71cddcc",
   "metadata": {
    "colab": {
     "base_uri": "https://localhost:8080/",
     "height": 608
    },
    "executionInfo": {
     "elapsed": 760,
     "status": "ok",
     "timestamp": 1633616180240,
     "user": {
      "displayName": "Ahmad Habib",
      "photoUrl": "https://lh3.googleusercontent.com/a-/AOh14GhO4o_fO723EBzG9aZH_2E2uBHOgS6-H2XcOb3hrQ=s64",
      "userId": "07615486812975318675"
     },
     "user_tz": -420
    },
    "id": "a71cddcc",
    "outputId": "d3a353f3-55dc-4188-9a11-cabc2157f657"
   },
   "outputs": [
    {
     "data": {
      "image/png": "[encoded data removed]",
      "text/plain": [
       "<Figure size 1440x720 with 4 Axes>"
      ]
     },
     "metadata": {
      "needs_background": "light"
     },
     "output_type": "display_data"
    }
   ],
   "source": [
    "nrows=2\n",
    "ncols=2\n",
    "fig, ax = plt.subplots(nrows=nrows, ncols=ncols, figsize=(20,10))\n",
    "for i in range(nrows):\n",
    "    for j in range(ncols):\n",
    "        ax[i][j].set_title(num_cols[i][j])\n",
    "        df[[num_cols[i][j]]].boxplot(ax=ax[i][j])\n",
    "plt.show()"
   ]
  },
  {
   "cell_type": "markdown",
   "id": "9fb3e7d9",
   "metadata": {
    "id": "9fb3e7d9"
   },
   "source": [
    "### Suhu"
   ]
  },
  {
   "cell_type": "markdown",
   "id": "cb8b8e98",
   "metadata": {
    "id": "cb8b8e98"
   },
   "source": [
    "`ambil nilai suhu yang lebih dari nol saja`"
   ]
  },
  {
   "cell_type": "code",
   "execution_count": 23,
   "id": "e3b3bf41",
   "metadata": {
    "colab": {
     "base_uri": "https://localhost:8080/",
     "height": 112
    },
    "executionInfo": {
     "elapsed": 16,
     "status": "ok",
     "timestamp": 1633616181531,
     "user": {
      "displayName": "Ahmad Habib",
      "photoUrl": "https://lh3.googleusercontent.com/a-/AOh14GhO4o_fO723EBzG9aZH_2E2uBHOgS6-H2XcOb3hrQ=s64",
      "userId": "07615486812975318675"
     },
     "user_tz": -420
    },
    "id": "e3b3bf41",
    "outputId": "44b7e02b-5479-4d30-efaf-7ca8cec6a9b7"
   },
   "outputs": [
    {
     "data": {
      "text/html": [
       "<div>\n",
       "<style scoped>\n",
       "    .dataframe tbody tr th:only-of-type {\n",
       "        vertical-align: middle;\n",
       "    }\n",
       "\n",
       "    .dataframe tbody tr th {\n",
       "        vertical-align: top;\n",
       "    }\n",
       "\n",
       "    .dataframe thead th {\n",
       "        text-align: right;\n",
       "    }\n",
       "</style>\n",
       "<table border=\"1\" class=\"dataframe\">\n",
       "  <thead>\n",
       "    <tr style=\"text-align: right;\">\n",
       "      <th></th>\n",
       "      <th>PH</th>\n",
       "      <th>cahaya</th>\n",
       "      <th>intensitas_air</th>\n",
       "      <th>suhu</th>\n",
       "      <th>PPM</th>\n",
       "      <th>tinggi_air</th>\n",
       "      <th>aksi</th>\n",
       "    </tr>\n",
       "  </thead>\n",
       "  <tbody>\n",
       "    <tr>\n",
       "      <th>109</th>\n",
       "      <td>5.7</td>\n",
       "      <td>Tidak ada</td>\n",
       "      <td>Cukup</td>\n",
       "      <td>-300.0</td>\n",
       "      <td>1991.0</td>\n",
       "      <td>624</td>\n",
       "      <td>Tidak melakukan apa-apa</td>\n",
       "    </tr>\n",
       "    <tr>\n",
       "      <th>118</th>\n",
       "      <td>5.9</td>\n",
       "      <td>Tidak ada</td>\n",
       "      <td>Cukup</td>\n",
       "      <td>-100.0</td>\n",
       "      <td>1443.0</td>\n",
       "      <td>401</td>\n",
       "      <td>Tidak melakukan apa-apa</td>\n",
       "    </tr>\n",
       "  </tbody>\n",
       "</table>\n",
       "</div>"
      ],
      "text/plain": [
       "      PH     cahaya intensitas_air   suhu     PPM  tinggi_air  \\\n",
       "109  5.7  Tidak ada          Cukup -300.0  1991.0         624   \n",
       "118  5.9  Tidak ada          Cukup -100.0  1443.0         401   \n",
       "\n",
       "                        aksi  \n",
       "109  Tidak melakukan apa-apa  \n",
       "118  Tidak melakukan apa-apa  "
      ]
     },
     "execution_count": 23,
     "metadata": {},
     "output_type": "execute_result"
    }
   ],
   "source": [
    "df[df.suhu < 0]"
   ]
  },
  {
   "cell_type": "code",
   "execution_count": 24,
   "id": "17785c3c",
   "metadata": {
    "executionInfo": {
     "elapsed": 14,
     "status": "ok",
     "timestamp": 1633616181533,
     "user": {
      "displayName": "Ahmad Habib",
      "photoUrl": "https://lh3.googleusercontent.com/a-/AOh14GhO4o_fO723EBzG9aZH_2E2uBHOgS6-H2XcOb3hrQ=s64",
      "userId": "07615486812975318675"
     },
     "user_tz": -420
    },
    "id": "17785c3c"
   },
   "outputs": [],
   "source": [
    "df = df[df.suhu > 0]"
   ]
  },
  {
   "cell_type": "markdown",
   "id": "7aaab675",
   "metadata": {
    "id": "7aaab675"
   },
   "source": [
    "### Tinggi air"
   ]
  },
  {
   "cell_type": "code",
   "execution_count": 25,
   "id": "24daf4f9",
   "metadata": {
    "colab": {
     "base_uri": "https://localhost:8080/"
    },
    "executionInfo": {
     "elapsed": 12,
     "status": "ok",
     "timestamp": 1633616181535,
     "user": {
      "displayName": "Ahmad Habib",
      "photoUrl": "https://lh3.googleusercontent.com/a-/AOh14GhO4o_fO723EBzG9aZH_2E2uBHOgS6-H2XcOb3hrQ=s64",
      "userId": "07615486812975318675"
     },
     "user_tz": -420
    },
    "id": "24daf4f9",
    "outputId": "59befc0c-46b8-4411-fd8a-aa326fbc9fc3"
   },
   "outputs": [
    {
     "data": {
      "text/plain": [
       "629"
      ]
     },
     "execution_count": 25,
     "metadata": {},
     "output_type": "execute_result"
    }
   ],
   "source": [
    "df[df.tinggi_air < 8000]['tinggi_air'].max()"
   ]
  },
  {
   "cell_type": "markdown",
   "id": "8646f38d",
   "metadata": {
    "id": "8646f38d"
   },
   "source": [
    "`ambil nilai dibawah 700`"
   ]
  },
  {
   "cell_type": "code",
   "execution_count": 26,
   "id": "0ed4ccbd",
   "metadata": {
    "executionInfo": {
     "elapsed": 19,
     "status": "ok",
     "timestamp": 1633616182016,
     "user": {
      "displayName": "Ahmad Habib",
      "photoUrl": "https://lh3.googleusercontent.com/a-/AOh14GhO4o_fO723EBzG9aZH_2E2uBHOgS6-H2XcOb3hrQ=s64",
      "userId": "07615486812975318675"
     },
     "user_tz": -420
    },
    "id": "0ed4ccbd"
   },
   "outputs": [],
   "source": [
    "df = df[df.tinggi_air < 700]"
   ]
  },
  {
   "cell_type": "markdown",
   "id": "7733edbf",
   "metadata": {
    "id": "7733edbf"
   },
   "source": [
    "### Visualisasi kembali"
   ]
  },
  {
   "cell_type": "code",
   "execution_count": 27,
   "id": "cad4a74f",
   "metadata": {
    "colab": {
     "base_uri": "https://localhost:8080/",
     "height": 608
    },
    "executionInfo": {
     "elapsed": 890,
     "status": "ok",
     "timestamp": 1633616182891,
     "user": {
      "displayName": "Ahmad Habib",
      "photoUrl": "https://lh3.googleusercontent.com/a-/AOh14GhO4o_fO723EBzG9aZH_2E2uBHOgS6-H2XcOb3hrQ=s64",
      "userId": "07615486812975318675"
     },
     "user_tz": -420
    },
    "id": "cad4a74f",
    "outputId": "87ea0610-52c8-4aec-9dbd-0efac69619e0"
   },
   "outputs": [
    {
     "data": {
      "image/png": "[encoded data removed]",
      "text/plain": [
       "<Figure size 1440x720 with 4 Axes>"
      ]
     },
     "metadata": {
      "needs_background": "light"
     },
     "output_type": "display_data"
    }
   ],
   "source": [
    "nrows=2\n",
    "ncols=2\n",
    "fig, ax = plt.subplots(nrows=nrows, ncols=ncols, figsize=(20,10))\n",
    "for i in range(nrows):\n",
    "    for j in range(ncols):\n",
    "        ax[i][j].set_title(num_cols[i][j])\n",
    "        df[[num_cols[i][j]]].boxplot(ax=ax[i][j])\n",
    "plt.show()"
   ]
  },
  {
   "cell_type": "markdown",
   "id": "a44f88dd",
   "metadata": {
    "id": "a44f88dd"
   },
   "source": [
    "`Pada feature PH kami menganggap nilainya bukan pencilan karena masih dalam rentan nilai PH (1-14)`"
   ]
  },
  {
   "cell_type": "markdown",
   "id": "4bc57fc1",
   "metadata": {
    "id": "4bc57fc1"
   },
   "source": [
    "# Cek Imbalance data"
   ]
  },
  {
   "cell_type": "code",
   "execution_count": 28,
   "id": "14a992a7",
   "metadata": {
    "colab": {
     "base_uri": "https://localhost:8080/",
     "height": 441
    },
    "executionInfo": {
     "elapsed": 17,
     "status": "ok",
     "timestamp": 1633616182893,
     "user": {
      "displayName": "Ahmad Habib",
      "photoUrl": "https://lh3.googleusercontent.com/a-/AOh14GhO4o_fO723EBzG9aZH_2E2uBHOgS6-H2XcOb3hrQ=s64",
      "userId": "07615486812975318675"
     },
     "user_tz": -420
    },
    "id": "14a992a7",
    "outputId": "bb8cee32-d2f3-47d7-81f3-62746a3e106f"
   },
   "outputs": [
    {
     "name": "stderr",
     "output_type": "stream",
     "text": [
      "D:\\Pemrograman\\miniconda3\\envs\\my_env\\lib\\site-packages\\seaborn\\_decorators.py:36: FutureWarning: Pass the following variable as a keyword arg: x. From version 0.12, the only valid positional argument will be `data`, and passing other arguments without an explicit keyword will result in an error or misinterpretation.\n",
      "  warnings.warn(\n"
     ]
    },
    {
     "data": {
      "image/png": "[encoded data removed]",
      "text/plain": [
       "<Figure size 1440x432 with 1 Axes>"
      ]
     },
     "metadata": {
      "needs_background": "light"
     },
     "output_type": "display_data"
    }
   ],
   "source": [
    "plt.figure(figsize=(20,6))\n",
    "sns.set_context('notebook', font_scale=1.5)\n",
    "sns.countplot('aksi',data=df, palette=\"Set1\")\n",
    "plt.annotate(''+str(df['aksi'][df['aksi']=='Hidupkan Lampu dan Pompa nutrisi TDS'].count()), xy=(-0.2, 250), xytext=(-0.03, 40), size=15, color='r')\n",
    "plt.annotate(''+str(df['aksi'][df['aksi']=='Tidak melakukan apa-apa'].count()), xy=(-0.2, 100), xytext=(0.97, 200), size=15, color='w')\n",
    "plt.annotate(''+str(df['aksi'][df['aksi']=='Hidupkan Lampu'].count()), xy=(-0.2, 100), xytext=(1.97, 30), size=15, color='w')\n",
    "plt.annotate(''+str(df['aksi'][df['aksi']=='Hidupkan Pompa nutrisi TDS'].count()), xy=(-0.2, 100), xytext=(2.97, 30), size=15, color='purple')\n",
    "plt.tight_layout()\n",
    "plt.show()"
   ]
  },
  {
   "cell_type": "code",
   "execution_count": 29,
   "id": "9638ffb5",
   "metadata": {
    "colab": {
     "base_uri": "https://localhost:8080/"
    },
    "executionInfo": {
     "elapsed": 8,
     "status": "ok",
     "timestamp": 1633616183513,
     "user": {
      "displayName": "Ahmad Habib",
      "photoUrl": "https://lh3.googleusercontent.com/a-/AOh14GhO4o_fO723EBzG9aZH_2E2uBHOgS6-H2XcOb3hrQ=s64",
      "userId": "07615486812975318675"
     },
     "user_tz": -420
    },
    "id": "9638ffb5",
    "outputId": "fd60560e-bf27-43cc-849d-ec053957f3b7"
   },
   "outputs": [
    {
     "data": {
      "text/plain": [
       "array(['Tinggi', 'Cukup', 'Rendah', 'Rendah sekali'], dtype=object)"
      ]
     },
     "execution_count": 29,
     "metadata": {},
     "output_type": "execute_result"
    }
   ],
   "source": [
    "df.intensitas_air.unique()"
   ]
  },
  {
   "cell_type": "markdown",
   "id": "9f4bda48",
   "metadata": {
    "id": "9f4bda48"
   },
   "source": [
    "# Encoding"
   ]
  },
  {
   "cell_type": "code",
   "execution_count": 30,
   "id": "81a9a45b",
   "metadata": {
    "executionInfo": {
     "elapsed": 4,
     "status": "ok",
     "timestamp": 1633616183514,
     "user": {
      "displayName": "Ahmad Habib",
      "photoUrl": "https://lh3.googleusercontent.com/a-/AOh14GhO4o_fO723EBzG9aZH_2E2uBHOgS6-H2XcOb3hrQ=s64",
      "userId": "07615486812975318675"
     },
     "user_tz": -420
    },
    "id": "81a9a45b"
   },
   "outputs": [],
   "source": [
    "df_backup = df.copy(deep=True)"
   ]
  },
  {
   "cell_type": "code",
   "execution_count": 31,
   "id": "b228e1a5",
   "metadata": {
    "executionInfo": {
     "elapsed": 5,
     "status": "ok",
     "timestamp": 1633616183516,
     "user": {
      "displayName": "Ahmad Habib",
      "photoUrl": "https://lh3.googleusercontent.com/a-/AOh14GhO4o_fO723EBzG9aZH_2E2uBHOgS6-H2XcOb3hrQ=s64",
      "userId": "07615486812975318675"
     },
     "user_tz": -420
    },
    "id": "b228e1a5"
   },
   "outputs": [],
   "source": [
    "#applymap dengan dict untuk label encoding\n",
    "mapping = {'Rendah sekali': 1,\n",
    "           'Rendah': 2,\n",
    "           'Cukup': 3,\n",
    "           'Tinggi': 4}\n",
    "df.intensitas_air = df[['intensitas_air']].applymap(mapping.get)"
   ]
  },
  {
   "cell_type": "code",
   "execution_count": 32,
   "id": "921bfc2d",
   "metadata": {
    "executionInfo": {
     "elapsed": 6,
     "status": "ok",
     "timestamp": 1633616184548,
     "user": {
      "displayName": "Ahmad Habib",
      "photoUrl": "https://lh3.googleusercontent.com/a-/AOh14GhO4o_fO723EBzG9aZH_2E2uBHOgS6-H2XcOb3hrQ=s64",
      "userId": "07615486812975318675"
     },
     "user_tz": -420
    },
    "id": "921bfc2d"
   },
   "outputs": [],
   "source": [
    "# # one hot encoding cahaya\n",
    "# cahaya = pd.get_dummies(df.cahaya, prefix='cahaya_')\n",
    "# df = pd.concat([df, cahaya], axis=1)\n",
    "# df.drop(columns='cahaya', inplace=True)\n",
    "# df.head()"
   ]
  },
  {
   "cell_type": "code",
   "execution_count": 33,
   "id": "1791fbf0",
   "metadata": {
    "colab": {
     "base_uri": "https://localhost:8080/"
    },
    "executionInfo": {
     "elapsed": 8,
     "status": "ok",
     "timestamp": 1633616184551,
     "user": {
      "displayName": "Ahmad Habib",
      "photoUrl": "https://lh3.googleusercontent.com/a-/AOh14GhO4o_fO723EBzG9aZH_2E2uBHOgS6-H2XcOb3hrQ=s64",
      "userId": "07615486812975318675"
     },
     "user_tz": -420
    },
    "id": "1791fbf0",
    "outputId": "3d29629f-48ef-4ba7-bd7d-87fa9a511170"
   },
   "outputs": [
    {
     "data": {
      "text/plain": [
       "array(['Ada', 'Tidak ada'], dtype=object)"
      ]
     },
     "execution_count": 33,
     "metadata": {},
     "output_type": "execute_result"
    }
   ],
   "source": [
    "df.cahaya.unique()"
   ]
  },
  {
   "cell_type": "code",
   "execution_count": 34,
   "id": "65505add",
   "metadata": {
    "executionInfo": {
     "elapsed": 3,
     "status": "ok",
     "timestamp": 1633616185081,
     "user": {
      "displayName": "Ahmad Habib",
      "photoUrl": "https://lh3.googleusercontent.com/a-/AOh14GhO4o_fO723EBzG9aZH_2E2uBHOgS6-H2XcOb3hrQ=s64",
      "userId": "07615486812975318675"
     },
     "user_tz": -420
    },
    "id": "65505add"
   },
   "outputs": [],
   "source": [
    "#applymap dengan dict untuk label encoding\n",
    "mapping2 = {'Tidak ada': 0,\n",
    "           'Ada': 1}\n",
    "df.cahaya = df[['cahaya']].applymap(mapping2.get)"
   ]
  },
  {
   "cell_type": "code",
   "execution_count": 35,
   "id": "6d444f8c",
   "metadata": {
    "colab": {
     "base_uri": "https://localhost:8080/",
     "height": 206
    },
    "executionInfo": {
     "elapsed": 7,
     "status": "ok",
     "timestamp": 1633616185520,
     "user": {
      "displayName": "Ahmad Habib",
      "photoUrl": "https://lh3.googleusercontent.com/a-/AOh14GhO4o_fO723EBzG9aZH_2E2uBHOgS6-H2XcOb3hrQ=s64",
      "userId": "07615486812975318675"
     },
     "user_tz": -420
    },
    "id": "6d444f8c",
    "outputId": "4b1c8ff1-ff5a-4aee-ecc7-da2f9f750094"
   },
   "outputs": [
    {
     "data": {
      "text/html": [
       "<div>\n",
       "<style scoped>\n",
       "    .dataframe tbody tr th:only-of-type {\n",
       "        vertical-align: middle;\n",
       "    }\n",
       "\n",
       "    .dataframe tbody tr th {\n",
       "        vertical-align: top;\n",
       "    }\n",
       "\n",
       "    .dataframe thead th {\n",
       "        text-align: right;\n",
       "    }\n",
       "</style>\n",
       "<table border=\"1\" class=\"dataframe\">\n",
       "  <thead>\n",
       "    <tr style=\"text-align: right;\">\n",
       "      <th></th>\n",
       "      <th>PH</th>\n",
       "      <th>cahaya</th>\n",
       "      <th>intensitas_air</th>\n",
       "      <th>suhu</th>\n",
       "      <th>PPM</th>\n",
       "      <th>tinggi_air</th>\n",
       "      <th>aksi</th>\n",
       "    </tr>\n",
       "  </thead>\n",
       "  <tbody>\n",
       "    <tr>\n",
       "      <th>0</th>\n",
       "      <td>6.5</td>\n",
       "      <td>1</td>\n",
       "      <td>4</td>\n",
       "      <td>27.0</td>\n",
       "      <td>188.0</td>\n",
       "      <td>622</td>\n",
       "      <td>4</td>\n",
       "    </tr>\n",
       "    <tr>\n",
       "      <th>1</th>\n",
       "      <td>5.7</td>\n",
       "      <td>1</td>\n",
       "      <td>4</td>\n",
       "      <td>26.9</td>\n",
       "      <td>79.0</td>\n",
       "      <td>557</td>\n",
       "      <td>4</td>\n",
       "    </tr>\n",
       "    <tr>\n",
       "      <th>2</th>\n",
       "      <td>6.0</td>\n",
       "      <td>1</td>\n",
       "      <td>4</td>\n",
       "      <td>27.0</td>\n",
       "      <td>11.0</td>\n",
       "      <td>491</td>\n",
       "      <td>4</td>\n",
       "    </tr>\n",
       "    <tr>\n",
       "      <th>4</th>\n",
       "      <td>6.2</td>\n",
       "      <td>1</td>\n",
       "      <td>4</td>\n",
       "      <td>27.1</td>\n",
       "      <td>602.0</td>\n",
       "      <td>444</td>\n",
       "      <td>1</td>\n",
       "    </tr>\n",
       "    <tr>\n",
       "      <th>5</th>\n",
       "      <td>6.1</td>\n",
       "      <td>1</td>\n",
       "      <td>4</td>\n",
       "      <td>27.0</td>\n",
       "      <td>561.0</td>\n",
       "      <td>405</td>\n",
       "      <td>2</td>\n",
       "    </tr>\n",
       "  </tbody>\n",
       "</table>\n",
       "</div>"
      ],
      "text/plain": [
       "    PH  cahaya  intensitas_air  suhu    PPM  tinggi_air  aksi\n",
       "0  6.5       1               4  27.0  188.0         622     4\n",
       "1  5.7       1               4  26.9   79.0         557     4\n",
       "2  6.0       1               4  27.0   11.0         491     4\n",
       "4  6.2       1               4  27.1  602.0         444     1\n",
       "5  6.1       1               4  27.0  561.0         405     2"
      ]
     },
     "execution_count": 35,
     "metadata": {},
     "output_type": "execute_result"
    }
   ],
   "source": [
    "#applymap dengan dict untuk label encoding\n",
    "mapping3 = {'Tidak melakukan apa-apa': 1,\n",
    "           'Hidupkan Lampu': 2,\n",
    "           'Hidupkan Pompa nutrisi TDS': 3,\n",
    "           'Hidupkan Lampu dan Pompa nutrisi TDS': 4}\n",
    "df.aksi = df[['aksi']].applymap(mapping3.get)\n",
    "df.head()"
   ]
  },
  {
   "cell_type": "code",
   "execution_count": 36,
   "id": "accfa3be",
   "metadata": {
    "colab": {
     "base_uri": "https://localhost:8080/",
     "height": 269
    },
    "executionInfo": {
     "elapsed": 6,
     "status": "ok",
     "timestamp": 1633616185520,
     "user": {
      "displayName": "Ahmad Habib",
      "photoUrl": "https://lh3.googleusercontent.com/a-/AOh14GhO4o_fO723EBzG9aZH_2E2uBHOgS6-H2XcOb3hrQ=s64",
      "userId": "07615486812975318675"
     },
     "user_tz": -420
    },
    "id": "accfa3be",
    "outputId": "7770aa7e-0a3b-495a-8741-00382bdf8dd4"
   },
   "outputs": [
    {
     "data": {
      "text/html": [
       "<div>\n",
       "<style scoped>\n",
       "    .dataframe tbody tr th:only-of-type {\n",
       "        vertical-align: middle;\n",
       "    }\n",
       "\n",
       "    .dataframe tbody tr th {\n",
       "        vertical-align: top;\n",
       "    }\n",
       "\n",
       "    .dataframe thead th {\n",
       "        text-align: right;\n",
       "    }\n",
       "</style>\n",
       "<table border=\"1\" class=\"dataframe\">\n",
       "  <thead>\n",
       "    <tr style=\"text-align: right;\">\n",
       "      <th></th>\n",
       "      <th>aksi</th>\n",
       "    </tr>\n",
       "  </thead>\n",
       "  <tbody>\n",
       "    <tr>\n",
       "      <th>PH</th>\n",
       "      <td>0.104946</td>\n",
       "    </tr>\n",
       "    <tr>\n",
       "      <th>cahaya</th>\n",
       "      <td>0.341421</td>\n",
       "    </tr>\n",
       "    <tr>\n",
       "      <th>intensitas_air</th>\n",
       "      <td>-0.045024</td>\n",
       "    </tr>\n",
       "    <tr>\n",
       "      <th>suhu</th>\n",
       "      <td>-0.530751</td>\n",
       "    </tr>\n",
       "    <tr>\n",
       "      <th>PPM</th>\n",
       "      <td>-0.271730</td>\n",
       "    </tr>\n",
       "    <tr>\n",
       "      <th>tinggi_air</th>\n",
       "      <td>0.098685</td>\n",
       "    </tr>\n",
       "    <tr>\n",
       "      <th>aksi</th>\n",
       "      <td>1.000000</td>\n",
       "    </tr>\n",
       "  </tbody>\n",
       "</table>\n",
       "</div>"
      ],
      "text/plain": [
       "                    aksi\n",
       "PH              0.104946\n",
       "cahaya          0.341421\n",
       "intensitas_air -0.045024\n",
       "suhu           -0.530751\n",
       "PPM            -0.271730\n",
       "tinggi_air      0.098685\n",
       "aksi            1.000000"
      ]
     },
     "execution_count": 36,
     "metadata": {},
     "output_type": "execute_result"
    }
   ],
   "source": [
    "df.corr()['aksi'].to_frame()"
   ]
  },
  {
   "cell_type": "code",
   "execution_count": 37,
   "id": "8e365b45",
   "metadata": {
    "executionInfo": {
     "elapsed": 2,
     "status": "ok",
     "timestamp": 1633616185940,
     "user": {
      "displayName": "Ahmad Habib",
      "photoUrl": "https://lh3.googleusercontent.com/a-/AOh14GhO4o_fO723EBzG9aZH_2E2uBHOgS6-H2XcOb3hrQ=s64",
      "userId": "07615486812975318675"
     },
     "user_tz": -420
    },
    "id": "8e365b45"
   },
   "outputs": [],
   "source": [
    "X = df.drop(columns=\"aksi\")\n",
    "y = df.aksi"
   ]
  },
  {
   "cell_type": "markdown",
   "id": "90f3ca23",
   "metadata": {
    "id": "90f3ca23"
   },
   "source": [
    "# Handle dengan SMOTE"
   ]
  },
  {
   "cell_type": "code",
   "execution_count": 38,
   "id": "zn994ffvGNVS",
   "metadata": {
    "colab": {
     "base_uri": "https://localhost:8080/"
    },
    "executionInfo": {
     "elapsed": 6,
     "status": "ok",
     "timestamp": 1633616188920,
     "user": {
      "displayName": "Ahmad Habib",
      "photoUrl": "https://lh3.googleusercontent.com/a-/AOh14GhO4o_fO723EBzG9aZH_2E2uBHOgS6-H2XcOb3hrQ=s64",
      "userId": "07615486812975318675"
     },
     "user_tz": -420
    },
    "id": "zn994ffvGNVS",
    "outputId": "e106f2b1-f2dd-43b3-c36c-2a1eb47bf5eb"
   },
   "outputs": [
    {
     "name": "stdout",
     "output_type": "stream",
     "text": [
      "Shape of X before SMOTE: (612, 6)\n",
      "Shape of X after SMOTE: (1876, 6)\n"
     ]
    }
   ],
   "source": [
    "from imblearn.over_sampling import SMOTE \n",
    "\n",
    "sm = SMOTE(random_state=42)\n",
    "\n",
    "X_sm, y_sm = sm.fit_resample(X, y)\n",
    "\n",
    "print(f'''Shape of X before SMOTE: {X.shape}\n",
    "Shape of X after SMOTE: {X_sm.shape}''')"
   ]
  },
  {
   "cell_type": "code",
   "execution_count": 39,
   "id": "DL0p7Cry4o3c",
   "metadata": {
    "colab": {
     "base_uri": "https://localhost:8080/",
     "height": 424
    },
    "executionInfo": {
     "elapsed": 415,
     "status": "ok",
     "timestamp": 1633616211033,
     "user": {
      "displayName": "Ahmad Habib",
      "photoUrl": "https://lh3.googleusercontent.com/a-/AOh14GhO4o_fO723EBzG9aZH_2E2uBHOgS6-H2XcOb3hrQ=s64",
      "userId": "07615486812975318675"
     },
     "user_tz": -420
    },
    "id": "DL0p7Cry4o3c",
    "outputId": "87311e91-e8b2-4a90-a3db-9f51c044d876"
   },
   "outputs": [
    {
     "data": {
      "text/html": [
       "<div>\n",
       "<style scoped>\n",
       "    .dataframe tbody tr th:only-of-type {\n",
       "        vertical-align: middle;\n",
       "    }\n",
       "\n",
       "    .dataframe tbody tr th {\n",
       "        vertical-align: top;\n",
       "    }\n",
       "\n",
       "    .dataframe thead th {\n",
       "        text-align: right;\n",
       "    }\n",
       "</style>\n",
       "<table border=\"1\" class=\"dataframe\">\n",
       "  <thead>\n",
       "    <tr style=\"text-align: right;\">\n",
       "      <th></th>\n",
       "      <th>PH</th>\n",
       "      <th>cahaya</th>\n",
       "      <th>intensitas_air</th>\n",
       "      <th>suhu</th>\n",
       "      <th>PPM</th>\n",
       "      <th>tinggi_air</th>\n",
       "    </tr>\n",
       "  </thead>\n",
       "  <tbody>\n",
       "    <tr>\n",
       "      <th>0</th>\n",
       "      <td>6.500000</td>\n",
       "      <td>1</td>\n",
       "      <td>4</td>\n",
       "      <td>27.000000</td>\n",
       "      <td>188.000000</td>\n",
       "      <td>622</td>\n",
       "    </tr>\n",
       "    <tr>\n",
       "      <th>1</th>\n",
       "      <td>5.700000</td>\n",
       "      <td>1</td>\n",
       "      <td>4</td>\n",
       "      <td>26.900000</td>\n",
       "      <td>79.000000</td>\n",
       "      <td>557</td>\n",
       "    </tr>\n",
       "    <tr>\n",
       "      <th>2</th>\n",
       "      <td>6.000000</td>\n",
       "      <td>1</td>\n",
       "      <td>4</td>\n",
       "      <td>27.000000</td>\n",
       "      <td>11.000000</td>\n",
       "      <td>491</td>\n",
       "    </tr>\n",
       "    <tr>\n",
       "      <th>3</th>\n",
       "      <td>6.200000</td>\n",
       "      <td>1</td>\n",
       "      <td>4</td>\n",
       "      <td>27.100000</td>\n",
       "      <td>602.000000</td>\n",
       "      <td>444</td>\n",
       "    </tr>\n",
       "    <tr>\n",
       "      <th>4</th>\n",
       "      <td>6.100000</td>\n",
       "      <td>1</td>\n",
       "      <td>4</td>\n",
       "      <td>27.000000</td>\n",
       "      <td>561.000000</td>\n",
       "      <td>405</td>\n",
       "    </tr>\n",
       "    <tr>\n",
       "      <th>...</th>\n",
       "      <td>...</td>\n",
       "      <td>...</td>\n",
       "      <td>...</td>\n",
       "      <td>...</td>\n",
       "      <td>...</td>\n",
       "      <td>...</td>\n",
       "    </tr>\n",
       "    <tr>\n",
       "      <th>1871</th>\n",
       "      <td>10.137467</td>\n",
       "      <td>1</td>\n",
       "      <td>3</td>\n",
       "      <td>26.678660</td>\n",
       "      <td>215.389534</td>\n",
       "      <td>395</td>\n",
       "    </tr>\n",
       "    <tr>\n",
       "      <th>1872</th>\n",
       "      <td>6.720873</td>\n",
       "      <td>1</td>\n",
       "      <td>1</td>\n",
       "      <td>26.750727</td>\n",
       "      <td>129.848207</td>\n",
       "      <td>225</td>\n",
       "    </tr>\n",
       "    <tr>\n",
       "      <th>1873</th>\n",
       "      <td>2.700360</td>\n",
       "      <td>1</td>\n",
       "      <td>1</td>\n",
       "      <td>27.000000</td>\n",
       "      <td>85.556357</td>\n",
       "      <td>489</td>\n",
       "    </tr>\n",
       "    <tr>\n",
       "      <th>1874</th>\n",
       "      <td>5.358368</td>\n",
       "      <td>1</td>\n",
       "      <td>2</td>\n",
       "      <td>26.540852</td>\n",
       "      <td>84.927415</td>\n",
       "      <td>135</td>\n",
       "    </tr>\n",
       "    <tr>\n",
       "      <th>1875</th>\n",
       "      <td>7.195073</td>\n",
       "      <td>1</td>\n",
       "      <td>1</td>\n",
       "      <td>26.966469</td>\n",
       "      <td>392.609486</td>\n",
       "      <td>257</td>\n",
       "    </tr>\n",
       "  </tbody>\n",
       "</table>\n",
       "<p>1876 rows × 6 columns</p>\n",
       "</div>"
      ],
      "text/plain": [
       "             PH  cahaya  intensitas_air       suhu         PPM  tinggi_air\n",
       "0      6.500000       1               4  27.000000  188.000000         622\n",
       "1      5.700000       1               4  26.900000   79.000000         557\n",
       "2      6.000000       1               4  27.000000   11.000000         491\n",
       "3      6.200000       1               4  27.100000  602.000000         444\n",
       "4      6.100000       1               4  27.000000  561.000000         405\n",
       "...         ...     ...             ...        ...         ...         ...\n",
       "1871  10.137467       1               3  26.678660  215.389534         395\n",
       "1872   6.720873       1               1  26.750727  129.848207         225\n",
       "1873   2.700360       1               1  27.000000   85.556357         489\n",
       "1874   5.358368       1               2  26.540852   84.927415         135\n",
       "1875   7.195073       1               1  26.966469  392.609486         257\n",
       "\n",
       "[1876 rows x 6 columns]"
      ]
     },
     "execution_count": 39,
     "metadata": {},
     "output_type": "execute_result"
    }
   ],
   "source": [
    "X_sm"
   ]
  },
  {
   "cell_type": "code",
   "execution_count": 40,
   "id": "R4X5oKUU4tfm",
   "metadata": {
    "colab": {
     "base_uri": "https://localhost:8080/",
     "height": 206
    },
    "executionInfo": {
     "elapsed": 402,
     "status": "ok",
     "timestamp": 1633616261231,
     "user": {
      "displayName": "Ahmad Habib",
      "photoUrl": "https://lh3.googleusercontent.com/a-/AOh14GhO4o_fO723EBzG9aZH_2E2uBHOgS6-H2XcOb3hrQ=s64",
      "userId": "07615486812975318675"
     },
     "user_tz": -420
    },
    "id": "R4X5oKUU4tfm",
    "outputId": "f981db6e-cea4-4a52-98e3-1b47c8d32f81"
   },
   "outputs": [
    {
     "data": {
      "text/html": [
       "<div>\n",
       "<style scoped>\n",
       "    .dataframe tbody tr th:only-of-type {\n",
       "        vertical-align: middle;\n",
       "    }\n",
       "\n",
       "    .dataframe tbody tr th {\n",
       "        vertical-align: top;\n",
       "    }\n",
       "\n",
       "    .dataframe thead th {\n",
       "        text-align: right;\n",
       "    }\n",
       "</style>\n",
       "<table border=\"1\" class=\"dataframe\">\n",
       "  <thead>\n",
       "    <tr style=\"text-align: right;\">\n",
       "      <th></th>\n",
       "      <th>PH</th>\n",
       "      <th>cahaya</th>\n",
       "      <th>intensitas_air</th>\n",
       "      <th>suhu</th>\n",
       "      <th>PPM</th>\n",
       "      <th>tinggi_air</th>\n",
       "      <th>aksi</th>\n",
       "    </tr>\n",
       "  </thead>\n",
       "  <tbody>\n",
       "    <tr>\n",
       "      <th>0</th>\n",
       "      <td>6.5</td>\n",
       "      <td>1</td>\n",
       "      <td>4</td>\n",
       "      <td>27.0</td>\n",
       "      <td>188.0</td>\n",
       "      <td>622</td>\n",
       "      <td>4</td>\n",
       "    </tr>\n",
       "    <tr>\n",
       "      <th>1</th>\n",
       "      <td>5.7</td>\n",
       "      <td>1</td>\n",
       "      <td>4</td>\n",
       "      <td>26.9</td>\n",
       "      <td>79.0</td>\n",
       "      <td>557</td>\n",
       "      <td>4</td>\n",
       "    </tr>\n",
       "    <tr>\n",
       "      <th>2</th>\n",
       "      <td>6.0</td>\n",
       "      <td>1</td>\n",
       "      <td>4</td>\n",
       "      <td>27.0</td>\n",
       "      <td>11.0</td>\n",
       "      <td>491</td>\n",
       "      <td>4</td>\n",
       "    </tr>\n",
       "    <tr>\n",
       "      <th>3</th>\n",
       "      <td>6.2</td>\n",
       "      <td>1</td>\n",
       "      <td>4</td>\n",
       "      <td>27.1</td>\n",
       "      <td>602.0</td>\n",
       "      <td>444</td>\n",
       "      <td>1</td>\n",
       "    </tr>\n",
       "    <tr>\n",
       "      <th>4</th>\n",
       "      <td>6.1</td>\n",
       "      <td>1</td>\n",
       "      <td>4</td>\n",
       "      <td>27.0</td>\n",
       "      <td>561.0</td>\n",
       "      <td>405</td>\n",
       "      <td>2</td>\n",
       "    </tr>\n",
       "  </tbody>\n",
       "</table>\n",
       "</div>"
      ],
      "text/plain": [
       "    PH  cahaya  intensitas_air  suhu    PPM  tinggi_air  aksi\n",
       "0  6.5       1               4  27.0  188.0         622     4\n",
       "1  5.7       1               4  26.9   79.0         557     4\n",
       "2  6.0       1               4  27.0   11.0         491     4\n",
       "3  6.2       1               4  27.1  602.0         444     1\n",
       "4  6.1       1               4  27.0  561.0         405     2"
      ]
     },
     "execution_count": 40,
     "metadata": {},
     "output_type": "execute_result"
    }
   ],
   "source": [
    "df_smote = pd.concat([X_sm, y_sm], axis=1)\n",
    "df_smote.head()"
   ]
  },
  {
   "cell_type": "code",
   "execution_count": 41,
   "id": "rSTjF5XIAL1O",
   "metadata": {
    "colab": {
     "base_uri": "https://localhost:8080/"
    },
    "executionInfo": {
     "elapsed": 371,
     "status": "ok",
     "timestamp": 1633616266129,
     "user": {
      "displayName": "Ahmad Habib",
      "photoUrl": "https://lh3.googleusercontent.com/a-/AOh14GhO4o_fO723EBzG9aZH_2E2uBHOgS6-H2XcOb3hrQ=s64",
      "userId": "07615486812975318675"
     },
     "user_tz": -420
    },
    "id": "rSTjF5XIAL1O",
    "outputId": "309c8e5a-0b56-4d3a-b1d2-52d1b15b6611"
   },
   "outputs": [
    {
     "data": {
      "text/plain": [
       "PH                0\n",
       "cahaya            0\n",
       "intensitas_air    0\n",
       "suhu              0\n",
       "PPM               0\n",
       "tinggi_air        0\n",
       "aksi              0\n",
       "dtype: int64"
      ]
     },
     "execution_count": 41,
     "metadata": {},
     "output_type": "execute_result"
    }
   ],
   "source": [
    "df_smote.isnull().sum()"
   ]
  },
  {
   "cell_type": "markdown",
   "id": "a5f159e4",
   "metadata": {
    "id": "a5f159e4"
   },
   "source": [
    "# Visualize"
   ]
  },
  {
   "cell_type": "code",
   "execution_count": 42,
   "id": "9df70dfe",
   "metadata": {
    "colab": {
     "base_uri": "https://localhost:8080/"
    },
    "executionInfo": {
     "elapsed": 12,
     "status": "ok",
     "timestamp": 1633616270344,
     "user": {
      "displayName": "Ahmad Habib",
      "photoUrl": "https://lh3.googleusercontent.com/a-/AOh14GhO4o_fO723EBzG9aZH_2E2uBHOgS6-H2XcOb3hrQ=s64",
      "userId": "07615486812975318675"
     },
     "user_tz": -420
    },
    "id": "9df70dfe",
    "outputId": "cf5c42a4-6e04-46ec-bc16-a8ea4aec7a26"
   },
   "outputs": [
    {
     "data": {
      "text/plain": [
       "(39, 7)"
      ]
     },
     "execution_count": 42,
     "metadata": {},
     "output_type": "execute_result"
    }
   ],
   "source": [
    "df[df['aksi'] == 4].shape"
   ]
  },
  {
   "cell_type": "code",
   "execution_count": 43,
   "id": "83d1ea19",
   "metadata": {
    "colab": {
     "base_uri": "https://localhost:8080/"
    },
    "executionInfo": {
     "elapsed": 9,
     "status": "ok",
     "timestamp": 1633616272227,
     "user": {
      "displayName": "Ahmad Habib",
      "photoUrl": "https://lh3.googleusercontent.com/a-/AOh14GhO4o_fO723EBzG9aZH_2E2uBHOgS6-H2XcOb3hrQ=s64",
      "userId": "07615486812975318675"
     },
     "user_tz": -420
    },
    "id": "83d1ea19",
    "outputId": "58fcf219-4286-45ae-ae4c-e090c79c7da3"
   },
   "outputs": [
    {
     "data": {
      "text/plain": [
       "(469, 7)"
      ]
     },
     "execution_count": 43,
     "metadata": {},
     "output_type": "execute_result"
    }
   ],
   "source": [
    "df_smote[df_smote['aksi'] == 4].shape"
   ]
  },
  {
   "cell_type": "markdown",
   "id": "c50a605a",
   "metadata": {
    "id": "c50a605a"
   },
   "source": [
    "### Swap numeric menjadi kategoric lagi untuk visualisasi"
   ]
  },
  {
   "cell_type": "code",
   "execution_count": 44,
   "id": "oXSBgVvMB96s",
   "metadata": {
    "colab": {
     "base_uri": "https://localhost:8080/"
    },
    "executionInfo": {
     "elapsed": 411,
     "status": "ok",
     "timestamp": 1633616276656,
     "user": {
      "displayName": "Ahmad Habib",
      "photoUrl": "https://lh3.googleusercontent.com/a-/AOh14GhO4o_fO723EBzG9aZH_2E2uBHOgS6-H2XcOb3hrQ=s64",
      "userId": "07615486812975318675"
     },
     "user_tz": -420
    },
    "id": "oXSBgVvMB96s",
    "outputId": "4dc085a0-ecda-41cd-c24e-349cf9f8901d"
   },
   "outputs": [
    {
     "data": {
      "text/plain": [
       "array([4, 3, 2, 1], dtype=int64)"
      ]
     },
     "execution_count": 44,
     "metadata": {},
     "output_type": "execute_result"
    }
   ],
   "source": [
    "df_smote['intensitas_air'].unique()"
   ]
  },
  {
   "cell_type": "code",
   "execution_count": 45,
   "id": "3ea25cf9",
   "metadata": {
    "colab": {
     "base_uri": "https://localhost:8080/"
    },
    "executionInfo": {
     "elapsed": 473,
     "status": "ok",
     "timestamp": 1633616283896,
     "user": {
      "displayName": "Ahmad Habib",
      "photoUrl": "https://lh3.googleusercontent.com/a-/AOh14GhO4o_fO723EBzG9aZH_2E2uBHOgS6-H2XcOb3hrQ=s64",
      "userId": "07615486812975318675"
     },
     "user_tz": -420
    },
    "id": "3ea25cf9",
    "outputId": "8b1a0257-ee32-44f1-a0af-bba2475ed0d2"
   },
   "outputs": [
    {
     "data": {
      "text/plain": [
       "{1: 'Rendah sekali', 2: 'Rendah', 3: 'Cukup', 4: 'Tinggi'}"
      ]
     },
     "execution_count": 45,
     "metadata": {},
     "output_type": "execute_result"
    }
   ],
   "source": [
    "{value: key for key, value in mapping.items()}"
   ]
  },
  {
   "cell_type": "code",
   "execution_count": 46,
   "id": "74816313",
   "metadata": {
    "colab": {
     "base_uri": "https://localhost:8080/",
     "height": 206
    },
    "executionInfo": {
     "elapsed": 10,
     "status": "ok",
     "timestamp": 1633616284542,
     "user": {
      "displayName": "Ahmad Habib",
      "photoUrl": "https://lh3.googleusercontent.com/a-/AOh14GhO4o_fO723EBzG9aZH_2E2uBHOgS6-H2XcOb3hrQ=s64",
      "userId": "07615486812975318675"
     },
     "user_tz": -420
    },
    "id": "74816313",
    "outputId": "c1b240fe-c351-4e53-dfd3-734cef51cb3b"
   },
   "outputs": [
    {
     "data": {
      "text/html": [
       "<div>\n",
       "<style scoped>\n",
       "    .dataframe tbody tr th:only-of-type {\n",
       "        vertical-align: middle;\n",
       "    }\n",
       "\n",
       "    .dataframe tbody tr th {\n",
       "        vertical-align: top;\n",
       "    }\n",
       "\n",
       "    .dataframe thead th {\n",
       "        text-align: right;\n",
       "    }\n",
       "</style>\n",
       "<table border=\"1\" class=\"dataframe\">\n",
       "  <thead>\n",
       "    <tr style=\"text-align: right;\">\n",
       "      <th></th>\n",
       "      <th>PH</th>\n",
       "      <th>cahaya</th>\n",
       "      <th>intensitas_air</th>\n",
       "      <th>suhu</th>\n",
       "      <th>PPM</th>\n",
       "      <th>tinggi_air</th>\n",
       "      <th>aksi</th>\n",
       "    </tr>\n",
       "  </thead>\n",
       "  <tbody>\n",
       "    <tr>\n",
       "      <th>0</th>\n",
       "      <td>6.5</td>\n",
       "      <td>Ada</td>\n",
       "      <td>Tinggi</td>\n",
       "      <td>27.0</td>\n",
       "      <td>188.0</td>\n",
       "      <td>622</td>\n",
       "      <td>Hidupkan Lampu dan Pompa nutrisi TDS</td>\n",
       "    </tr>\n",
       "    <tr>\n",
       "      <th>1</th>\n",
       "      <td>5.7</td>\n",
       "      <td>Ada</td>\n",
       "      <td>Tinggi</td>\n",
       "      <td>26.9</td>\n",
       "      <td>79.0</td>\n",
       "      <td>557</td>\n",
       "      <td>Hidupkan Lampu dan Pompa nutrisi TDS</td>\n",
       "    </tr>\n",
       "    <tr>\n",
       "      <th>2</th>\n",
       "      <td>6.0</td>\n",
       "      <td>Ada</td>\n",
       "      <td>Tinggi</td>\n",
       "      <td>27.0</td>\n",
       "      <td>11.0</td>\n",
       "      <td>491</td>\n",
       "      <td>Hidupkan Lampu dan Pompa nutrisi TDS</td>\n",
       "    </tr>\n",
       "    <tr>\n",
       "      <th>3</th>\n",
       "      <td>6.2</td>\n",
       "      <td>Ada</td>\n",
       "      <td>Tinggi</td>\n",
       "      <td>27.1</td>\n",
       "      <td>602.0</td>\n",
       "      <td>444</td>\n",
       "      <td>Tidak melakukan apa-apa</td>\n",
       "    </tr>\n",
       "    <tr>\n",
       "      <th>4</th>\n",
       "      <td>6.1</td>\n",
       "      <td>Ada</td>\n",
       "      <td>Tinggi</td>\n",
       "      <td>27.0</td>\n",
       "      <td>561.0</td>\n",
       "      <td>405</td>\n",
       "      <td>Hidupkan Lampu</td>\n",
       "    </tr>\n",
       "  </tbody>\n",
       "</table>\n",
       "</div>"
      ],
      "text/plain": [
       "    PH cahaya intensitas_air  suhu    PPM  tinggi_air  \\\n",
       "0  6.5    Ada         Tinggi  27.0  188.0         622   \n",
       "1  5.7    Ada         Tinggi  26.9   79.0         557   \n",
       "2  6.0    Ada         Tinggi  27.0   11.0         491   \n",
       "3  6.2    Ada         Tinggi  27.1  602.0         444   \n",
       "4  6.1    Ada         Tinggi  27.0  561.0         405   \n",
       "\n",
       "                                   aksi  \n",
       "0  Hidupkan Lampu dan Pompa nutrisi TDS  \n",
       "1  Hidupkan Lampu dan Pompa nutrisi TDS  \n",
       "2  Hidupkan Lampu dan Pompa nutrisi TDS  \n",
       "3               Tidak melakukan apa-apa  \n",
       "4                        Hidupkan Lampu  "
      ]
     },
     "execution_count": 46,
     "metadata": {},
     "output_type": "execute_result"
    }
   ],
   "source": [
    "df_smote['intensitas_air'] = df_smote[['intensitas_air']].applymap({value: key for key, value in mapping.items()}.get)\n",
    "df_smote['cahaya'] = df_smote[['cahaya']].applymap({value: key for key, value in mapping2.items()}.get)\n",
    "df_smote['aksi'] = df_smote[['aksi']].applymap({value: key for key, value in mapping3.items()}.get)\n",
    "df_smote.head()"
   ]
  },
  {
   "cell_type": "markdown",
   "id": "95a6957a",
   "metadata": {
    "id": "95a6957a"
   },
   "source": [
    "### PH "
   ]
  },
  {
   "cell_type": "code",
   "execution_count": 47,
   "id": "b07709ca",
   "metadata": {
    "colab": {
     "base_uri": "https://localhost:8080/",
     "height": 465
    },
    "executionInfo": {
     "elapsed": 667,
     "status": "ok",
     "timestamp": 1633616290046,
     "user": {
      "displayName": "Ahmad Habib",
      "photoUrl": "https://lh3.googleusercontent.com/a-/AOh14GhO4o_fO723EBzG9aZH_2E2uBHOgS6-H2XcOb3hrQ=s64",
      "userId": "07615486812975318675"
     },
     "user_tz": -420
    },
    "id": "b07709ca",
    "outputId": "570c4051-b2ac-464d-90f6-711cef8397ec",
    "scrolled": false
   },
   "outputs": [
    {
     "data": {
      "image/png": "[encoded data removed]",
      "text/plain": [
       "<Figure size 1800x648 with 1 Axes>"
      ]
     },
     "metadata": {
      "needs_background": "light"
     },
     "output_type": "display_data"
    }
   ],
   "source": [
    "import matplotlib.colors as mcolors\n",
    "plt.figure(figsize=(25,9))\n",
    "df_smote.groupby('aksi')['PH'].mean().plot(kind='bar',color=['tab:blue', 'tab:orange', 'tab:green', 'tab:red'])\n",
    "plt.xticks(rotation=0)\n",
    "plt.title(\"Rata-rata PH\")\n",
    "plt.tight_layout()\n",
    "plt.show()"
   ]
  },
  {
   "cell_type": "code",
   "execution_count": 48,
   "id": "a105eb29",
   "metadata": {
    "colab": {
     "base_uri": "https://localhost:8080/",
     "height": 175
    },
    "executionInfo": {
     "elapsed": 10,
     "status": "ok",
     "timestamp": 1633616290554,
     "user": {
      "displayName": "Ahmad Habib",
      "photoUrl": "https://lh3.googleusercontent.com/a-/AOh14GhO4o_fO723EBzG9aZH_2E2uBHOgS6-H2XcOb3hrQ=s64",
      "userId": "07615486812975318675"
     },
     "user_tz": -420
    },
    "id": "a105eb29",
    "outputId": "87a1c3be-b917-4912-d60a-c7c745aafb76"
   },
   "outputs": [
    {
     "data": {
      "text/html": [
       "<div>\n",
       "<style scoped>\n",
       "    .dataframe tbody tr th:only-of-type {\n",
       "        vertical-align: middle;\n",
       "    }\n",
       "\n",
       "    .dataframe tbody tr th {\n",
       "        vertical-align: top;\n",
       "    }\n",
       "\n",
       "    .dataframe thead th {\n",
       "        text-align: right;\n",
       "    }\n",
       "</style>\n",
       "<table border=\"1\" class=\"dataframe\">\n",
       "  <thead>\n",
       "    <tr style=\"text-align: right;\">\n",
       "      <th></th>\n",
       "      <th>aksi</th>\n",
       "      <th>PH</th>\n",
       "    </tr>\n",
       "  </thead>\n",
       "  <tbody>\n",
       "    <tr>\n",
       "      <th>0</th>\n",
       "      <td>Hidupkan Lampu</td>\n",
       "      <td>6.895240</td>\n",
       "    </tr>\n",
       "    <tr>\n",
       "      <th>1</th>\n",
       "      <td>Hidupkan Lampu dan Pompa nutrisi TDS</td>\n",
       "      <td>7.169823</td>\n",
       "    </tr>\n",
       "    <tr>\n",
       "      <th>2</th>\n",
       "      <td>Hidupkan Pompa nutrisi TDS</td>\n",
       "      <td>9.863474</td>\n",
       "    </tr>\n",
       "    <tr>\n",
       "      <th>3</th>\n",
       "      <td>Tidak melakukan apa-apa</td>\n",
       "      <td>6.488714</td>\n",
       "    </tr>\n",
       "  </tbody>\n",
       "</table>\n",
       "</div>"
      ],
      "text/plain": [
       "                                   aksi        PH\n",
       "0                        Hidupkan Lampu  6.895240\n",
       "1  Hidupkan Lampu dan Pompa nutrisi TDS  7.169823\n",
       "2            Hidupkan Pompa nutrisi TDS  9.863474\n",
       "3               Tidak melakukan apa-apa  6.488714"
      ]
     },
     "execution_count": 48,
     "metadata": {},
     "output_type": "execute_result"
    }
   ],
   "source": [
    "ph_aksi = df_smote.groupby('aksi')['PH'].mean().reset_index()\n",
    "ph_aksi"
   ]
  },
  {
   "cell_type": "code",
   "execution_count": 49,
   "id": "cadad6de",
   "metadata": {
    "colab": {
     "base_uri": "https://localhost:8080/"
    },
    "executionInfo": {
     "elapsed": 9,
     "status": "ok",
     "timestamp": 1633616290555,
     "user": {
      "displayName": "Ahmad Habib",
      "photoUrl": "https://lh3.googleusercontent.com/a-/AOh14GhO4o_fO723EBzG9aZH_2E2uBHOgS6-H2XcOb3hrQ=s64",
      "userId": "07615486812975318675"
     },
     "user_tz": -420
    },
    "id": "cadad6de",
    "outputId": "0ff43c97-7135-4b07-df35-acab5da71db0"
   },
   "outputs": [
    {
     "data": {
      "text/plain": [
       "6.895239500080177"
      ]
     },
     "execution_count": 49,
     "metadata": {},
     "output_type": "execute_result"
    }
   ],
   "source": [
    "ph_aksi.iloc[0]['PH']"
   ]
  },
  {
   "cell_type": "code",
   "execution_count": 50,
   "id": "e41393de",
   "metadata": {
    "colab": {
     "base_uri": "https://localhost:8080/",
     "height": 517
    },
    "executionInfo": {
     "elapsed": 6,
     "status": "ok",
     "timestamp": 1633616291230,
     "user": {
      "displayName": "Ahmad Habib",
      "photoUrl": "https://lh3.googleusercontent.com/a-/AOh14GhO4o_fO723EBzG9aZH_2E2uBHOgS6-H2XcOb3hrQ=s64",
      "userId": "07615486812975318675"
     },
     "user_tz": -420
    },
    "id": "e41393de",
    "outputId": "99b9f9bd-0948-4ddd-fffc-9b95c72df4d0",
    "scrolled": false
   },
   "outputs": [
    {
     "data": {
      "image/png": "[encoded data removed]",
      "text/plain": [
       "<Figure size 1800x648 with 1 Axes>"
      ]
     },
     "metadata": {
      "needs_background": "light"
     },
     "output_type": "display_data"
    }
   ],
   "source": [
    "plt.figure(figsize=(25,9))\n",
    "splot = sns.barplot(x='aksi', y='PH', data=ph_aksi)\n",
    "plt.title(\"Rata-rata PH\")\n",
    "# plt.annotate(str(ph_aksi.iloc[0]['PH']), xy=(-0.4, 2), xytext=(-0.29, 2), size=20, color='w')\n",
    "# plt.annotate(str(ph_aksi.iloc[1]['PH']), xy=(0.7, 3), xytext=(0.7, 3), size=20, color='w')\n",
    "# plt.annotate(str(ph_aksi.iloc[2]['PH']), xy=(1.7, 6), xytext=(1.7, 6), size=20, color='w')\n",
    "# plt.annotate(str(ph_aksi.iloc[3]['PH']), xy=(1.7, 3), xytext=(2.7, 3), size=20, color='w')\n",
    "for p in splot.patches:\n",
    "    splot.annotate(format(p.get_height(), '.1f'), (p.get_x() + p.get_width() / 2., p.get_height()), ha = 'center', va = 'center', xytext = (0, 10), textcoords = 'offset points')\n",
    "\n",
    "\n",
    "plt.show()"
   ]
  },
  {
   "cell_type": "markdown",
   "id": "7ded0012",
   "metadata": {
    "id": "7ded0012"
   },
   "source": [
    "### Intensitas Air"
   ]
  },
  {
   "cell_type": "code",
   "execution_count": 51,
   "id": "88cee115",
   "metadata": {
    "colab": {
     "base_uri": "https://localhost:8080/"
    },
    "executionInfo": {
     "elapsed": 12,
     "status": "ok",
     "timestamp": 1633616292390,
     "user": {
      "displayName": "Ahmad Habib",
      "photoUrl": "https://lh3.googleusercontent.com/a-/AOh14GhO4o_fO723EBzG9aZH_2E2uBHOgS6-H2XcOb3hrQ=s64",
      "userId": "07615486812975318675"
     },
     "user_tz": -420
    },
    "id": "88cee115",
    "outputId": "77938630-72b1-41a4-e060-4afe18261fd4"
   },
   "outputs": [
    {
     "data": {
      "text/plain": [
       "array(['Tinggi', 'Cukup', 'Rendah', 'Rendah sekali'], dtype=object)"
      ]
     },
     "execution_count": 51,
     "metadata": {},
     "output_type": "execute_result"
    }
   ],
   "source": [
    "df_smote.intensitas_air.unique()"
   ]
  },
  {
   "cell_type": "code",
   "execution_count": 52,
   "id": "2be74701",
   "metadata": {
    "colab": {
     "base_uri": "https://localhost:8080/",
     "height": 560
    },
    "executionInfo": {
     "elapsed": 9,
     "status": "ok",
     "timestamp": 1633616292391,
     "user": {
      "displayName": "Ahmad Habib",
      "photoUrl": "https://lh3.googleusercontent.com/a-/AOh14GhO4o_fO723EBzG9aZH_2E2uBHOgS6-H2XcOb3hrQ=s64",
      "userId": "07615486812975318675"
     },
     "user_tz": -420
    },
    "id": "2be74701",
    "outputId": "5a70281b-3e7e-4b7a-c019-e7fa13e0a9fe"
   },
   "outputs": [
    {
     "data": {
      "image/png": "[encoded data removed]",
      "text/plain": [
       "<Figure size 1800x720 with 1 Axes>"
      ]
     },
     "metadata": {
      "needs_background": "light"
     },
     "output_type": "display_data"
    }
   ],
   "source": [
    "plt.figure(figsize=(25,10))\n",
    "splot = sns.countplot(x='intensitas_air', hue='aksi', data=df_smote)\n",
    "for p in splot.patches:\n",
    "    splot.annotate(format(p.get_height(), '.1f'), (p.get_x() + p.get_width() / 2., p.get_height()), ha = 'center', va = 'center', xytext = (0, 10), textcoords = 'offset points')\n",
    "\n",
    "plt.title(\"Value count intensitas air\")\n",
    "plt.legend(bbox_to_anchor=(0.9,1))\n",
    "plt.show()"
   ]
  },
  {
   "cell_type": "markdown",
   "id": "797eaf06",
   "metadata": {
    "id": "797eaf06"
   },
   "source": [
    "### Cahaya"
   ]
  },
  {
   "cell_type": "code",
   "execution_count": 56,
   "id": "fe5a9878",
   "metadata": {
    "colab": {
     "base_uri": "https://localhost:8080/",
     "height": 444
    },
    "executionInfo": {
     "elapsed": 11,
     "status": "ok",
     "timestamp": 1633616293494,
     "user": {
      "displayName": "Ahmad Habib",
      "photoUrl": "https://lh3.googleusercontent.com/a-/AOh14GhO4o_fO723EBzG9aZH_2E2uBHOgS6-H2XcOb3hrQ=s64",
      "userId": "07615486812975318675"
     },
     "user_tz": -420
    },
    "id": "fe5a9878",
    "outputId": "05d032f5-05fb-4552-af03-2bc45047dcf4"
   },
   "outputs": [
    {
     "data": {
      "image/png": "[encoded data removed]",
      "text/plain": [
       "<Figure size 1800x720 with 1 Axes>"
      ]
     },
     "metadata": {
      "needs_background": "light"
     },
     "output_type": "display_data"
    }
   ],
   "source": [
    "plt.figure(figsize=(25,10))\n",
    "splot = sns.countplot(x='cahaya', hue='aksi', data=df_smote)\n",
    "for p in splot.patches:\n",
    "    splot.annotate(format(p.get_height(), '.1f'), (p.get_x() + p.get_width() / 2., p.get_height()), ha = 'center', va = 'center', xytext = (0, 10), textcoords = 'offset points')\n",
    "\n",
    "plt.title(\"Value count cahaya\")\n",
    "plt.legend(bbox_to_anchor=(1,1))\n",
    "plt.show()"
   ]
  },
  {
   "cell_type": "markdown",
   "id": "0f2c35e2",
   "metadata": {
    "id": "0f2c35e2"
   },
   "source": [
    "### Suhu"
   ]
  },
  {
   "cell_type": "code",
   "execution_count": 57,
   "id": "946b5973",
   "metadata": {
    "colab": {
     "base_uri": "https://localhost:8080/",
     "height": 517
    },
    "executionInfo": {
     "elapsed": 573,
     "status": "ok",
     "timestamp": 1633616294480,
     "user": {
      "displayName": "Ahmad Habib",
      "photoUrl": "https://lh3.googleusercontent.com/a-/AOh14GhO4o_fO723EBzG9aZH_2E2uBHOgS6-H2XcOb3hrQ=s64",
      "userId": "07615486812975318675"
     },
     "user_tz": -420
    },
    "id": "946b5973",
    "outputId": "f144e630-0cfe-4847-91bb-70103c749e28"
   },
   "outputs": [
    {
     "data": {
      "image/png": "[encoded data removed]",
      "text/plain": [
       "<Figure size 1800x648 with 1 Axes>"
      ]
     },
     "metadata": {
      "needs_background": "light"
     },
     "output_type": "display_data"
    }
   ],
   "source": [
    "plt.figure(figsize=(25,9))\n",
    "splot = sns.barplot(x='aksi', y='suhu', data=df_smote.groupby('aksi')['suhu'].mean().reset_index())\n",
    "for p in splot.patches:\n",
    "    splot.annotate(format(p.get_height(), '.1f'), (p.get_x() + p.get_width() / 2., p.get_height()), ha = 'center', va = 'center', xytext = (0, 10), textcoords = 'offset points')\n",
    "\n",
    "plt.title(\"Rata-rata suhu\")\n",
    "plt.show()"
   ]
  },
  {
   "cell_type": "markdown",
   "id": "f3109fd7",
   "metadata": {
    "id": "f3109fd7"
   },
   "source": [
    "### PPM"
   ]
  },
  {
   "cell_type": "code",
   "execution_count": 58,
   "id": "60ce7822",
   "metadata": {
    "colab": {
     "base_uri": "https://localhost:8080/",
     "height": 510
    },
    "executionInfo": {
     "elapsed": 862,
     "status": "ok",
     "timestamp": 1633616295340,
     "user": {
      "displayName": "Ahmad Habib",
      "photoUrl": "https://lh3.googleusercontent.com/a-/AOh14GhO4o_fO723EBzG9aZH_2E2uBHOgS6-H2XcOb3hrQ=s64",
      "userId": "07615486812975318675"
     },
     "user_tz": -420
    },
    "id": "60ce7822",
    "outputId": "d958510d-76c4-452e-8a90-b447c35dfa3c"
   },
   "outputs": [
    {
     "data": {
      "image/png": "[encoded data removed]",
      "text/plain": [
       "<Figure size 1800x648 with 1 Axes>"
      ]
     },
     "metadata": {
      "needs_background": "light"
     },
     "output_type": "display_data"
    }
   ],
   "source": [
    "plt.figure(figsize=(25,9))\n",
    "splot = sns.barplot(x='aksi', y='PPM', data=df_smote.groupby('aksi')['PPM'].mean().reset_index())\n",
    "for p in splot.patches:\n",
    "    splot.annotate(format(p.get_height(), '.1f'), (p.get_x() + p.get_width() / 2., p.get_height()), ha = 'center', va = 'center', xytext = (0, 10), textcoords = 'offset points')\n",
    "\n",
    "plt.title(\"Rata-rata PPM\")\n",
    "plt.show()"
   ]
  },
  {
   "cell_type": "markdown",
   "id": "354e8b9b",
   "metadata": {
    "id": "354e8b9b"
   },
   "source": [
    "### Tinggi air"
   ]
  },
  {
   "cell_type": "code",
   "execution_count": 59,
   "id": "25be962f",
   "metadata": {
    "colab": {
     "base_uri": "https://localhost:8080/",
     "height": 560
    },
    "executionInfo": {
     "elapsed": 18,
     "status": "ok",
     "timestamp": 1633616296422,
     "user": {
      "displayName": "Ahmad Habib",
      "photoUrl": "https://lh3.googleusercontent.com/a-/AOh14GhO4o_fO723EBzG9aZH_2E2uBHOgS6-H2XcOb3hrQ=s64",
      "userId": "07615486812975318675"
     },
     "user_tz": -420
    },
    "id": "25be962f",
    "outputId": "27347b49-8a9e-4068-a02c-2d7f4ec67b95"
   },
   "outputs": [
    {
     "data": {
      "image/png": "[encoded data removed]",
      "text/plain": [
       "<Figure size 1800x720 with 1 Axes>"
      ]
     },
     "metadata": {
      "needs_background": "light"
     },
     "output_type": "display_data"
    }
   ],
   "source": [
    "plt.figure(figsize=(25,10))\n",
    "splot = sns.barplot(x='aksi', y='tinggi_air', data=df_smote.groupby('aksi')['tinggi_air'].mean().reset_index())\n",
    "for p in splot.patches:\n",
    "    splot.annotate(format(p.get_height(), '.1f'), (p.get_x() + p.get_width() / 2., p.get_height()), ha = 'center', va = 'center', xytext = (0, 10), textcoords = 'offset points')\n",
    "\n",
    "plt.title(\"Rata-rata tinggi_air\")\n",
    "plt.show()"
   ]
  },
  {
   "cell_type": "code",
   "execution_count": 60,
   "id": "D87DFYYsA9gZ",
   "metadata": {
    "colab": {
     "base_uri": "https://localhost:8080/"
    },
    "executionInfo": {
     "elapsed": 12,
     "status": "ok",
     "timestamp": 1633616296423,
     "user": {
      "displayName": "Ahmad Habib",
      "photoUrl": "https://lh3.googleusercontent.com/a-/AOh14GhO4o_fO723EBzG9aZH_2E2uBHOgS6-H2XcOb3hrQ=s64",
      "userId": "07615486812975318675"
     },
     "user_tz": -420
    },
    "id": "D87DFYYsA9gZ",
    "outputId": "cc825c59-6dec-4599-ca76-41f8f6788fdc"
   },
   "outputs": [
    {
     "data": {
      "text/plain": [
       "PH                0\n",
       "cahaya            0\n",
       "intensitas_air    0\n",
       "suhu              0\n",
       "PPM               0\n",
       "tinggi_air        0\n",
       "aksi              0\n",
       "dtype: int64"
      ]
     },
     "execution_count": 60,
     "metadata": {},
     "output_type": "execute_result"
    }
   ],
   "source": [
    "df_smote.isnull().sum()"
   ]
  },
  {
   "cell_type": "markdown",
   "id": "hPrI4BbI6ATC",
   "metadata": {
    "id": "hPrI4BbI6ATC"
   },
   "source": [
    "### Encode kembali"
   ]
  },
  {
   "cell_type": "code",
   "execution_count": 61,
   "id": "6iDRxpcl5_yR",
   "metadata": {
    "colab": {
     "base_uri": "https://localhost:8080/",
     "height": 224
    },
    "executionInfo": {
     "elapsed": 7,
     "status": "ok",
     "timestamp": 1633616297620,
     "user": {
      "displayName": "Ahmad Habib",
      "photoUrl": "https://lh3.googleusercontent.com/a-/AOh14GhO4o_fO723EBzG9aZH_2E2uBHOgS6-H2XcOb3hrQ=s64",
      "userId": "07615486812975318675"
     },
     "user_tz": -420
    },
    "id": "6iDRxpcl5_yR",
    "outputId": "c0fb4ea2-42d5-4767-b427-9600737dbc07"
   },
   "outputs": [
    {
     "data": {
      "text/html": [
       "<div>\n",
       "<style scoped>\n",
       "    .dataframe tbody tr th:only-of-type {\n",
       "        vertical-align: middle;\n",
       "    }\n",
       "\n",
       "    .dataframe tbody tr th {\n",
       "        vertical-align: top;\n",
       "    }\n",
       "\n",
       "    .dataframe thead th {\n",
       "        text-align: right;\n",
       "    }\n",
       "</style>\n",
       "<table border=\"1\" class=\"dataframe\">\n",
       "  <thead>\n",
       "    <tr style=\"text-align: right;\">\n",
       "      <th></th>\n",
       "      <th>PH</th>\n",
       "      <th>cahaya</th>\n",
       "      <th>intensitas_air</th>\n",
       "      <th>suhu</th>\n",
       "      <th>PPM</th>\n",
       "      <th>tinggi_air</th>\n",
       "      <th>aksi_Hidupkan Lampu</th>\n",
       "      <th>aksi_Hidupkan Lampu dan Pompa nutrisi TDS</th>\n",
       "      <th>aksi_Hidupkan Pompa nutrisi TDS</th>\n",
       "      <th>aksi_Tidak melakukan apa-apa</th>\n",
       "    </tr>\n",
       "  </thead>\n",
       "  <tbody>\n",
       "    <tr>\n",
       "      <th>0</th>\n",
       "      <td>6.5</td>\n",
       "      <td>1</td>\n",
       "      <td>4</td>\n",
       "      <td>27.0</td>\n",
       "      <td>188.0</td>\n",
       "      <td>622</td>\n",
       "      <td>0</td>\n",
       "      <td>1</td>\n",
       "      <td>0</td>\n",
       "      <td>0</td>\n",
       "    </tr>\n",
       "    <tr>\n",
       "      <th>1</th>\n",
       "      <td>5.7</td>\n",
       "      <td>1</td>\n",
       "      <td>4</td>\n",
       "      <td>26.9</td>\n",
       "      <td>79.0</td>\n",
       "      <td>557</td>\n",
       "      <td>0</td>\n",
       "      <td>1</td>\n",
       "      <td>0</td>\n",
       "      <td>0</td>\n",
       "    </tr>\n",
       "    <tr>\n",
       "      <th>2</th>\n",
       "      <td>6.0</td>\n",
       "      <td>1</td>\n",
       "      <td>4</td>\n",
       "      <td>27.0</td>\n",
       "      <td>11.0</td>\n",
       "      <td>491</td>\n",
       "      <td>0</td>\n",
       "      <td>1</td>\n",
       "      <td>0</td>\n",
       "      <td>0</td>\n",
       "    </tr>\n",
       "    <tr>\n",
       "      <th>3</th>\n",
       "      <td>6.2</td>\n",
       "      <td>1</td>\n",
       "      <td>4</td>\n",
       "      <td>27.1</td>\n",
       "      <td>602.0</td>\n",
       "      <td>444</td>\n",
       "      <td>0</td>\n",
       "      <td>0</td>\n",
       "      <td>0</td>\n",
       "      <td>1</td>\n",
       "    </tr>\n",
       "    <tr>\n",
       "      <th>4</th>\n",
       "      <td>6.1</td>\n",
       "      <td>1</td>\n",
       "      <td>4</td>\n",
       "      <td>27.0</td>\n",
       "      <td>561.0</td>\n",
       "      <td>405</td>\n",
       "      <td>1</td>\n",
       "      <td>0</td>\n",
       "      <td>0</td>\n",
       "      <td>0</td>\n",
       "    </tr>\n",
       "  </tbody>\n",
       "</table>\n",
       "</div>"
      ],
      "text/plain": [
       "    PH  cahaya  ...  aksi_Hidupkan Pompa nutrisi TDS  aksi_Tidak melakukan apa-apa\n",
       "0  6.5       1  ...                                0                             0\n",
       "1  5.7       1  ...                                0                             0\n",
       "2  6.0       1  ...                                0                             0\n",
       "3  6.2       1  ...                                0                             1\n",
       "4  6.1       1  ...                                0                             0\n",
       "\n",
       "[5 rows x 10 columns]"
      ]
     },
     "execution_count": 61,
     "metadata": {},
     "output_type": "execute_result"
    }
   ],
   "source": [
    "df_smote['intensitas_air'] = df_smote[['intensitas_air']].applymap(mapping.get)\n",
    "df_smote['cahaya'] = df_smote[['cahaya']].applymap(mapping2.get)\n",
    "# df_smote['aksi'] = df_smote[['aksi']].applymap(mapping3.get)\n",
    "# one hot encoding cahaya\n",
    "aksi = pd.get_dummies(df_smote.aksi, prefix='aksi')\n",
    "df_smote = pd.concat([df_smote, aksi], axis=1)\n",
    "df_smote.drop(columns='aksi', inplace=True)\n",
    "df_smote.head()"
   ]
  },
  {
   "cell_type": "code",
   "execution_count": 62,
   "id": "tZr-FbwRAz8y",
   "metadata": {
    "colab": {
     "base_uri": "https://localhost:8080/"
    },
    "executionInfo": {
     "elapsed": 7,
     "status": "ok",
     "timestamp": 1633616300140,
     "user": {
      "displayName": "Ahmad Habib",
      "photoUrl": "https://lh3.googleusercontent.com/a-/AOh14GhO4o_fO723EBzG9aZH_2E2uBHOgS6-H2XcOb3hrQ=s64",
      "userId": "07615486812975318675"
     },
     "user_tz": -420
    },
    "id": "tZr-FbwRAz8y",
    "outputId": "4a7ea1a1-a2e0-4201-fc98-2973c6e2be38"
   },
   "outputs": [
    {
     "data": {
      "text/plain": [
       "PH                                           0\n",
       "cahaya                                       0\n",
       "intensitas_air                               0\n",
       "suhu                                         0\n",
       "PPM                                          0\n",
       "tinggi_air                                   0\n",
       "aksi_Hidupkan Lampu                          0\n",
       "aksi_Hidupkan Lampu dan Pompa nutrisi TDS    0\n",
       "aksi_Hidupkan Pompa nutrisi TDS              0\n",
       "aksi_Tidak melakukan apa-apa                 0\n",
       "dtype: int64"
      ]
     },
     "execution_count": 62,
     "metadata": {},
     "output_type": "execute_result"
    }
   ],
   "source": [
    "df_smote.isnull().sum()"
   ]
  },
  {
   "cell_type": "markdown",
   "id": "CLgsiYw_5wIe",
   "metadata": {
    "id": "CLgsiYw_5wIe"
   },
   "source": [
    "# Build ANN model"
   ]
  },
  {
   "cell_type": "code",
   "execution_count": 63,
   "id": "Os0k7DIs5u4T",
   "metadata": {
    "executionInfo": {
     "elapsed": 1676,
     "status": "ok",
     "timestamp": 1633616306614,
     "user": {
      "displayName": "Ahmad Habib",
      "photoUrl": "https://lh3.googleusercontent.com/a-/AOh14GhO4o_fO723EBzG9aZH_2E2uBHOgS6-H2XcOb3hrQ=s64",
      "userId": "07615486812975318675"
     },
     "user_tz": -420
    },
    "id": "Os0k7DIs5u4T"
   },
   "outputs": [],
   "source": [
    "import tensorflow as tf\n",
    "from tensorflow import keras\n",
    "from sklearn.model_selection import train_test_split"
   ]
  },
  {
   "cell_type": "code",
   "execution_count": 64,
   "id": "R9bOfoO37dvU",
   "metadata": {
    "colab": {
     "base_uri": "https://localhost:8080/"
    },
    "executionInfo": {
     "elapsed": 15,
     "status": "ok",
     "timestamp": 1633616308540,
     "user": {
      "displayName": "Ahmad Habib",
      "photoUrl": "https://lh3.googleusercontent.com/a-/AOh14GhO4o_fO723EBzG9aZH_2E2uBHOgS6-H2XcOb3hrQ=s64",
      "userId": "07615486812975318675"
     },
     "user_tz": -420
    },
    "id": "R9bOfoO37dvU",
    "outputId": "89341cbb-ee2f-4c3e-8328-75c4b0e9cbb7"
   },
   "outputs": [
    {
     "data": {
      "text/plain": [
       "['aksi_Hidupkan Lampu',\n",
       " 'aksi_Hidupkan Lampu dan Pompa nutrisi TDS',\n",
       " 'aksi_Hidupkan Pompa nutrisi TDS',\n",
       " 'aksi_Tidak melakukan apa-apa']"
      ]
     },
     "execution_count": 64,
     "metadata": {},
     "output_type": "execute_result"
    }
   ],
   "source": [
    "feature = list(df_smote.columns[:6])\n",
    "target = list(df_smote.columns[6:])\n",
    "target"
   ]
  },
  {
   "cell_type": "code",
   "execution_count": 65,
   "id": "mK0KBhDj_6HB",
   "metadata": {
    "colab": {
     "base_uri": "https://localhost:8080/"
    },
    "executionInfo": {
     "elapsed": 415,
     "status": "ok",
     "timestamp": 1633616313444,
     "user": {
      "displayName": "Ahmad Habib",
      "photoUrl": "https://lh3.googleusercontent.com/a-/AOh14GhO4o_fO723EBzG9aZH_2E2uBHOgS6-H2XcOb3hrQ=s64",
      "userId": "07615486812975318675"
     },
     "user_tz": -420
    },
    "id": "mK0KBhDj_6HB",
    "outputId": "a42dbfb2-9d59-4bf5-da1a-d4c4ebc6fc9f"
   },
   "outputs": [
    {
     "data": {
      "text/plain": [
       "PH                                           0\n",
       "cahaya                                       0\n",
       "intensitas_air                               0\n",
       "suhu                                         0\n",
       "PPM                                          0\n",
       "tinggi_air                                   0\n",
       "aksi_Hidupkan Lampu                          0\n",
       "aksi_Hidupkan Lampu dan Pompa nutrisi TDS    0\n",
       "aksi_Hidupkan Pompa nutrisi TDS              0\n",
       "aksi_Tidak melakukan apa-apa                 0\n",
       "dtype: int64"
      ]
     },
     "execution_count": 65,
     "metadata": {},
     "output_type": "execute_result"
    }
   ],
   "source": [
    "df_smote.isnull().sum()"
   ]
  },
  {
   "cell_type": "code",
   "execution_count": 65,
   "id": "Au6pqqR1_6Le",
   "metadata": {
    "executionInfo": {
     "elapsed": 9,
     "status": "ok",
     "timestamp": 1633616315322,
     "user": {
      "displayName": "Ahmad Habib",
      "photoUrl": "https://lh3.googleusercontent.com/a-/AOh14GhO4o_fO723EBzG9aZH_2E2uBHOgS6-H2XcOb3hrQ=s64",
      "userId": "07615486812975318675"
     },
     "user_tz": -420
    },
    "id": "Au6pqqR1_6Le"
   },
   "outputs": [],
   "source": []
  },
  {
   "cell_type": "code",
   "execution_count": 66,
   "id": "2PO2bZE353JC",
   "metadata": {
    "executionInfo": {
     "elapsed": 7,
     "status": "ok",
     "timestamp": 1633616316687,
     "user": {
      "displayName": "Ahmad Habib",
      "photoUrl": "https://lh3.googleusercontent.com/a-/AOh14GhO4o_fO723EBzG9aZH_2E2uBHOgS6-H2XcOb3hrQ=s64",
      "userId": "07615486812975318675"
     },
     "user_tz": -420
    },
    "id": "2PO2bZE353JC"
   },
   "outputs": [],
   "source": [
    "X = df_smote[feature]\n",
    "y = df_smote[target]\n"
   ]
  },
  {
   "cell_type": "code",
   "execution_count": 67,
   "id": "MVQcRvcu_RWm",
   "metadata": {
    "colab": {
     "base_uri": "https://localhost:8080/"
    },
    "executionInfo": {
     "elapsed": 472,
     "status": "ok",
     "timestamp": 1633616321998,
     "user": {
      "displayName": "Ahmad Habib",
      "photoUrl": "https://lh3.googleusercontent.com/a-/AOh14GhO4o_fO723EBzG9aZH_2E2uBHOgS6-H2XcOb3hrQ=s64",
      "userId": "07615486812975318675"
     },
     "user_tz": -420
    },
    "id": "MVQcRvcu_RWm",
    "outputId": "bbadddc5-7ace-43ca-f02f-8ad2f13985c7"
   },
   "outputs": [
    {
     "name": "stdout",
     "output_type": "stream",
     "text": [
      "[[-0.22909085  0.          0.33333333  0.17151754 -0.29030812  0.79829545]\n",
      " [-0.46671443  0.          0.33333333  0.06573915 -0.41118536  0.61363636]\n",
      " [-0.37760559  0.          0.33333333  0.17151754 -0.48659502  0.42613636]\n",
      " ...\n",
      " [-1.3576958   0.         -0.66666667  0.17151754 -0.40391459  0.42045455]\n",
      " [-0.56818912  0.         -0.33333333 -0.31416201 -0.40461206 -0.58522727]\n",
      " [-0.02263382  0.         -0.66666667  0.13604902 -0.06340325 -0.23863636]]\n"
     ]
    }
   ],
   "source": [
    "from sklearn.preprocessing import RobustScaler\n",
    "\n",
    "scaler =  RobustScaler()\n",
    "# transform data\n",
    "X_scaled = scaler.fit_transform(X)\n",
    "print(X_scaled)"
   ]
  },
  {
   "cell_type": "code",
   "execution_count": 68,
   "id": "aRxQ4Hvn_Xyn",
   "metadata": {
    "colab": {
     "base_uri": "https://localhost:8080/"
    },
    "executionInfo": {
     "elapsed": 8,
     "status": "ok",
     "timestamp": 1633616323630,
     "user": {
      "displayName": "Ahmad Habib",
      "photoUrl": "https://lh3.googleusercontent.com/a-/AOh14GhO4o_fO723EBzG9aZH_2E2uBHOgS6-H2XcOb3hrQ=s64",
      "userId": "07615486812975318675"
     },
     "user_tz": -420
    },
    "id": "aRxQ4Hvn_Xyn",
    "outputId": "9663a670-cec9-4da4-fc5b-1bc6e8302a6f"
   },
   "outputs": [
    {
     "data": {
      "text/plain": [
       "((1500, 6), (376, 6), (1500, 4), (376, 4))"
      ]
     },
     "execution_count": 68,
     "metadata": {},
     "output_type": "execute_result"
    }
   ],
   "source": [
    "X_train, X_test, y_train, y_test = train_test_split(X_scaled, y, test_size=0.2, stratify=y, random_state=42)\n",
    "X_train.shape, X_test.shape, y_train.shape, y_test.shape"
   ]
  },
  {
   "cell_type": "code",
   "execution_count": 69,
   "id": "e_sJwxDw6Iqj",
   "metadata": {
    "executionInfo": {
     "elapsed": 804,
     "status": "ok",
     "timestamp": 1633616326158,
     "user": {
      "displayName": "Ahmad Habib",
      "photoUrl": "https://lh3.googleusercontent.com/a-/AOh14GhO4o_fO723EBzG9aZH_2E2uBHOgS6-H2XcOb3hrQ=s64",
      "userId": "07615486812975318675"
     },
     "user_tz": -420
    },
    "id": "e_sJwxDw6Iqj"
   },
   "outputs": [],
   "source": [
    "model = keras.Sequential([\n",
    "        keras.layers.Dense(units=8, input_shape=(6,)),\n",
    "        keras.layers.Dense(units=16, activation='relu'),\n",
    "        keras.layers.Dense(units=4, activation='softmax')\n",
    "])"
   ]
  },
  {
   "cell_type": "code",
   "execution_count": 70,
   "id": "_3kcAsik71du",
   "metadata": {
    "executionInfo": {
     "elapsed": 11,
     "status": "ok",
     "timestamp": 1633616327805,
     "user": {
      "displayName": "Ahmad Habib",
      "photoUrl": "https://lh3.googleusercontent.com/a-/AOh14GhO4o_fO723EBzG9aZH_2E2uBHOgS6-H2XcOb3hrQ=s64",
      "userId": "07615486812975318675"
     },
     "user_tz": -420
    },
    "id": "_3kcAsik71du"
   },
   "outputs": [],
   "source": [
    "# isi code\n",
    "model.compile(optimizer=tf.keras.optimizers.SGD(learning_rate=0.001),\n",
    "              loss=tf.keras.losses.categorical_crossentropy, \n",
    "              metrics=['accuracy'])"
   ]
  },
  {
   "cell_type": "code",
   "execution_count": 71,
   "id": "w1BoneYR8VjQ",
   "metadata": {
    "executionInfo": {
     "elapsed": 530,
     "status": "ok",
     "timestamp": 1633616330200,
     "user": {
      "displayName": "Ahmad Habib",
      "photoUrl": "https://lh3.googleusercontent.com/a-/AOh14GhO4o_fO723EBzG9aZH_2E2uBHOgS6-H2XcOb3hrQ=s64",
      "userId": "07615486812975318675"
     },
     "user_tz": -420
    },
    "id": "w1BoneYR8VjQ"
   },
   "outputs": [],
   "source": [
    "from tensorflow.keras.callbacks import EarlyStopping, ModelCheckpoint\n",
    "\n",
    "callback=EarlyStopping(monitor=\"val_loss\",patience=50, verbose=1, mode='min')\n",
    "check_point = ModelCheckpoint('best_model.h5', monitor='val_accuracy', mode='max', verbose=1, save_best_only=True)"
   ]
  },
  {
   "cell_type": "code",
   "execution_count": 72,
   "id": "eS3xhR7G8XlM",
   "metadata": {
    "colab": {
     "base_uri": "https://localhost:8080/"
    },
    "executionInfo": {
     "elapsed": 11053,
     "status": "ok",
     "timestamp": 1633616342831,
     "user": {
      "displayName": "Ahmad Habib",
      "photoUrl": "https://lh3.googleusercontent.com/a-/AOh14GhO4o_fO723EBzG9aZH_2E2uBHOgS6-H2XcOb3hrQ=s64",
      "userId": "07615486812975318675"
     },
     "user_tz": -420
    },
    "id": "eS3xhR7G8XlM",
    "outputId": "64867b55-f96c-4156-9159-f4c9fa75b172"
   },
   "outputs": [
    {
     "name": "stdout",
     "output_type": "stream",
     "text": [
      "Epoch 1/100\n",
      "43/43 [==============================] - 1s 5ms/step - loss: 1.2504 - accuracy: 0.3170 - val_loss: 1.2145 - val_accuracy: 0.3533\n",
      "\n",
      "Epoch 00001: val_accuracy improved from -inf to 0.35333, saving model to best_model.h5\n",
      "Epoch 2/100\n",
      "43/43 [==============================] - 0s 1ms/step - loss: 1.2257 - accuracy: 0.3267 - val_loss: 1.1959 - val_accuracy: 0.3533\n",
      "\n",
      "Epoch 00002: val_accuracy did not improve from 0.35333\n",
      "Epoch 3/100\n",
      "43/43 [==============================] - 0s 1ms/step - loss: 1.2061 - accuracy: 0.3393 - val_loss: 1.1801 - val_accuracy: 0.3667\n",
      "\n",
      "Epoch 00003: val_accuracy improved from 0.35333 to 0.36667, saving model to best_model.h5\n",
      "Epoch 4/100\n",
      "43/43 [==============================] - 0s 1ms/step - loss: 1.1887 - accuracy: 0.3459 - val_loss: 1.1664 - val_accuracy: 0.3667\n",
      "\n",
      "Epoch 00004: val_accuracy did not improve from 0.36667\n",
      "Epoch 5/100\n",
      "43/43 [==============================] - 0s 1ms/step - loss: 1.1734 - accuracy: 0.3548 - val_loss: 1.1539 - val_accuracy: 0.3800\n",
      "\n",
      "Epoch 00005: val_accuracy improved from 0.36667 to 0.38000, saving model to best_model.h5\n",
      "Epoch 6/100\n",
      "43/43 [==============================] - 0s 1ms/step - loss: 1.1592 - accuracy: 0.3644 - val_loss: 1.1423 - val_accuracy: 0.3800\n",
      "\n",
      "Epoch 00006: val_accuracy did not improve from 0.38000\n",
      "Epoch 7/100\n",
      "43/43 [==============================] - 0s 1ms/step - loss: 1.1462 - accuracy: 0.3733 - val_loss: 1.1313 - val_accuracy: 0.3933\n",
      "\n",
      "Epoch 00007: val_accuracy improved from 0.38000 to 0.39333, saving model to best_model.h5\n",
      "Epoch 8/100\n",
      "43/43 [==============================] - 0s 1ms/step - loss: 1.1339 - accuracy: 0.3770 - val_loss: 1.1208 - val_accuracy: 0.3933\n",
      "\n",
      "Epoch 00008: val_accuracy did not improve from 0.39333\n",
      "Epoch 9/100\n",
      "43/43 [==============================] - 0s 1ms/step - loss: 1.1221 - accuracy: 0.3852 - val_loss: 1.1108 - val_accuracy: 0.4133\n",
      "\n",
      "Epoch 00009: val_accuracy improved from 0.39333 to 0.41333, saving model to best_model.h5\n",
      "Epoch 10/100\n",
      "43/43 [==============================] - 0s 1ms/step - loss: 1.1109 - accuracy: 0.3933 - val_loss: 1.1012 - val_accuracy: 0.4267\n",
      "\n",
      "Epoch 00010: val_accuracy improved from 0.41333 to 0.42667, saving model to best_model.h5\n",
      "Epoch 11/100\n",
      "43/43 [==============================] - 0s 1ms/step - loss: 1.1001 - accuracy: 0.4178 - val_loss: 1.0916 - val_accuracy: 0.4400\n",
      "\n",
      "Epoch 00011: val_accuracy improved from 0.42667 to 0.44000, saving model to best_model.h5\n",
      "Epoch 12/100\n",
      "43/43 [==============================] - 0s 1ms/step - loss: 1.0895 - accuracy: 0.4519 - val_loss: 1.0821 - val_accuracy: 0.4733\n",
      "\n",
      "Epoch 00012: val_accuracy improved from 0.44000 to 0.47333, saving model to best_model.h5\n",
      "Epoch 13/100\n",
      "43/43 [==============================] - 0s 1ms/step - loss: 1.0793 - accuracy: 0.4852 - val_loss: 1.0728 - val_accuracy: 0.4800\n",
      "\n",
      "Epoch 00013: val_accuracy improved from 0.47333 to 0.48000, saving model to best_model.h5\n",
      "Epoch 14/100\n",
      "43/43 [==============================] - 0s 1ms/step - loss: 1.0692 - accuracy: 0.5289 - val_loss: 1.0637 - val_accuracy: 0.5067\n",
      "\n",
      "Epoch 00014: val_accuracy improved from 0.48000 to 0.50667, saving model to best_model.h5\n",
      "Epoch 15/100\n",
      "43/43 [==============================] - 0s 1ms/step - loss: 1.0592 - accuracy: 0.5674 - val_loss: 1.0547 - val_accuracy: 0.5333\n",
      "\n",
      "Epoch 00015: val_accuracy improved from 0.50667 to 0.53333, saving model to best_model.h5\n",
      "Epoch 16/100\n",
      "43/43 [==============================] - 0s 2ms/step - loss: 1.0494 - accuracy: 0.5933 - val_loss: 1.0458 - val_accuracy: 0.5600\n",
      "\n",
      "Epoch 00016: val_accuracy improved from 0.53333 to 0.56000, saving model to best_model.h5\n",
      "Epoch 17/100\n",
      "43/43 [==============================] - 0s 1ms/step - loss: 1.0397 - accuracy: 0.6156 - val_loss: 1.0370 - val_accuracy: 0.5733\n",
      "\n",
      "Epoch 00017: val_accuracy improved from 0.56000 to 0.57333, saving model to best_model.h5\n",
      "Epoch 18/100\n",
      "43/43 [==============================] - 0s 1ms/step - loss: 1.0300 - accuracy: 0.6311 - val_loss: 1.0283 - val_accuracy: 0.5933\n",
      "\n",
      "Epoch 00018: val_accuracy improved from 0.57333 to 0.59333, saving model to best_model.h5\n",
      "Epoch 19/100\n",
      "43/43 [==============================] - 0s 1ms/step - loss: 1.0204 - accuracy: 0.6526 - val_loss: 1.0194 - val_accuracy: 0.6067\n",
      "\n",
      "Epoch 00019: val_accuracy improved from 0.59333 to 0.60667, saving model to best_model.h5\n",
      "Epoch 20/100\n",
      "43/43 [==============================] - 0s 1ms/step - loss: 1.0108 - accuracy: 0.6667 - val_loss: 1.0106 - val_accuracy: 0.6133\n",
      "\n",
      "Epoch 00020: val_accuracy improved from 0.60667 to 0.61333, saving model to best_model.h5\n",
      "Epoch 21/100\n",
      "43/43 [==============================] - 0s 1ms/step - loss: 1.0012 - accuracy: 0.6815 - val_loss: 1.0019 - val_accuracy: 0.6333\n",
      "\n",
      "Epoch 00021: val_accuracy improved from 0.61333 to 0.63333, saving model to best_model.h5\n",
      "Epoch 22/100\n",
      "43/43 [==============================] - 0s 1ms/step - loss: 0.9916 - accuracy: 0.6881 - val_loss: 0.9934 - val_accuracy: 0.6400\n",
      "\n",
      "Epoch 00022: val_accuracy improved from 0.63333 to 0.64000, saving model to best_model.h5\n",
      "Epoch 23/100\n",
      "43/43 [==============================] - 0s 1ms/step - loss: 0.9822 - accuracy: 0.6948 - val_loss: 0.9852 - val_accuracy: 0.6400\n",
      "\n",
      "Epoch 00023: val_accuracy did not improve from 0.64000\n",
      "Epoch 24/100\n",
      "43/43 [==============================] - 0s 1ms/step - loss: 0.9731 - accuracy: 0.6985 - val_loss: 0.9772 - val_accuracy: 0.6400\n",
      "\n",
      "Epoch 00024: val_accuracy did not improve from 0.64000\n",
      "Epoch 25/100\n",
      "43/43 [==============================] - 0s 1ms/step - loss: 0.9641 - accuracy: 0.7007 - val_loss: 0.9690 - val_accuracy: 0.6400\n",
      "\n",
      "Epoch 00025: val_accuracy did not improve from 0.64000\n",
      "Epoch 26/100\n",
      "43/43 [==============================] - 0s 2ms/step - loss: 0.9552 - accuracy: 0.7022 - val_loss: 0.9609 - val_accuracy: 0.6600\n",
      "\n",
      "Epoch 00026: val_accuracy improved from 0.64000 to 0.66000, saving model to best_model.h5\n",
      "Epoch 27/100\n",
      "43/43 [==============================] - 0s 1ms/step - loss: 0.9464 - accuracy: 0.7067 - val_loss: 0.9528 - val_accuracy: 0.6533\n",
      "\n",
      "Epoch 00027: val_accuracy did not improve from 0.66000\n",
      "Epoch 28/100\n",
      "43/43 [==============================] - 0s 1ms/step - loss: 0.9376 - accuracy: 0.7133 - val_loss: 0.9449 - val_accuracy: 0.6600\n",
      "\n",
      "Epoch 00028: val_accuracy did not improve from 0.66000\n",
      "Epoch 29/100\n",
      "43/43 [==============================] - 0s 1ms/step - loss: 0.9290 - accuracy: 0.7207 - val_loss: 0.9369 - val_accuracy: 0.6600\n",
      "\n",
      "Epoch 00029: val_accuracy did not improve from 0.66000\n",
      "Epoch 30/100\n",
      "43/43 [==============================] - 0s 1ms/step - loss: 0.9204 - accuracy: 0.7267 - val_loss: 0.9290 - val_accuracy: 0.6667\n",
      "\n",
      "Epoch 00030: val_accuracy improved from 0.66000 to 0.66667, saving model to best_model.h5\n",
      "Epoch 31/100\n",
      "43/43 [==============================] - 0s 1ms/step - loss: 0.9118 - accuracy: 0.7311 - val_loss: 0.9211 - val_accuracy: 0.6733\n",
      "\n",
      "Epoch 00031: val_accuracy improved from 0.66667 to 0.67333, saving model to best_model.h5\n",
      "Epoch 32/100\n",
      "43/43 [==============================] - 0s 1ms/step - loss: 0.9032 - accuracy: 0.7415 - val_loss: 0.9133 - val_accuracy: 0.6867\n",
      "\n",
      "Epoch 00032: val_accuracy improved from 0.67333 to 0.68667, saving model to best_model.h5\n",
      "Epoch 33/100\n",
      "43/43 [==============================] - 0s 1ms/step - loss: 0.8948 - accuracy: 0.7452 - val_loss: 0.9055 - val_accuracy: 0.6933\n",
      "\n",
      "Epoch 00033: val_accuracy improved from 0.68667 to 0.69333, saving model to best_model.h5\n",
      "Epoch 34/100\n",
      "43/43 [==============================] - 0s 1ms/step - loss: 0.8865 - accuracy: 0.7533 - val_loss: 0.8978 - val_accuracy: 0.7067\n",
      "\n",
      "Epoch 00034: val_accuracy improved from 0.69333 to 0.70667, saving model to best_model.h5\n",
      "Epoch 35/100\n",
      "43/43 [==============================] - 0s 1ms/step - loss: 0.8783 - accuracy: 0.7563 - val_loss: 0.8902 - val_accuracy: 0.7067\n",
      "\n",
      "Epoch 00035: val_accuracy did not improve from 0.70667\n",
      "Epoch 36/100\n",
      "43/43 [==============================] - 0s 1ms/step - loss: 0.8701 - accuracy: 0.7630 - val_loss: 0.8827 - val_accuracy: 0.7200\n",
      "\n",
      "Epoch 00036: val_accuracy improved from 0.70667 to 0.72000, saving model to best_model.h5\n",
      "Epoch 37/100\n",
      "43/43 [==============================] - 0s 1ms/step - loss: 0.8621 - accuracy: 0.7644 - val_loss: 0.8754 - val_accuracy: 0.7400\n",
      "\n",
      "Epoch 00037: val_accuracy improved from 0.72000 to 0.74000, saving model to best_model.h5\n",
      "Epoch 38/100\n",
      "43/43 [==============================] - 0s 1ms/step - loss: 0.8542 - accuracy: 0.7689 - val_loss: 0.8680 - val_accuracy: 0.7467\n",
      "\n",
      "Epoch 00038: val_accuracy improved from 0.74000 to 0.74667, saving model to best_model.h5\n",
      "Epoch 39/100\n",
      "43/43 [==============================] - 0s 1ms/step - loss: 0.8464 - accuracy: 0.7741 - val_loss: 0.8607 - val_accuracy: 0.7600\n",
      "\n",
      "Epoch 00039: val_accuracy improved from 0.74667 to 0.76000, saving model to best_model.h5\n",
      "Epoch 40/100\n",
      "43/43 [==============================] - 0s 1ms/step - loss: 0.8387 - accuracy: 0.7778 - val_loss: 0.8535 - val_accuracy: 0.7533\n",
      "\n",
      "Epoch 00040: val_accuracy did not improve from 0.76000\n",
      "Epoch 41/100\n",
      "43/43 [==============================] - 0s 1ms/step - loss: 0.8311 - accuracy: 0.7859 - val_loss: 0.8467 - val_accuracy: 0.7533\n",
      "\n",
      "Epoch 00041: val_accuracy did not improve from 0.76000\n",
      "Epoch 42/100\n",
      "43/43 [==============================] - 0s 1ms/step - loss: 0.8237 - accuracy: 0.7874 - val_loss: 0.8398 - val_accuracy: 0.7533\n",
      "\n",
      "Epoch 00042: val_accuracy did not improve from 0.76000\n",
      "Epoch 43/100\n",
      "43/43 [==============================] - 0s 1ms/step - loss: 0.8164 - accuracy: 0.7933 - val_loss: 0.8331 - val_accuracy: 0.7600\n",
      "\n",
      "Epoch 00043: val_accuracy did not improve from 0.76000\n",
      "Epoch 44/100\n",
      "43/43 [==============================] - 0s 1ms/step - loss: 0.8092 - accuracy: 0.7941 - val_loss: 0.8263 - val_accuracy: 0.7733\n",
      "\n",
      "Epoch 00044: val_accuracy improved from 0.76000 to 0.77333, saving model to best_model.h5\n",
      "Epoch 45/100\n",
      "43/43 [==============================] - 0s 1ms/step - loss: 0.8020 - accuracy: 0.7948 - val_loss: 0.8194 - val_accuracy: 0.7733\n",
      "\n",
      "Epoch 00045: val_accuracy did not improve from 0.77333\n",
      "Epoch 46/100\n",
      "43/43 [==============================] - 0s 1ms/step - loss: 0.7951 - accuracy: 0.7948 - val_loss: 0.8128 - val_accuracy: 0.7800\n",
      "\n",
      "Epoch 00046: val_accuracy improved from 0.77333 to 0.78000, saving model to best_model.h5\n",
      "Epoch 47/100\n",
      "43/43 [==============================] - 0s 1ms/step - loss: 0.7881 - accuracy: 0.7970 - val_loss: 0.8064 - val_accuracy: 0.7800\n",
      "\n",
      "Epoch 00047: val_accuracy did not improve from 0.78000\n",
      "Epoch 48/100\n",
      "43/43 [==============================] - 0s 1ms/step - loss: 0.7812 - accuracy: 0.8000 - val_loss: 0.8000 - val_accuracy: 0.7800\n",
      "\n",
      "Epoch 00048: val_accuracy did not improve from 0.78000\n",
      "Epoch 49/100\n",
      "43/43 [==============================] - 0s 1ms/step - loss: 0.7745 - accuracy: 0.8044 - val_loss: 0.7938 - val_accuracy: 0.7800\n",
      "\n",
      "Epoch 00049: val_accuracy did not improve from 0.78000\n",
      "Epoch 50/100\n",
      "43/43 [==============================] - 0s 1ms/step - loss: 0.7678 - accuracy: 0.8081 - val_loss: 0.7875 - val_accuracy: 0.7800\n",
      "\n",
      "Epoch 00050: val_accuracy did not improve from 0.78000\n",
      "Epoch 51/100\n",
      "43/43 [==============================] - 0s 1ms/step - loss: 0.7613 - accuracy: 0.8096 - val_loss: 0.7812 - val_accuracy: 0.7800\n",
      "\n",
      "Epoch 00051: val_accuracy did not improve from 0.78000\n",
      "Epoch 52/100\n",
      "43/43 [==============================] - 0s 1ms/step - loss: 0.7548 - accuracy: 0.8133 - val_loss: 0.7749 - val_accuracy: 0.7800\n",
      "\n",
      "Epoch 00052: val_accuracy did not improve from 0.78000\n",
      "Epoch 53/100\n",
      "43/43 [==============================] - 0s 1ms/step - loss: 0.7483 - accuracy: 0.8185 - val_loss: 0.7688 - val_accuracy: 0.7800\n",
      "\n",
      "Epoch 00053: val_accuracy did not improve from 0.78000\n",
      "Epoch 54/100\n",
      "43/43 [==============================] - 0s 2ms/step - loss: 0.7419 - accuracy: 0.8193 - val_loss: 0.7628 - val_accuracy: 0.7867\n",
      "\n",
      "Epoch 00054: val_accuracy improved from 0.78000 to 0.78667, saving model to best_model.h5\n",
      "Epoch 55/100\n",
      "43/43 [==============================] - 0s 1ms/step - loss: 0.7357 - accuracy: 0.8222 - val_loss: 0.7568 - val_accuracy: 0.7933\n",
      "\n",
      "Epoch 00055: val_accuracy improved from 0.78667 to 0.79333, saving model to best_model.h5\n",
      "Epoch 56/100\n",
      "43/43 [==============================] - 0s 1ms/step - loss: 0.7295 - accuracy: 0.8244 - val_loss: 0.7509 - val_accuracy: 0.7933\n",
      "\n",
      "Epoch 00056: val_accuracy did not improve from 0.79333\n",
      "Epoch 57/100\n",
      "43/43 [==============================] - 0s 1ms/step - loss: 0.7234 - accuracy: 0.8274 - val_loss: 0.7451 - val_accuracy: 0.8000\n",
      "\n",
      "Epoch 00057: val_accuracy improved from 0.79333 to 0.80000, saving model to best_model.h5\n",
      "Epoch 58/100\n",
      "43/43 [==============================] - 0s 1ms/step - loss: 0.7174 - accuracy: 0.8289 - val_loss: 0.7392 - val_accuracy: 0.8067\n",
      "\n",
      "Epoch 00058: val_accuracy improved from 0.80000 to 0.80667, saving model to best_model.h5\n",
      "Epoch 59/100\n",
      "43/43 [==============================] - 0s 1ms/step - loss: 0.7115 - accuracy: 0.8289 - val_loss: 0.7335 - val_accuracy: 0.8133\n",
      "\n",
      "Epoch 00059: val_accuracy improved from 0.80667 to 0.81333, saving model to best_model.h5\n",
      "Epoch 60/100\n",
      "43/43 [==============================] - 0s 1ms/step - loss: 0.7056 - accuracy: 0.8289 - val_loss: 0.7281 - val_accuracy: 0.8133\n",
      "\n",
      "Epoch 00060: val_accuracy did not improve from 0.81333\n",
      "Epoch 61/100\n",
      "43/43 [==============================] - 0s 1ms/step - loss: 0.6998 - accuracy: 0.8311 - val_loss: 0.7224 - val_accuracy: 0.8267\n",
      "\n",
      "Epoch 00061: val_accuracy improved from 0.81333 to 0.82667, saving model to best_model.h5\n",
      "Epoch 62/100\n",
      "43/43 [==============================] - 0s 1ms/step - loss: 0.6941 - accuracy: 0.8333 - val_loss: 0.7168 - val_accuracy: 0.8267\n",
      "\n",
      "Epoch 00062: val_accuracy did not improve from 0.82667\n",
      "Epoch 63/100\n",
      "43/43 [==============================] - 0s 1ms/step - loss: 0.6884 - accuracy: 0.8333 - val_loss: 0.7112 - val_accuracy: 0.8200\n",
      "\n",
      "Epoch 00063: val_accuracy did not improve from 0.82667\n",
      "Epoch 64/100\n",
      "43/43 [==============================] - 0s 1ms/step - loss: 0.6827 - accuracy: 0.8363 - val_loss: 0.7060 - val_accuracy: 0.8200\n",
      "\n",
      "Epoch 00064: val_accuracy did not improve from 0.82667\n",
      "Epoch 65/100\n",
      "43/43 [==============================] - 0s 1ms/step - loss: 0.6773 - accuracy: 0.8400 - val_loss: 0.7007 - val_accuracy: 0.8200\n",
      "\n",
      "Epoch 00065: val_accuracy did not improve from 0.82667\n",
      "Epoch 66/100\n",
      "43/43 [==============================] - 0s 2ms/step - loss: 0.6718 - accuracy: 0.8407 - val_loss: 0.6954 - val_accuracy: 0.8200\n",
      "\n",
      "Epoch 00066: val_accuracy did not improve from 0.82667\n",
      "Epoch 67/100\n",
      "43/43 [==============================] - 0s 2ms/step - loss: 0.6664 - accuracy: 0.8422 - val_loss: 0.6903 - val_accuracy: 0.8200\n",
      "\n",
      "Epoch 00067: val_accuracy did not improve from 0.82667\n",
      "Epoch 68/100\n",
      "43/43 [==============================] - 0s 1ms/step - loss: 0.6611 - accuracy: 0.8444 - val_loss: 0.6850 - val_accuracy: 0.8200\n",
      "\n",
      "Epoch 00068: val_accuracy did not improve from 0.82667\n",
      "Epoch 69/100\n",
      "43/43 [==============================] - 0s 1ms/step - loss: 0.6558 - accuracy: 0.8474 - val_loss: 0.6800 - val_accuracy: 0.8267\n",
      "\n",
      "Epoch 00069: val_accuracy did not improve from 0.82667\n",
      "Epoch 70/100\n",
      "43/43 [==============================] - 0s 1ms/step - loss: 0.6507 - accuracy: 0.8489 - val_loss: 0.6749 - val_accuracy: 0.8267\n",
      "\n",
      "Epoch 00070: val_accuracy did not improve from 0.82667\n",
      "Epoch 71/100\n",
      "43/43 [==============================] - 0s 1ms/step - loss: 0.6455 - accuracy: 0.8511 - val_loss: 0.6700 - val_accuracy: 0.8267\n",
      "\n",
      "Epoch 00071: val_accuracy did not improve from 0.82667\n",
      "Epoch 72/100\n",
      "43/43 [==============================] - 0s 1ms/step - loss: 0.6405 - accuracy: 0.8533 - val_loss: 0.6651 - val_accuracy: 0.8333\n",
      "\n",
      "Epoch 00072: val_accuracy improved from 0.82667 to 0.83333, saving model to best_model.h5\n",
      "Epoch 73/100\n",
      "43/43 [==============================] - 0s 1ms/step - loss: 0.6355 - accuracy: 0.8563 - val_loss: 0.6602 - val_accuracy: 0.8333\n",
      "\n",
      "Epoch 00073: val_accuracy did not improve from 0.83333\n",
      "Epoch 74/100\n",
      "43/43 [==============================] - 0s 2ms/step - loss: 0.6305 - accuracy: 0.8578 - val_loss: 0.6554 - val_accuracy: 0.8333\n",
      "\n",
      "Epoch 00074: val_accuracy did not improve from 0.83333\n",
      "Epoch 75/100\n",
      "43/43 [==============================] - 0s 1ms/step - loss: 0.6257 - accuracy: 0.8585 - val_loss: 0.6507 - val_accuracy: 0.8333\n",
      "\n",
      "Epoch 00075: val_accuracy did not improve from 0.83333\n",
      "Epoch 76/100\n",
      "43/43 [==============================] - 0s 1ms/step - loss: 0.6208 - accuracy: 0.8615 - val_loss: 0.6459 - val_accuracy: 0.8333\n",
      "\n",
      "Epoch 00076: val_accuracy did not improve from 0.83333\n",
      "Epoch 77/100\n",
      "43/43 [==============================] - 0s 1ms/step - loss: 0.6160 - accuracy: 0.8615 - val_loss: 0.6412 - val_accuracy: 0.8333\n",
      "\n",
      "Epoch 00077: val_accuracy did not improve from 0.83333\n",
      "Epoch 78/100\n",
      "43/43 [==============================] - 0s 1ms/step - loss: 0.6112 - accuracy: 0.8630 - val_loss: 0.6366 - val_accuracy: 0.8400\n",
      "\n",
      "Epoch 00078: val_accuracy improved from 0.83333 to 0.84000, saving model to best_model.h5\n",
      "Epoch 79/100\n",
      "43/43 [==============================] - 0s 1ms/step - loss: 0.6065 - accuracy: 0.8637 - val_loss: 0.6321 - val_accuracy: 0.8400\n",
      "\n",
      "Epoch 00079: val_accuracy did not improve from 0.84000\n",
      "Epoch 80/100\n",
      "43/43 [==============================] - 0s 1ms/step - loss: 0.6018 - accuracy: 0.8652 - val_loss: 0.6274 - val_accuracy: 0.8400\n",
      "\n",
      "Epoch 00080: val_accuracy did not improve from 0.84000\n",
      "Epoch 81/100\n",
      "43/43 [==============================] - 0s 1ms/step - loss: 0.5972 - accuracy: 0.8652 - val_loss: 0.6228 - val_accuracy: 0.8400\n",
      "\n",
      "Epoch 00081: val_accuracy did not improve from 0.84000\n",
      "Epoch 82/100\n",
      "43/43 [==============================] - 0s 1ms/step - loss: 0.5926 - accuracy: 0.8674 - val_loss: 0.6183 - val_accuracy: 0.8400\n",
      "\n",
      "Epoch 00082: val_accuracy did not improve from 0.84000\n",
      "Epoch 83/100\n",
      "43/43 [==============================] - 0s 1ms/step - loss: 0.5881 - accuracy: 0.8696 - val_loss: 0.6137 - val_accuracy: 0.8400\n",
      "\n",
      "Epoch 00083: val_accuracy did not improve from 0.84000\n",
      "Epoch 84/100\n",
      "43/43 [==============================] - 0s 1ms/step - loss: 0.5835 - accuracy: 0.8704 - val_loss: 0.6091 - val_accuracy: 0.8400\n",
      "\n",
      "Epoch 00084: val_accuracy did not improve from 0.84000\n",
      "Epoch 85/100\n",
      "43/43 [==============================] - 0s 1ms/step - loss: 0.5790 - accuracy: 0.8704 - val_loss: 0.6047 - val_accuracy: 0.8400\n",
      "\n",
      "Epoch 00085: val_accuracy did not improve from 0.84000\n",
      "Epoch 86/100\n",
      "43/43 [==============================] - 0s 1ms/step - loss: 0.5746 - accuracy: 0.8733 - val_loss: 0.6003 - val_accuracy: 0.8467\n",
      "\n",
      "Epoch 00086: val_accuracy improved from 0.84000 to 0.84667, saving model to best_model.h5\n",
      "Epoch 87/100\n",
      "43/43 [==============================] - 0s 1ms/step - loss: 0.5702 - accuracy: 0.8733 - val_loss: 0.5960 - val_accuracy: 0.8467\n",
      "\n",
      "Epoch 00087: val_accuracy did not improve from 0.84667\n",
      "Epoch 88/100\n",
      "43/43 [==============================] - 0s 1ms/step - loss: 0.5659 - accuracy: 0.8726 - val_loss: 0.5915 - val_accuracy: 0.8467\n",
      "\n",
      "Epoch 00088: val_accuracy did not improve from 0.84667\n",
      "Epoch 89/100\n",
      "43/43 [==============================] - 0s 1ms/step - loss: 0.5616 - accuracy: 0.8733 - val_loss: 0.5874 - val_accuracy: 0.8400\n",
      "\n",
      "Epoch 00089: val_accuracy did not improve from 0.84667\n",
      "Epoch 90/100\n",
      "43/43 [==============================] - 0s 1ms/step - loss: 0.5574 - accuracy: 0.8741 - val_loss: 0.5832 - val_accuracy: 0.8467\n",
      "\n",
      "Epoch 00090: val_accuracy did not improve from 0.84667\n",
      "Epoch 91/100\n",
      "43/43 [==============================] - 0s 1ms/step - loss: 0.5532 - accuracy: 0.8741 - val_loss: 0.5791 - val_accuracy: 0.8467\n",
      "\n",
      "Epoch 00091: val_accuracy did not improve from 0.84667\n",
      "Epoch 92/100\n",
      "43/43 [==============================] - 0s 1ms/step - loss: 0.5490 - accuracy: 0.8756 - val_loss: 0.5749 - val_accuracy: 0.8467\n",
      "\n",
      "Epoch 00092: val_accuracy did not improve from 0.84667\n",
      "Epoch 93/100\n",
      "43/43 [==============================] - 0s 1ms/step - loss: 0.5449 - accuracy: 0.8770 - val_loss: 0.5709 - val_accuracy: 0.8533\n",
      "\n",
      "Epoch 00093: val_accuracy improved from 0.84667 to 0.85333, saving model to best_model.h5\n",
      "Epoch 94/100\n",
      "43/43 [==============================] - 0s 1ms/step - loss: 0.5408 - accuracy: 0.8778 - val_loss: 0.5668 - val_accuracy: 0.8533\n",
      "\n",
      "Epoch 00094: val_accuracy did not improve from 0.85333\n",
      "Epoch 95/100\n",
      "43/43 [==============================] - 0s 1ms/step - loss: 0.5367 - accuracy: 0.8793 - val_loss: 0.5628 - val_accuracy: 0.8533\n",
      "\n",
      "Epoch 00095: val_accuracy did not improve from 0.85333\n",
      "Epoch 96/100\n",
      "43/43 [==============================] - 0s 1ms/step - loss: 0.5327 - accuracy: 0.8800 - val_loss: 0.5589 - val_accuracy: 0.8533\n",
      "\n",
      "Epoch 00096: val_accuracy did not improve from 0.85333\n",
      "Epoch 97/100\n",
      "43/43 [==============================] - 0s 1ms/step - loss: 0.5287 - accuracy: 0.8793 - val_loss: 0.5550 - val_accuracy: 0.8667\n",
      "\n",
      "Epoch 00097: val_accuracy improved from 0.85333 to 0.86667, saving model to best_model.h5\n",
      "Epoch 98/100\n",
      "43/43 [==============================] - 0s 1ms/step - loss: 0.5248 - accuracy: 0.8807 - val_loss: 0.5512 - val_accuracy: 0.8667\n",
      "\n",
      "Epoch 00098: val_accuracy did not improve from 0.86667\n",
      "Epoch 99/100\n",
      "43/43 [==============================] - 0s 1ms/step - loss: 0.5210 - accuracy: 0.8793 - val_loss: 0.5474 - val_accuracy: 0.8667\n",
      "\n",
      "Epoch 00099: val_accuracy did not improve from 0.86667\n",
      "Epoch 100/100\n",
      "43/43 [==============================] - 0s 1ms/step - loss: 0.5172 - accuracy: 0.8815 - val_loss: 0.5439 - val_accuracy: 0.8667\n",
      "\n",
      "Epoch 00100: val_accuracy did not improve from 0.86667\n"
     ]
    }
   ],
   "source": [
    "# isi code\n",
    "history = model.fit(X_train, y_train, epochs=100,\n",
    "                    callbacks=[callback, check_point],\n",
    "                    validation_split=0.1)"
   ]
  },
  {
   "cell_type": "code",
   "execution_count": 74,
   "id": "0yMTrm4t-dvx",
   "metadata": {
    "colab": {
     "base_uri": "https://localhost:8080/"
    },
    "executionInfo": {
     "elapsed": 530,
     "status": "ok",
     "timestamp": 1633616405545,
     "user": {
      "displayName": "Ahmad Habib",
      "photoUrl": "https://lh3.googleusercontent.com/a-/AOh14GhO4o_fO723EBzG9aZH_2E2uBHOgS6-H2XcOb3hrQ=s64",
      "userId": "07615486812975318675"
     },
     "user_tz": -420
    },
    "id": "0yMTrm4t-dvx",
    "outputId": "18f36b08-265b-4c1a-ea28-5f4ba8182914"
   },
   "outputs": [
    {
     "name": "stdout",
     "output_type": "stream",
     "text": [
      "12/12 [==============================] - 0s 976us/step - loss: 0.5083 - accuracy: 0.9016\n",
      "Test Accuracy_model_3: 0.902\n"
     ]
    }
   ],
   "source": [
    "from tensorflow.keras.models import load_model\n",
    "# load model 2 untuk digunakan lagi dari file\n",
    "best_model = load_model('best_model.h5')\n",
    "\n",
    "loss, acc = best_model.evaluate(X_test, y_test, verbose=1)\n",
    "print('Test Accuracy_model_3: %.3f' % acc)\n"
   ]
  },
  {
   "cell_type": "code",
   "execution_count": 75,
   "id": "x35VqxGIH-Tk",
   "metadata": {
    "colab": {
     "base_uri": "https://localhost:8080/",
     "height": 276
    },
    "executionInfo": {
     "elapsed": 513,
     "status": "ok",
     "timestamp": 1633616429117,
     "user": {
      "displayName": "Ahmad Habib",
      "photoUrl": "https://lh3.googleusercontent.com/a-/AOh14GhO4o_fO723EBzG9aZH_2E2uBHOgS6-H2XcOb3hrQ=s64",
      "userId": "07615486812975318675"
     },
     "user_tz": -420
    },
    "id": "x35VqxGIH-Tk",
    "outputId": "9aabbf3e-a804-46e1-8c8b-91943212e9fa"
   },
   "outputs": [
    {
     "data": {
      "image/png": "[encoded data removed]",
      "text/plain": [
       "<Figure size 432x288 with 1 Axes>"
      ]
     },
     "metadata": {
      "needs_background": "light"
     },
     "output_type": "display_data"
    }
   ],
   "source": [
    "plt.plot(history.history['loss'])\n",
    "plt.plot(history.history['val_loss'], c='r')\n",
    "plt.show()"
   ]
  },
  {
   "cell_type": "code",
   "execution_count": null,
   "id": "4hxvtm7AIHrE",
   "metadata": {
    "id": "4hxvtm7AIHrE"
   },
   "outputs": [],
   "source": []
  }
 ],
 "metadata": {
  "colab": {
   "name": "Dengan Smote.ipynb",
   "provenance": []
  },
  "kernelspec": {
   "display_name": "Python [conda env:my_env]",
   "language": "python",
   "name": "conda-env-my_env-py"
  },
  "language_info": {
   "codemirror_mode": {
    "name": "ipython",
    "version": 3
   },
   "file_extension": ".py",
   "mimetype": "text/x-python",
   "name": "python",
   "nbconvert_exporter": "python",
   "pygments_lexer": "ipython3",
   "version": "3.8.5"
  },
  "varInspector": {
   "cols": {
    "lenName": 16,
    "lenType": 16,
    "lenVar": 40
   },
   "kernels_config": {
    "python": {
     "delete_cmd_postfix": "",
     "delete_cmd_prefix": "del ",
     "library": "var_list.py",
     "varRefreshCmd": "print(var_dic_list())"
    },
    "r": {
     "delete_cmd_postfix": ") ",
     "delete_cmd_prefix": "rm(",
     "library": "var_list.r",
     "varRefreshCmd": "cat(var_dic_list()) "
    }
   },
   "types_to_exclude": [
    "module",
    "function",
    "builtin_function_or_method",
    "instance",
    "_Feature"
   ],
   "window_display": false
  }
 },
 "nbformat": 4,
 "nbformat_minor": 5
}
