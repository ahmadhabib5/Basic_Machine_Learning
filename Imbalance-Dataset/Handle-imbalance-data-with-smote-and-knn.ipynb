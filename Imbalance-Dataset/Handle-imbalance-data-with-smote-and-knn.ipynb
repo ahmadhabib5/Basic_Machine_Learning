{
 "cells": [
  {
   "cell_type": "markdown",
   "id": "1bf634f3",
   "metadata": {},
   "source": [
    "# Import package"
   ]
  },
  {
   "cell_type": "code",
   "execution_count": 1,
   "id": "603adc42",
   "metadata": {},
   "outputs": [],
   "source": [
    "import pandas as pd\n",
    "import numpy as np\n",
    "import matplotlib.pyplot as plt\n",
    "import seaborn as sns"
   ]
  },
  {
   "cell_type": "markdown",
   "id": "f6a84fb2",
   "metadata": {},
   "source": [
    "# Load Data"
   ]
  },
  {
   "cell_type": "code",
   "execution_count": 2,
   "id": "5d2b343f",
   "metadata": {},
   "outputs": [
    {
     "data": {
      "text/html": [
       "<div>\n",
       "<style scoped>\n",
       "    .dataframe tbody tr th:only-of-type {\n",
       "        vertical-align: middle;\n",
       "    }\n",
       "\n",
       "    .dataframe tbody tr th {\n",
       "        vertical-align: top;\n",
       "    }\n",
       "\n",
       "    .dataframe thead th {\n",
       "        text-align: right;\n",
       "    }\n",
       "</style>\n",
       "<table border=\"1\" class=\"dataframe\">\n",
       "  <thead>\n",
       "    <tr style=\"text-align: right;\">\n",
       "      <th></th>\n",
       "      <th>PH</th>\n",
       "      <th>cahaya</th>\n",
       "      <th>intensitas air</th>\n",
       "      <th>suhu</th>\n",
       "      <th>PPM</th>\n",
       "      <th>tinggi air</th>\n",
       "      <th>aksi</th>\n",
       "    </tr>\n",
       "  </thead>\n",
       "  <tbody>\n",
       "    <tr>\n",
       "      <th>0</th>\n",
       "      <td>6.5</td>\n",
       "      <td>Ada</td>\n",
       "      <td>Tinggi</td>\n",
       "      <td>27.0</td>\n",
       "      <td>188.0</td>\n",
       "      <td>622</td>\n",
       "      <td>Hidupkan Lampu dan Pompa nutrisi TDS</td>\n",
       "    </tr>\n",
       "    <tr>\n",
       "      <th>1</th>\n",
       "      <td>5.7</td>\n",
       "      <td>Ada</td>\n",
       "      <td>Tinggi</td>\n",
       "      <td>26.9</td>\n",
       "      <td>79.0</td>\n",
       "      <td>557</td>\n",
       "      <td>Hidupkan Lampu dan Pompa nutrisi TDS</td>\n",
       "    </tr>\n",
       "    <tr>\n",
       "      <th>2</th>\n",
       "      <td>6.0</td>\n",
       "      <td>Ada</td>\n",
       "      <td>Tinggi</td>\n",
       "      <td>27.0</td>\n",
       "      <td>11.0</td>\n",
       "      <td>491</td>\n",
       "      <td>Hidupkan Lampu dan Pompa nutrisi TDS</td>\n",
       "    </tr>\n",
       "    <tr>\n",
       "      <th>3</th>\n",
       "      <td>6.5</td>\n",
       "      <td>Ada</td>\n",
       "      <td>Tinggi</td>\n",
       "      <td>27.1</td>\n",
       "      <td>345.0</td>\n",
       "      <td>12000</td>\n",
       "      <td>Tidak melakukan apa-apa</td>\n",
       "    </tr>\n",
       "    <tr>\n",
       "      <th>4</th>\n",
       "      <td>6.2</td>\n",
       "      <td>NaN</td>\n",
       "      <td>Tinggi</td>\n",
       "      <td>27.1</td>\n",
       "      <td>602.0</td>\n",
       "      <td>444</td>\n",
       "      <td>Tidak melakukan apa-apa</td>\n",
       "    </tr>\n",
       "  </tbody>\n",
       "</table>\n",
       "</div>"
      ],
      "text/plain": [
       "    PH cahaya intensitas air  suhu    PPM  tinggi air  \\\n",
       "0  6.5    Ada         Tinggi  27.0  188.0         622   \n",
       "1  5.7    Ada         Tinggi  26.9   79.0         557   \n",
       "2  6.0    Ada         Tinggi  27.0   11.0         491   \n",
       "3  6.5    Ada         Tinggi  27.1  345.0       12000   \n",
       "4  6.2    NaN         Tinggi  27.1  602.0         444   \n",
       "\n",
       "                                   aksi  \n",
       "0  Hidupkan Lampu dan Pompa nutrisi TDS  \n",
       "1  Hidupkan Lampu dan Pompa nutrisi TDS  \n",
       "2  Hidupkan Lampu dan Pompa nutrisi TDS  \n",
       "3               Tidak melakukan apa-apa  \n",
       "4               Tidak melakukan apa-apa  "
      ]
     },
     "execution_count": 2,
     "metadata": {},
     "output_type": "execute_result"
    }
   ],
   "source": [
    "df = pd.read_csv(\"activity_km_07_01.csv\")\n",
    "df.head()"
   ]
  },
  {
   "cell_type": "markdown",
   "id": "2b2ab920",
   "metadata": {},
   "source": [
    "### Mengganti nama kolom yang menggunakan spasi"
   ]
  },
  {
   "cell_type": "code",
   "execution_count": 3,
   "id": "aaf311ba",
   "metadata": {
    "scrolled": true
   },
   "outputs": [
    {
     "data": {
      "text/html": [
       "<div>\n",
       "<style scoped>\n",
       "    .dataframe tbody tr th:only-of-type {\n",
       "        vertical-align: middle;\n",
       "    }\n",
       "\n",
       "    .dataframe tbody tr th {\n",
       "        vertical-align: top;\n",
       "    }\n",
       "\n",
       "    .dataframe thead th {\n",
       "        text-align: right;\n",
       "    }\n",
       "</style>\n",
       "<table border=\"1\" class=\"dataframe\">\n",
       "  <thead>\n",
       "    <tr style=\"text-align: right;\">\n",
       "      <th></th>\n",
       "      <th>PH</th>\n",
       "      <th>cahaya</th>\n",
       "      <th>intensitas_air</th>\n",
       "      <th>suhu</th>\n",
       "      <th>PPM</th>\n",
       "      <th>tinggi_air</th>\n",
       "      <th>aksi</th>\n",
       "    </tr>\n",
       "  </thead>\n",
       "  <tbody>\n",
       "    <tr>\n",
       "      <th>0</th>\n",
       "      <td>6.5</td>\n",
       "      <td>Ada</td>\n",
       "      <td>Tinggi</td>\n",
       "      <td>27.0</td>\n",
       "      <td>188.0</td>\n",
       "      <td>622</td>\n",
       "      <td>Hidupkan Lampu dan Pompa nutrisi TDS</td>\n",
       "    </tr>\n",
       "    <tr>\n",
       "      <th>1</th>\n",
       "      <td>5.7</td>\n",
       "      <td>Ada</td>\n",
       "      <td>Tinggi</td>\n",
       "      <td>26.9</td>\n",
       "      <td>79.0</td>\n",
       "      <td>557</td>\n",
       "      <td>Hidupkan Lampu dan Pompa nutrisi TDS</td>\n",
       "    </tr>\n",
       "    <tr>\n",
       "      <th>2</th>\n",
       "      <td>6.0</td>\n",
       "      <td>Ada</td>\n",
       "      <td>Tinggi</td>\n",
       "      <td>27.0</td>\n",
       "      <td>11.0</td>\n",
       "      <td>491</td>\n",
       "      <td>Hidupkan Lampu dan Pompa nutrisi TDS</td>\n",
       "    </tr>\n",
       "    <tr>\n",
       "      <th>3</th>\n",
       "      <td>6.5</td>\n",
       "      <td>Ada</td>\n",
       "      <td>Tinggi</td>\n",
       "      <td>27.1</td>\n",
       "      <td>345.0</td>\n",
       "      <td>12000</td>\n",
       "      <td>Tidak melakukan apa-apa</td>\n",
       "    </tr>\n",
       "    <tr>\n",
       "      <th>4</th>\n",
       "      <td>6.2</td>\n",
       "      <td>NaN</td>\n",
       "      <td>Tinggi</td>\n",
       "      <td>27.1</td>\n",
       "      <td>602.0</td>\n",
       "      <td>444</td>\n",
       "      <td>Tidak melakukan apa-apa</td>\n",
       "    </tr>\n",
       "  </tbody>\n",
       "</table>\n",
       "</div>"
      ],
      "text/plain": [
       "    PH cahaya intensitas_air  suhu    PPM  tinggi_air  \\\n",
       "0  6.5    Ada         Tinggi  27.0  188.0         622   \n",
       "1  5.7    Ada         Tinggi  26.9   79.0         557   \n",
       "2  6.0    Ada         Tinggi  27.0   11.0         491   \n",
       "3  6.5    Ada         Tinggi  27.1  345.0       12000   \n",
       "4  6.2    NaN         Tinggi  27.1  602.0         444   \n",
       "\n",
       "                                   aksi  \n",
       "0  Hidupkan Lampu dan Pompa nutrisi TDS  \n",
       "1  Hidupkan Lampu dan Pompa nutrisi TDS  \n",
       "2  Hidupkan Lampu dan Pompa nutrisi TDS  \n",
       "3               Tidak melakukan apa-apa  \n",
       "4               Tidak melakukan apa-apa  "
      ]
     },
     "execution_count": 3,
     "metadata": {},
     "output_type": "execute_result"
    }
   ],
   "source": [
    "df.columns = df.columns.str.replace(\" \",\"_\")\n",
    "df.head()"
   ]
  },
  {
   "cell_type": "markdown",
   "id": "3d22f0f1",
   "metadata": {},
   "source": [
    "### Cek Missing Values"
   ]
  },
  {
   "cell_type": "code",
   "execution_count": 4,
   "id": "f93f3475",
   "metadata": {},
   "outputs": [
    {
     "data": {
      "text/plain": [
       "(616, 7)"
      ]
     },
     "execution_count": 4,
     "metadata": {},
     "output_type": "execute_result"
    }
   ],
   "source": [
    "df.shape"
   ]
  },
  {
   "cell_type": "code",
   "execution_count": 5,
   "id": "dad70baf",
   "metadata": {},
   "outputs": [
    {
     "name": "stdout",
     "output_type": "stream",
     "text": [
      "Total Rows           :  616\n",
      "Total Cols           :  7\n",
      "Total Missing Values :  74\n"
     ]
    }
   ],
   "source": [
    "print(\"Total Rows           : \", df.shape[0])\n",
    "print(\"Total Cols           : \", df.shape[1])\n",
    "print(\"Total Missing Values : \", df.isnull().sum().sum())"
   ]
  },
  {
   "cell_type": "code",
   "execution_count": 6,
   "id": "fc2d92e9",
   "metadata": {},
   "outputs": [
    {
     "data": {
      "text/html": [
       "<div>\n",
       "<style scoped>\n",
       "    .dataframe tbody tr th:only-of-type {\n",
       "        vertical-align: middle;\n",
       "    }\n",
       "\n",
       "    .dataframe tbody tr th {\n",
       "        vertical-align: top;\n",
       "    }\n",
       "\n",
       "    .dataframe thead th {\n",
       "        text-align: right;\n",
       "    }\n",
       "</style>\n",
       "<table border=\"1\" class=\"dataframe\">\n",
       "  <thead>\n",
       "    <tr style=\"text-align: right;\">\n",
       "      <th></th>\n",
       "      <th>Missing_values</th>\n",
       "      <th>Persentase_missing_values (%)</th>\n",
       "    </tr>\n",
       "  </thead>\n",
       "  <tbody>\n",
       "    <tr>\n",
       "      <th>PH</th>\n",
       "      <td>16</td>\n",
       "      <td>2.597403</td>\n",
       "    </tr>\n",
       "    <tr>\n",
       "      <th>cahaya</th>\n",
       "      <td>26</td>\n",
       "      <td>4.220779</td>\n",
       "    </tr>\n",
       "    <tr>\n",
       "      <th>intensitas_air</th>\n",
       "      <td>0</td>\n",
       "      <td>0.000000</td>\n",
       "    </tr>\n",
       "    <tr>\n",
       "      <th>suhu</th>\n",
       "      <td>27</td>\n",
       "      <td>4.383117</td>\n",
       "    </tr>\n",
       "    <tr>\n",
       "      <th>PPM</th>\n",
       "      <td>5</td>\n",
       "      <td>0.811688</td>\n",
       "    </tr>\n",
       "    <tr>\n",
       "      <th>tinggi_air</th>\n",
       "      <td>0</td>\n",
       "      <td>0.000000</td>\n",
       "    </tr>\n",
       "    <tr>\n",
       "      <th>aksi</th>\n",
       "      <td>0</td>\n",
       "      <td>0.000000</td>\n",
       "    </tr>\n",
       "  </tbody>\n",
       "</table>\n",
       "</div>"
      ],
      "text/plain": [
       "                Missing_values  Persentase_missing_values (%)\n",
       "PH                          16                       2.597403\n",
       "cahaya                      26                       4.220779\n",
       "intensitas_air               0                       0.000000\n",
       "suhu                        27                       4.383117\n",
       "PPM                          5                       0.811688\n",
       "tinggi_air                   0                       0.000000\n",
       "aksi                         0                       0.000000"
      ]
     },
     "execution_count": 6,
     "metadata": {},
     "output_type": "execute_result"
    }
   ],
   "source": [
    "pd.DataFrame({\n",
    "    'Missing_values': df.isnull().sum(),\n",
    "    'Persentase_missing_values (%)': (df.isnull().sum()/len(df))*100\n",
    "})"
   ]
  },
  {
   "cell_type": "markdown",
   "id": "104c17b3",
   "metadata": {},
   "source": [
    "### cek value target "
   ]
  },
  {
   "cell_type": "code",
   "execution_count": 7,
   "id": "b847064d",
   "metadata": {},
   "outputs": [
    {
     "data": {
      "text/html": [
       "<div>\n",
       "<style scoped>\n",
       "    .dataframe tbody tr th:only-of-type {\n",
       "        vertical-align: middle;\n",
       "    }\n",
       "\n",
       "    .dataframe tbody tr th {\n",
       "        vertical-align: top;\n",
       "    }\n",
       "\n",
       "    .dataframe thead th {\n",
       "        text-align: right;\n",
       "    }\n",
       "</style>\n",
       "<table border=\"1\" class=\"dataframe\">\n",
       "  <thead>\n",
       "    <tr style=\"text-align: right;\">\n",
       "      <th></th>\n",
       "      <th>aksi</th>\n",
       "    </tr>\n",
       "  </thead>\n",
       "  <tbody>\n",
       "    <tr>\n",
       "      <th>Tidak melakukan apa-apa</th>\n",
       "      <td>473</td>\n",
       "    </tr>\n",
       "    <tr>\n",
       "      <th>Hidupkan Lampu</th>\n",
       "      <td>92</td>\n",
       "    </tr>\n",
       "    <tr>\n",
       "      <th>Hidupkan Lampu dan Pompa nutrisi TDS</th>\n",
       "      <td>39</td>\n",
       "    </tr>\n",
       "    <tr>\n",
       "      <th>Hidupkan Pompa nutrisi TDS</th>\n",
       "      <td>12</td>\n",
       "    </tr>\n",
       "  </tbody>\n",
       "</table>\n",
       "</div>"
      ],
      "text/plain": [
       "                                      aksi\n",
       "Tidak melakukan apa-apa                473\n",
       "Hidupkan Lampu                          92\n",
       "Hidupkan Lampu dan Pompa nutrisi TDS    39\n",
       "Hidupkan Pompa nutrisi TDS              12"
      ]
     },
     "execution_count": 7,
     "metadata": {},
     "output_type": "execute_result"
    }
   ],
   "source": [
    "df.aksi.value_counts().to_frame()"
   ]
  },
  {
   "cell_type": "markdown",
   "id": "c051088f",
   "metadata": {},
   "source": [
    "# Handle Missing Value "
   ]
  },
  {
   "cell_type": "code",
   "execution_count": 8,
   "id": "ca1343b1",
   "metadata": {
    "scrolled": true
   },
   "outputs": [
    {
     "data": {
      "text/html": [
       "<div>\n",
       "<style scoped>\n",
       "    .dataframe tbody tr th:only-of-type {\n",
       "        vertical-align: middle;\n",
       "    }\n",
       "\n",
       "    .dataframe tbody tr th {\n",
       "        vertical-align: top;\n",
       "    }\n",
       "\n",
       "    .dataframe thead th {\n",
       "        text-align: right;\n",
       "    }\n",
       "</style>\n",
       "<table border=\"1\" class=\"dataframe\">\n",
       "  <thead>\n",
       "    <tr style=\"text-align: right;\">\n",
       "      <th></th>\n",
       "      <th>Missing_values</th>\n",
       "      <th>Persentase_missing_values (%)</th>\n",
       "    </tr>\n",
       "  </thead>\n",
       "  <tbody>\n",
       "    <tr>\n",
       "      <th>PH</th>\n",
       "      <td>16</td>\n",
       "      <td>2.597403</td>\n",
       "    </tr>\n",
       "    <tr>\n",
       "      <th>cahaya</th>\n",
       "      <td>26</td>\n",
       "      <td>4.220779</td>\n",
       "    </tr>\n",
       "    <tr>\n",
       "      <th>intensitas_air</th>\n",
       "      <td>0</td>\n",
       "      <td>0.000000</td>\n",
       "    </tr>\n",
       "    <tr>\n",
       "      <th>suhu</th>\n",
       "      <td>27</td>\n",
       "      <td>4.383117</td>\n",
       "    </tr>\n",
       "    <tr>\n",
       "      <th>PPM</th>\n",
       "      <td>5</td>\n",
       "      <td>0.811688</td>\n",
       "    </tr>\n",
       "    <tr>\n",
       "      <th>tinggi_air</th>\n",
       "      <td>0</td>\n",
       "      <td>0.000000</td>\n",
       "    </tr>\n",
       "    <tr>\n",
       "      <th>aksi</th>\n",
       "      <td>0</td>\n",
       "      <td>0.000000</td>\n",
       "    </tr>\n",
       "  </tbody>\n",
       "</table>\n",
       "</div>"
      ],
      "text/plain": [
       "                Missing_values  Persentase_missing_values (%)\n",
       "PH                          16                       2.597403\n",
       "cahaya                      26                       4.220779\n",
       "intensitas_air               0                       0.000000\n",
       "suhu                        27                       4.383117\n",
       "PPM                          5                       0.811688\n",
       "tinggi_air                   0                       0.000000\n",
       "aksi                         0                       0.000000"
      ]
     },
     "execution_count": 8,
     "metadata": {},
     "output_type": "execute_result"
    }
   ],
   "source": [
    "miss = pd.DataFrame({\n",
    "    'Missing_values': df.isnull().sum(),\n",
    "    'Persentase_missing_values (%)': (df.isnull().sum()/len(df))*100\n",
    "})\n",
    "miss"
   ]
  },
  {
   "cell_type": "markdown",
   "id": "624d4c7c",
   "metadata": {},
   "source": [
    "### Suhu"
   ]
  },
  {
   "cell_type": "code",
   "execution_count": 9,
   "id": "53243809",
   "metadata": {},
   "outputs": [
    {
     "data": {
      "text/plain": [
       "29.36400679117148"
      ]
     },
     "execution_count": 9,
     "metadata": {},
     "output_type": "execute_result"
    }
   ],
   "source": [
    "mean_temp = float(df.suhu.mean())\n",
    "mean_temp"
   ]
  },
  {
   "cell_type": "code",
   "execution_count": 10,
   "id": "0d69c1df",
   "metadata": {},
   "outputs": [],
   "source": [
    "df.suhu.fillna(value=mean_temp, inplace=True)"
   ]
  },
  {
   "cell_type": "markdown",
   "id": "393ecd27",
   "metadata": {},
   "source": [
    "###  cahaya"
   ]
  },
  {
   "cell_type": "code",
   "execution_count": 11,
   "id": "9d01890b",
   "metadata": {
    "scrolled": true
   },
   "outputs": [
    {
     "data": {
      "text/plain": [
       "'Ada'"
      ]
     },
     "execution_count": 11,
     "metadata": {},
     "output_type": "execute_result"
    }
   ],
   "source": [
    "mode_light = df.cahaya.mode()[0]\n",
    "mode_light"
   ]
  },
  {
   "cell_type": "code",
   "execution_count": 12,
   "id": "bd14e18d",
   "metadata": {},
   "outputs": [],
   "source": [
    "df.cahaya.fillna(value=mode_light, inplace=True)"
   ]
  },
  {
   "cell_type": "markdown",
   "id": "6837e86c",
   "metadata": {},
   "source": [
    "### PH"
   ]
  },
  {
   "cell_type": "code",
   "execution_count": 13,
   "id": "28234da0",
   "metadata": {},
   "outputs": [
    {
     "data": {
      "text/plain": [
       "6.655166666666665"
      ]
     },
     "execution_count": 13,
     "metadata": {},
     "output_type": "execute_result"
    }
   ],
   "source": [
    "mean_ph = float(df.PH.mean())\n",
    "mean_ph"
   ]
  },
  {
   "cell_type": "code",
   "execution_count": 14,
   "id": "21a55751",
   "metadata": {},
   "outputs": [],
   "source": [
    "df.PH.fillna(value=mean_ph, inplace=True)"
   ]
  },
  {
   "cell_type": "markdown",
   "id": "d3334c17",
   "metadata": {},
   "source": [
    "### PPM"
   ]
  },
  {
   "cell_type": "code",
   "execution_count": 15,
   "id": "f5cca877",
   "metadata": {},
   "outputs": [
    {
     "data": {
      "text/plain": [
       "1032.836333878887"
      ]
     },
     "execution_count": 15,
     "metadata": {},
     "output_type": "execute_result"
    }
   ],
   "source": [
    "mean_ppm = float(df.PPM.mean())\n",
    "mean_ppm"
   ]
  },
  {
   "cell_type": "code",
   "execution_count": 16,
   "id": "39131d43",
   "metadata": {},
   "outputs": [],
   "source": [
    "df.PPM.fillna(value=mean_ppm, inplace=True)"
   ]
  },
  {
   "cell_type": "code",
   "execution_count": 17,
   "id": "130b772a",
   "metadata": {
    "scrolled": true
   },
   "outputs": [
    {
     "data": {
      "text/html": [
       "<div>\n",
       "<style scoped>\n",
       "    .dataframe tbody tr th:only-of-type {\n",
       "        vertical-align: middle;\n",
       "    }\n",
       "\n",
       "    .dataframe tbody tr th {\n",
       "        vertical-align: top;\n",
       "    }\n",
       "\n",
       "    .dataframe thead th {\n",
       "        text-align: right;\n",
       "    }\n",
       "</style>\n",
       "<table border=\"1\" class=\"dataframe\">\n",
       "  <thead>\n",
       "    <tr style=\"text-align: right;\">\n",
       "      <th></th>\n",
       "      <th>Missing_values</th>\n",
       "      <th>Persentase_missing_values (%)</th>\n",
       "    </tr>\n",
       "  </thead>\n",
       "  <tbody>\n",
       "    <tr>\n",
       "      <th>PH</th>\n",
       "      <td>0</td>\n",
       "      <td>0.0</td>\n",
       "    </tr>\n",
       "    <tr>\n",
       "      <th>cahaya</th>\n",
       "      <td>0</td>\n",
       "      <td>0.0</td>\n",
       "    </tr>\n",
       "    <tr>\n",
       "      <th>intensitas_air</th>\n",
       "      <td>0</td>\n",
       "      <td>0.0</td>\n",
       "    </tr>\n",
       "    <tr>\n",
       "      <th>suhu</th>\n",
       "      <td>0</td>\n",
       "      <td>0.0</td>\n",
       "    </tr>\n",
       "    <tr>\n",
       "      <th>PPM</th>\n",
       "      <td>0</td>\n",
       "      <td>0.0</td>\n",
       "    </tr>\n",
       "    <tr>\n",
       "      <th>tinggi_air</th>\n",
       "      <td>0</td>\n",
       "      <td>0.0</td>\n",
       "    </tr>\n",
       "    <tr>\n",
       "      <th>aksi</th>\n",
       "      <td>0</td>\n",
       "      <td>0.0</td>\n",
       "    </tr>\n",
       "  </tbody>\n",
       "</table>\n",
       "</div>"
      ],
      "text/plain": [
       "                Missing_values  Persentase_missing_values (%)\n",
       "PH                           0                            0.0\n",
       "cahaya                       0                            0.0\n",
       "intensitas_air               0                            0.0\n",
       "suhu                         0                            0.0\n",
       "PPM                          0                            0.0\n",
       "tinggi_air                   0                            0.0\n",
       "aksi                         0                            0.0"
      ]
     },
     "execution_count": 17,
     "metadata": {},
     "output_type": "execute_result"
    }
   ],
   "source": [
    "miss = pd.DataFrame({\n",
    "    'Missing_values': df.isnull().sum(),\n",
    "    'Persentase_missing_values (%)': (df.isnull().sum()/len(df))*100\n",
    "})\n",
    "miss"
   ]
  },
  {
   "cell_type": "markdown",
   "id": "7ff0affb",
   "metadata": {},
   "source": [
    "# Handle & detect outliers"
   ]
  },
  {
   "cell_type": "code",
   "execution_count": 18,
   "id": "f53121b9",
   "metadata": {},
   "outputs": [],
   "source": [
    "num_cols = np.array(['PH', 'suhu', 'PPM', 'tinggi_air']).reshape(2,2)"
   ]
  },
  {
   "cell_type": "code",
   "execution_count": 19,
   "id": "a71cddcc",
   "metadata": {},
   "outputs": [
    {
     "data": {
      "image/png": "[encoded data removed]",
      "text/plain": [
       "<Figure size 1440x720 with 4 Axes>"
      ]
     },
     "metadata": {
      "needs_background": "light"
     },
     "output_type": "display_data"
    }
   ],
   "source": [
    "nrows=2\n",
    "ncols=2\n",
    "fig, ax = plt.subplots(nrows=nrows, ncols=ncols, figsize=(20,10))\n",
    "for i in range(nrows):\n",
    "    for j in range(ncols):\n",
    "        ax[i][j].set_title(num_cols[i][j])\n",
    "        df[[num_cols[i][j]]].boxplot(ax=ax[i][j])\n",
    "plt.show()"
   ]
  },
  {
   "cell_type": "markdown",
   "id": "9fb3e7d9",
   "metadata": {},
   "source": [
    "### Suhu"
   ]
  },
  {
   "cell_type": "markdown",
   "id": "cb8b8e98",
   "metadata": {},
   "source": [
    "`ambil nilai suhu yang lebih dari nol saja`"
   ]
  },
  {
   "cell_type": "code",
   "execution_count": 20,
   "id": "e3b3bf41",
   "metadata": {},
   "outputs": [
    {
     "data": {
      "text/html": [
       "<div>\n",
       "<style scoped>\n",
       "    .dataframe tbody tr th:only-of-type {\n",
       "        vertical-align: middle;\n",
       "    }\n",
       "\n",
       "    .dataframe tbody tr th {\n",
       "        vertical-align: top;\n",
       "    }\n",
       "\n",
       "    .dataframe thead th {\n",
       "        text-align: right;\n",
       "    }\n",
       "</style>\n",
       "<table border=\"1\" class=\"dataframe\">\n",
       "  <thead>\n",
       "    <tr style=\"text-align: right;\">\n",
       "      <th></th>\n",
       "      <th>PH</th>\n",
       "      <th>cahaya</th>\n",
       "      <th>intensitas_air</th>\n",
       "      <th>suhu</th>\n",
       "      <th>PPM</th>\n",
       "      <th>tinggi_air</th>\n",
       "      <th>aksi</th>\n",
       "    </tr>\n",
       "  </thead>\n",
       "  <tbody>\n",
       "    <tr>\n",
       "      <th>109</th>\n",
       "      <td>5.7</td>\n",
       "      <td>Tidak ada</td>\n",
       "      <td>Cukup</td>\n",
       "      <td>-300.0</td>\n",
       "      <td>1991.0</td>\n",
       "      <td>624</td>\n",
       "      <td>Tidak melakukan apa-apa</td>\n",
       "    </tr>\n",
       "    <tr>\n",
       "      <th>118</th>\n",
       "      <td>5.9</td>\n",
       "      <td>Tidak ada</td>\n",
       "      <td>Cukup</td>\n",
       "      <td>-100.0</td>\n",
       "      <td>1443.0</td>\n",
       "      <td>401</td>\n",
       "      <td>Tidak melakukan apa-apa</td>\n",
       "    </tr>\n",
       "  </tbody>\n",
       "</table>\n",
       "</div>"
      ],
      "text/plain": [
       "      PH     cahaya intensitas_air   suhu     PPM  tinggi_air  \\\n",
       "109  5.7  Tidak ada          Cukup -300.0  1991.0         624   \n",
       "118  5.9  Tidak ada          Cukup -100.0  1443.0         401   \n",
       "\n",
       "                        aksi  \n",
       "109  Tidak melakukan apa-apa  \n",
       "118  Tidak melakukan apa-apa  "
      ]
     },
     "execution_count": 20,
     "metadata": {},
     "output_type": "execute_result"
    }
   ],
   "source": [
    "df[df.suhu < 0]"
   ]
  },
  {
   "cell_type": "code",
   "execution_count": 21,
   "id": "17785c3c",
   "metadata": {},
   "outputs": [],
   "source": [
    "df = df[df.suhu > 0]"
   ]
  },
  {
   "cell_type": "markdown",
   "id": "7aaab675",
   "metadata": {},
   "source": [
    "### Tinggi air"
   ]
  },
  {
   "cell_type": "code",
   "execution_count": 22,
   "id": "24daf4f9",
   "metadata": {},
   "outputs": [
    {
     "data": {
      "text/plain": [
       "629"
      ]
     },
     "execution_count": 22,
     "metadata": {},
     "output_type": "execute_result"
    }
   ],
   "source": [
    "df[df.tinggi_air < 8000]['tinggi_air'].max()"
   ]
  },
  {
   "cell_type": "markdown",
   "id": "8646f38d",
   "metadata": {},
   "source": [
    "`ambil nilai dibawah 700`"
   ]
  },
  {
   "cell_type": "code",
   "execution_count": 23,
   "id": "0ed4ccbd",
   "metadata": {},
   "outputs": [],
   "source": [
    "df = df[df.tinggi_air < 700]"
   ]
  },
  {
   "cell_type": "markdown",
   "id": "7733edbf",
   "metadata": {},
   "source": [
    "### Visualisasi kembali"
   ]
  },
  {
   "cell_type": "code",
   "execution_count": 24,
   "id": "cad4a74f",
   "metadata": {},
   "outputs": [
    {
     "data": {
      "image/png": "[encoded data removed]",
      "text/plain": [
       "<Figure size 1440x720 with 4 Axes>"
      ]
     },
     "metadata": {
      "needs_background": "light"
     },
     "output_type": "display_data"
    }
   ],
   "source": [
    "nrows=2\n",
    "ncols=2\n",
    "fig, ax = plt.subplots(nrows=nrows, ncols=ncols, figsize=(20,10))\n",
    "for i in range(nrows):\n",
    "    for j in range(ncols):\n",
    "        ax[i][j].set_title(num_cols[i][j])\n",
    "        df[[num_cols[i][j]]].boxplot(ax=ax[i][j])\n",
    "plt.show()"
   ]
  },
  {
   "cell_type": "markdown",
   "id": "a44f88dd",
   "metadata": {},
   "source": [
    "`Pada feature PH kami menganggap nilainya bukan pencilan karena masih dalam rentan nilai PH (1-14)`"
   ]
  },
  {
   "cell_type": "markdown",
   "id": "4bc57fc1",
   "metadata": {},
   "source": [
    "# Cek Imbalance data"
   ]
  },
  {
   "cell_type": "code",
   "execution_count": 25,
   "id": "14a992a7",
   "metadata": {},
   "outputs": [
    {
     "data": {
      "image/png": "[encoded data removed]",
      "text/plain": [
       "<Figure size 1440x432 with 1 Axes>"
      ]
     },
     "metadata": {
      "needs_background": "light"
     },
     "output_type": "display_data"
    }
   ],
   "source": [
    "plt.figure(figsize=(20,6))\n",
    "sns.set_context('notebook', font_scale=1.5)\n",
    "sns.countplot('aksi',data=df, palette=\"Set1\")\n",
    "plt.annotate(''+str(df['aksi'][df['aksi']=='Hidupkan Lampu dan Pompa nutrisi TDS'].count()), xy=(-0.2, 250), xytext=(-0.03, 40), size=15, color='r')\n",
    "plt.annotate(''+str(df['aksi'][df['aksi']=='Tidak melakukan apa-apa'].count()), xy=(-0.2, 100), xytext=(0.97, 200), size=15, color='w')\n",
    "plt.annotate(''+str(df['aksi'][df['aksi']=='Hidupkan Lampu'].count()), xy=(-0.2, 100), xytext=(1.97, 30), size=15, color='w')\n",
    "plt.annotate(''+str(df['aksi'][df['aksi']=='Hidupkan Pompa nutrisi TDS'].count()), xy=(-0.2, 100), xytext=(2.97, 30), size=15, color='purple')\n",
    "plt.tight_layout()\n",
    "plt.show()"
   ]
  },
  {
   "cell_type": "code",
   "execution_count": 26,
   "id": "27855080",
   "metadata": {},
   "outputs": [
    {
     "data": {
      "text/plain": [
       "array(['Tinggi', 'Cukup', 'Rendah', 'Rendah sekali'], dtype=object)"
      ]
     },
     "execution_count": 26,
     "metadata": {},
     "output_type": "execute_result"
    }
   ],
   "source": [
    "df.intensitas_air.unique()"
   ]
  },
  {
   "cell_type": "markdown",
   "id": "1ab7e4ca",
   "metadata": {},
   "source": [
    "# Encoding"
   ]
  },
  {
   "cell_type": "code",
   "execution_count": 27,
   "id": "30fb8129",
   "metadata": {},
   "outputs": [],
   "source": [
    "df_backup = df.copy(deep=True)"
   ]
  },
  {
   "cell_type": "code",
   "execution_count": 28,
   "id": "61133be7",
   "metadata": {},
   "outputs": [],
   "source": [
    "#applymap dengan dict untuk label encoding\n",
    "mapping = {'Rendah sekali': 1,\n",
    "           'Rendah': 2,\n",
    "           'Cukup': 3,\n",
    "           'Tinggi': 4}\n",
    "df.intensitas_air = df[['intensitas_air']].applymap(mapping.get)"
   ]
  },
  {
   "cell_type": "code",
   "execution_count": 29,
   "id": "a2932fcd",
   "metadata": {},
   "outputs": [],
   "source": [
    "# # one hot encoding cahaya\n",
    "# cahaya = pd.get_dummies(df.cahaya, prefix='cahaya_')\n",
    "# df = pd.concat([df, cahaya], axis=1)\n",
    "# df.drop(columns='cahaya', inplace=True)\n",
    "# df.head()"
   ]
  },
  {
   "cell_type": "code",
   "execution_count": 30,
   "id": "332215f4",
   "metadata": {},
   "outputs": [
    {
     "data": {
      "text/plain": [
       "array(['Ada', 'Tidak ada'], dtype=object)"
      ]
     },
     "execution_count": 30,
     "metadata": {},
     "output_type": "execute_result"
    }
   ],
   "source": [
    "df.cahaya.unique()"
   ]
  },
  {
   "cell_type": "code",
   "execution_count": 31,
   "id": "ab9ea79e",
   "metadata": {},
   "outputs": [],
   "source": [
    "#applymap dengan dict untuk label encoding\n",
    "mapping2 = {'Tidak ada': 0,\n",
    "           'Ada': 1}\n",
    "df.cahaya = df[['cahaya']].applymap(mapping2.get)"
   ]
  },
  {
   "cell_type": "code",
   "execution_count": 32,
   "id": "377360ca",
   "metadata": {},
   "outputs": [
    {
     "data": {
      "text/html": [
       "<div>\n",
       "<style scoped>\n",
       "    .dataframe tbody tr th:only-of-type {\n",
       "        vertical-align: middle;\n",
       "    }\n",
       "\n",
       "    .dataframe tbody tr th {\n",
       "        vertical-align: top;\n",
       "    }\n",
       "\n",
       "    .dataframe thead th {\n",
       "        text-align: right;\n",
       "    }\n",
       "</style>\n",
       "<table border=\"1\" class=\"dataframe\">\n",
       "  <thead>\n",
       "    <tr style=\"text-align: right;\">\n",
       "      <th></th>\n",
       "      <th>PH</th>\n",
       "      <th>cahaya</th>\n",
       "      <th>intensitas_air</th>\n",
       "      <th>suhu</th>\n",
       "      <th>PPM</th>\n",
       "      <th>tinggi_air</th>\n",
       "      <th>aksi</th>\n",
       "    </tr>\n",
       "  </thead>\n",
       "  <tbody>\n",
       "    <tr>\n",
       "      <th>0</th>\n",
       "      <td>6.5</td>\n",
       "      <td>1</td>\n",
       "      <td>4</td>\n",
       "      <td>27.0</td>\n",
       "      <td>188.0</td>\n",
       "      <td>622</td>\n",
       "      <td>4</td>\n",
       "    </tr>\n",
       "    <tr>\n",
       "      <th>1</th>\n",
       "      <td>5.7</td>\n",
       "      <td>1</td>\n",
       "      <td>4</td>\n",
       "      <td>26.9</td>\n",
       "      <td>79.0</td>\n",
       "      <td>557</td>\n",
       "      <td>4</td>\n",
       "    </tr>\n",
       "    <tr>\n",
       "      <th>2</th>\n",
       "      <td>6.0</td>\n",
       "      <td>1</td>\n",
       "      <td>4</td>\n",
       "      <td>27.0</td>\n",
       "      <td>11.0</td>\n",
       "      <td>491</td>\n",
       "      <td>4</td>\n",
       "    </tr>\n",
       "    <tr>\n",
       "      <th>4</th>\n",
       "      <td>6.2</td>\n",
       "      <td>1</td>\n",
       "      <td>4</td>\n",
       "      <td>27.1</td>\n",
       "      <td>602.0</td>\n",
       "      <td>444</td>\n",
       "      <td>1</td>\n",
       "    </tr>\n",
       "    <tr>\n",
       "      <th>5</th>\n",
       "      <td>6.1</td>\n",
       "      <td>1</td>\n",
       "      <td>4</td>\n",
       "      <td>27.0</td>\n",
       "      <td>561.0</td>\n",
       "      <td>405</td>\n",
       "      <td>2</td>\n",
       "    </tr>\n",
       "  </tbody>\n",
       "</table>\n",
       "</div>"
      ],
      "text/plain": [
       "    PH  cahaya  intensitas_air  suhu    PPM  tinggi_air  aksi\n",
       "0  6.5       1               4  27.0  188.0         622     4\n",
       "1  5.7       1               4  26.9   79.0         557     4\n",
       "2  6.0       1               4  27.0   11.0         491     4\n",
       "4  6.2       1               4  27.1  602.0         444     1\n",
       "5  6.1       1               4  27.0  561.0         405     2"
      ]
     },
     "execution_count": 32,
     "metadata": {},
     "output_type": "execute_result"
    }
   ],
   "source": [
    "#applymap dengan dict untuk label encoding\n",
    "mapping3 = {'Tidak melakukan apa-apa': 1,\n",
    "           'Hidupkan Lampu': 2,\n",
    "           'Hidupkan Pompa nutrisi TDS': 3,\n",
    "           'Hidupkan Lampu dan Pompa nutrisi TDS': 4}\n",
    "df.aksi = df[['aksi']].applymap(mapping3.get)\n",
    "df.head()"
   ]
  },
  {
   "cell_type": "code",
   "execution_count": 33,
   "id": "19a1c636",
   "metadata": {},
   "outputs": [
    {
     "data": {
      "text/html": [
       "<div>\n",
       "<style scoped>\n",
       "    .dataframe tbody tr th:only-of-type {\n",
       "        vertical-align: middle;\n",
       "    }\n",
       "\n",
       "    .dataframe tbody tr th {\n",
       "        vertical-align: top;\n",
       "    }\n",
       "\n",
       "    .dataframe thead th {\n",
       "        text-align: right;\n",
       "    }\n",
       "</style>\n",
       "<table border=\"1\" class=\"dataframe\">\n",
       "  <thead>\n",
       "    <tr style=\"text-align: right;\">\n",
       "      <th></th>\n",
       "      <th>aksi</th>\n",
       "    </tr>\n",
       "  </thead>\n",
       "  <tbody>\n",
       "    <tr>\n",
       "      <th>PH</th>\n",
       "      <td>0.104946</td>\n",
       "    </tr>\n",
       "    <tr>\n",
       "      <th>cahaya</th>\n",
       "      <td>0.341421</td>\n",
       "    </tr>\n",
       "    <tr>\n",
       "      <th>intensitas_air</th>\n",
       "      <td>-0.045024</td>\n",
       "    </tr>\n",
       "    <tr>\n",
       "      <th>suhu</th>\n",
       "      <td>-0.530751</td>\n",
       "    </tr>\n",
       "    <tr>\n",
       "      <th>PPM</th>\n",
       "      <td>-0.271730</td>\n",
       "    </tr>\n",
       "    <tr>\n",
       "      <th>tinggi_air</th>\n",
       "      <td>0.098685</td>\n",
       "    </tr>\n",
       "    <tr>\n",
       "      <th>aksi</th>\n",
       "      <td>1.000000</td>\n",
       "    </tr>\n",
       "  </tbody>\n",
       "</table>\n",
       "</div>"
      ],
      "text/plain": [
       "                    aksi\n",
       "PH              0.104946\n",
       "cahaya          0.341421\n",
       "intensitas_air -0.045024\n",
       "suhu           -0.530751\n",
       "PPM            -0.271730\n",
       "tinggi_air      0.098685\n",
       "aksi            1.000000"
      ]
     },
     "execution_count": 33,
     "metadata": {},
     "output_type": "execute_result"
    }
   ],
   "source": [
    "df.corr()['aksi'].to_frame()"
   ]
  },
  {
   "cell_type": "code",
   "execution_count": 34,
   "id": "9f91005f",
   "metadata": {},
   "outputs": [],
   "source": [
    "X = df.drop(columns=\"aksi\")\n",
    "y = df.aksi"
   ]
  },
  {
   "cell_type": "markdown",
   "id": "90f3ca23",
   "metadata": {},
   "source": [
    "# Handle dengan SMOTE"
   ]
  },
  {
   "cell_type": "code",
   "execution_count": 35,
   "id": "14ec0f7e",
   "metadata": {},
   "outputs": [
    {
     "name": "stdout",
     "output_type": "stream",
     "text": [
      "Shape of X before SMOTE: (612, 6)\n",
      "Shape of X after SMOTE: (1876, 6)\n",
      "\n",
      "Balance of positive and negative classes (%):\n"
     ]
    },
    {
     "data": {
      "text/plain": [
       "4    25.0\n",
       "3    25.0\n",
       "2    25.0\n",
       "1    25.0\n",
       "Name: aksi, dtype: float64"
      ]
     },
     "execution_count": 35,
     "metadata": {},
     "output_type": "execute_result"
    }
   ],
   "source": [
    "from imblearn.over_sampling import SMOTE \n",
    "\n",
    "sm = SMOTE(random_state=42)\n",
    "\n",
    "X_sm, y_sm = sm.fit_resample(X, y)\n",
    "\n",
    "print(f'''Shape of X before SMOTE: {X.shape}\n",
    "Shape of X after SMOTE: {X_sm.shape}''')\n",
    "\n",
    "print('\\nBalance of positive and negative classes (%):')\n",
    "y_sm.value_counts(normalize=True) * 100"
   ]
  },
  {
   "cell_type": "markdown",
   "id": "993b5f9f",
   "metadata": {},
   "source": [
    "# Visualize"
   ]
  },
  {
   "cell_type": "code",
   "execution_count": 36,
   "id": "b98994a3",
   "metadata": {},
   "outputs": [
    {
     "data": {
      "text/html": [
       "<div>\n",
       "<style scoped>\n",
       "    .dataframe tbody tr th:only-of-type {\n",
       "        vertical-align: middle;\n",
       "    }\n",
       "\n",
       "    .dataframe tbody tr th {\n",
       "        vertical-align: top;\n",
       "    }\n",
       "\n",
       "    .dataframe thead th {\n",
       "        text-align: right;\n",
       "    }\n",
       "</style>\n",
       "<table border=\"1\" class=\"dataframe\">\n",
       "  <thead>\n",
       "    <tr style=\"text-align: right;\">\n",
       "      <th></th>\n",
       "      <th>PH</th>\n",
       "      <th>cahaya</th>\n",
       "      <th>intensitas_air</th>\n",
       "      <th>suhu</th>\n",
       "      <th>PPM</th>\n",
       "      <th>tinggi_air</th>\n",
       "      <th>aksi</th>\n",
       "    </tr>\n",
       "  </thead>\n",
       "  <tbody>\n",
       "    <tr>\n",
       "      <th>0</th>\n",
       "      <td>6.5</td>\n",
       "      <td>1</td>\n",
       "      <td>4</td>\n",
       "      <td>27.0</td>\n",
       "      <td>188.0</td>\n",
       "      <td>622</td>\n",
       "      <td>4</td>\n",
       "    </tr>\n",
       "    <tr>\n",
       "      <th>1</th>\n",
       "      <td>5.7</td>\n",
       "      <td>1</td>\n",
       "      <td>4</td>\n",
       "      <td>26.9</td>\n",
       "      <td>79.0</td>\n",
       "      <td>557</td>\n",
       "      <td>4</td>\n",
       "    </tr>\n",
       "    <tr>\n",
       "      <th>2</th>\n",
       "      <td>6.0</td>\n",
       "      <td>1</td>\n",
       "      <td>4</td>\n",
       "      <td>27.0</td>\n",
       "      <td>11.0</td>\n",
       "      <td>491</td>\n",
       "      <td>4</td>\n",
       "    </tr>\n",
       "    <tr>\n",
       "      <th>3</th>\n",
       "      <td>6.2</td>\n",
       "      <td>1</td>\n",
       "      <td>4</td>\n",
       "      <td>27.1</td>\n",
       "      <td>602.0</td>\n",
       "      <td>444</td>\n",
       "      <td>1</td>\n",
       "    </tr>\n",
       "    <tr>\n",
       "      <th>4</th>\n",
       "      <td>6.1</td>\n",
       "      <td>1</td>\n",
       "      <td>4</td>\n",
       "      <td>27.0</td>\n",
       "      <td>561.0</td>\n",
       "      <td>405</td>\n",
       "      <td>2</td>\n",
       "    </tr>\n",
       "  </tbody>\n",
       "</table>\n",
       "</div>"
      ],
      "text/plain": [
       "    PH  cahaya  intensitas_air  suhu    PPM  tinggi_air  aksi\n",
       "0  6.5       1               4  27.0  188.0         622     4\n",
       "1  5.7       1               4  26.9   79.0         557     4\n",
       "2  6.0       1               4  27.0   11.0         491     4\n",
       "3  6.2       1               4  27.1  602.0         444     1\n",
       "4  6.1       1               4  27.0  561.0         405     2"
      ]
     },
     "execution_count": 36,
     "metadata": {},
     "output_type": "execute_result"
    }
   ],
   "source": [
    "df_smote = pd.concat([X_sm, y_sm], axis=1)\n",
    "df_smote.head()"
   ]
  },
  {
   "cell_type": "code",
   "execution_count": 37,
   "id": "f2cca27c",
   "metadata": {},
   "outputs": [
    {
     "data": {
      "text/plain": [
       "(39, 7)"
      ]
     },
     "execution_count": 37,
     "metadata": {},
     "output_type": "execute_result"
    }
   ],
   "source": [
    "df[df['aksi'] == 4].shape"
   ]
  },
  {
   "cell_type": "code",
   "execution_count": 38,
   "id": "47097632",
   "metadata": {},
   "outputs": [
    {
     "data": {
      "text/plain": [
       "(469, 7)"
      ]
     },
     "execution_count": 38,
     "metadata": {},
     "output_type": "execute_result"
    }
   ],
   "source": [
    "df_smote[df_smote['aksi'] == 4].shape"
   ]
  },
  {
   "cell_type": "markdown",
   "id": "96b04906",
   "metadata": {},
   "source": [
    "### Swap numeric menjadi kategoric lagi untuk visualisasi"
   ]
  },
  {
   "cell_type": "code",
   "execution_count": 39,
   "id": "582b9dc2",
   "metadata": {},
   "outputs": [
    {
     "data": {
      "text/plain": [
       "{0: 'Tidak ada', 1: 'Ada'}"
      ]
     },
     "execution_count": 39,
     "metadata": {},
     "output_type": "execute_result"
    }
   ],
   "source": [
    "{value: key for key, value in mapping2.items()}"
   ]
  },
  {
   "cell_type": "code",
   "execution_count": 40,
   "id": "f2545e81",
   "metadata": {},
   "outputs": [
    {
     "data": {
      "text/html": [
       "<div>\n",
       "<style scoped>\n",
       "    .dataframe tbody tr th:only-of-type {\n",
       "        vertical-align: middle;\n",
       "    }\n",
       "\n",
       "    .dataframe tbody tr th {\n",
       "        vertical-align: top;\n",
       "    }\n",
       "\n",
       "    .dataframe thead th {\n",
       "        text-align: right;\n",
       "    }\n",
       "</style>\n",
       "<table border=\"1\" class=\"dataframe\">\n",
       "  <thead>\n",
       "    <tr style=\"text-align: right;\">\n",
       "      <th></th>\n",
       "      <th>PH</th>\n",
       "      <th>cahaya</th>\n",
       "      <th>intensitas_air</th>\n",
       "      <th>suhu</th>\n",
       "      <th>PPM</th>\n",
       "      <th>tinggi_air</th>\n",
       "      <th>aksi</th>\n",
       "    </tr>\n",
       "  </thead>\n",
       "  <tbody>\n",
       "    <tr>\n",
       "      <th>0</th>\n",
       "      <td>6.5</td>\n",
       "      <td>Ada</td>\n",
       "      <td>Tinggi</td>\n",
       "      <td>27.0</td>\n",
       "      <td>188.0</td>\n",
       "      <td>622</td>\n",
       "      <td>Hidupkan Lampu dan Pompa nutrisi TDS</td>\n",
       "    </tr>\n",
       "    <tr>\n",
       "      <th>1</th>\n",
       "      <td>5.7</td>\n",
       "      <td>Ada</td>\n",
       "      <td>Tinggi</td>\n",
       "      <td>26.9</td>\n",
       "      <td>79.0</td>\n",
       "      <td>557</td>\n",
       "      <td>Hidupkan Lampu dan Pompa nutrisi TDS</td>\n",
       "    </tr>\n",
       "    <tr>\n",
       "      <th>2</th>\n",
       "      <td>6.0</td>\n",
       "      <td>Ada</td>\n",
       "      <td>Tinggi</td>\n",
       "      <td>27.0</td>\n",
       "      <td>11.0</td>\n",
       "      <td>491</td>\n",
       "      <td>Hidupkan Lampu dan Pompa nutrisi TDS</td>\n",
       "    </tr>\n",
       "    <tr>\n",
       "      <th>3</th>\n",
       "      <td>6.2</td>\n",
       "      <td>Ada</td>\n",
       "      <td>Tinggi</td>\n",
       "      <td>27.1</td>\n",
       "      <td>602.0</td>\n",
       "      <td>444</td>\n",
       "      <td>Tidak melakukan apa-apa</td>\n",
       "    </tr>\n",
       "    <tr>\n",
       "      <th>4</th>\n",
       "      <td>6.1</td>\n",
       "      <td>Ada</td>\n",
       "      <td>Tinggi</td>\n",
       "      <td>27.0</td>\n",
       "      <td>561.0</td>\n",
       "      <td>405</td>\n",
       "      <td>Hidupkan Lampu</td>\n",
       "    </tr>\n",
       "  </tbody>\n",
       "</table>\n",
       "</div>"
      ],
      "text/plain": [
       "    PH cahaya intensitas_air  suhu    PPM  tinggi_air  \\\n",
       "0  6.5    Ada         Tinggi  27.0  188.0         622   \n",
       "1  5.7    Ada         Tinggi  26.9   79.0         557   \n",
       "2  6.0    Ada         Tinggi  27.0   11.0         491   \n",
       "3  6.2    Ada         Tinggi  27.1  602.0         444   \n",
       "4  6.1    Ada         Tinggi  27.0  561.0         405   \n",
       "\n",
       "                                   aksi  \n",
       "0  Hidupkan Lampu dan Pompa nutrisi TDS  \n",
       "1  Hidupkan Lampu dan Pompa nutrisi TDS  \n",
       "2  Hidupkan Lampu dan Pompa nutrisi TDS  \n",
       "3               Tidak melakukan apa-apa  \n",
       "4                        Hidupkan Lampu  "
      ]
     },
     "execution_count": 40,
     "metadata": {},
     "output_type": "execute_result"
    }
   ],
   "source": [
    "df_smote['intensitas_air'] = df_smote[['intensitas_air']].applymap({value: key for key, value in mapping.items()}.get)\n",
    "df_smote['cahaya'] = df_smote[['cahaya']].applymap({value: key for key, value in mapping2.items()}.get)\n",
    "df_smote['aksi'] = df_smote[['aksi']].applymap({value: key for key, value in mapping3.items()}.get)\n",
    "df_smote.head()"
   ]
  },
  {
   "cell_type": "code",
   "execution_count": 41,
   "id": "fc16242d",
   "metadata": {},
   "outputs": [
    {
     "data": {
      "text/plain": [
       "array(['Tinggi', 'Cukup', 'Rendah', 'Rendah sekali'], dtype=object)"
      ]
     },
     "execution_count": 41,
     "metadata": {},
     "output_type": "execute_result"
    }
   ],
   "source": [
    "df_smote.intensitas_air.unique()"
   ]
  },
  {
   "cell_type": "markdown",
   "id": "cd11c5ad",
   "metadata": {},
   "source": [
    "### PH "
   ]
  },
  {
   "cell_type": "code",
   "execution_count": 42,
   "id": "65cf7445",
   "metadata": {
    "scrolled": false
   },
   "outputs": [
    {
     "data": {
      "image/png": "[encoded data removed]",
      "text/plain": [
       "<Figure size 1800x648 with 1 Axes>"
      ]
     },
     "metadata": {
      "needs_background": "light"
     },
     "output_type": "display_data"
    }
   ],
   "source": [
    "import matplotlib.colors as mcolors\n",
    "plt.figure(figsize=(25,9))\n",
    "df_smote.groupby('aksi')['PH'].mean().plot(kind='bar',color=['tab:blue', 'tab:orange', 'tab:green', 'tab:red'])\n",
    "plt.xticks(rotation=0)\n",
    "plt.title(\"Rata-rata PH\")\n",
    "plt.tight_layout()\n",
    "plt.show()"
   ]
  },
  {
   "cell_type": "code",
   "execution_count": 43,
   "id": "00c01933",
   "metadata": {},
   "outputs": [
    {
     "data": {
      "text/html": [
       "<div>\n",
       "<style scoped>\n",
       "    .dataframe tbody tr th:only-of-type {\n",
       "        vertical-align: middle;\n",
       "    }\n",
       "\n",
       "    .dataframe tbody tr th {\n",
       "        vertical-align: top;\n",
       "    }\n",
       "\n",
       "    .dataframe thead th {\n",
       "        text-align: right;\n",
       "    }\n",
       "</style>\n",
       "<table border=\"1\" class=\"dataframe\">\n",
       "  <thead>\n",
       "    <tr style=\"text-align: right;\">\n",
       "      <th></th>\n",
       "      <th>aksi</th>\n",
       "      <th>PH</th>\n",
       "    </tr>\n",
       "  </thead>\n",
       "  <tbody>\n",
       "    <tr>\n",
       "      <th>0</th>\n",
       "      <td>Hidupkan Lampu</td>\n",
       "      <td>6.895240</td>\n",
       "    </tr>\n",
       "    <tr>\n",
       "      <th>1</th>\n",
       "      <td>Hidupkan Lampu dan Pompa nutrisi TDS</td>\n",
       "      <td>7.169823</td>\n",
       "    </tr>\n",
       "    <tr>\n",
       "      <th>2</th>\n",
       "      <td>Hidupkan Pompa nutrisi TDS</td>\n",
       "      <td>9.863474</td>\n",
       "    </tr>\n",
       "    <tr>\n",
       "      <th>3</th>\n",
       "      <td>Tidak melakukan apa-apa</td>\n",
       "      <td>6.488714</td>\n",
       "    </tr>\n",
       "  </tbody>\n",
       "</table>\n",
       "</div>"
      ],
      "text/plain": [
       "                                   aksi        PH\n",
       "0                        Hidupkan Lampu  6.895240\n",
       "1  Hidupkan Lampu dan Pompa nutrisi TDS  7.169823\n",
       "2            Hidupkan Pompa nutrisi TDS  9.863474\n",
       "3               Tidak melakukan apa-apa  6.488714"
      ]
     },
     "execution_count": 43,
     "metadata": {},
     "output_type": "execute_result"
    }
   ],
   "source": [
    "ph_aksi = df_smote.groupby('aksi')['PH'].mean().reset_index()\n",
    "ph_aksi"
   ]
  },
  {
   "cell_type": "code",
   "execution_count": 44,
   "id": "1e1a9607",
   "metadata": {},
   "outputs": [
    {
     "data": {
      "text/plain": [
       "6.895239500080177"
      ]
     },
     "execution_count": 44,
     "metadata": {},
     "output_type": "execute_result"
    }
   ],
   "source": [
    "ph_aksi.iloc[0]['PH']"
   ]
  },
  {
   "cell_type": "code",
   "execution_count": 45,
   "id": "65a37143",
   "metadata": {
    "scrolled": false
   },
   "outputs": [
    {
     "data": {
      "image/png": "[encoded data removed]",
      "text/plain": [
       "<Figure size 1800x648 with 1 Axes>"
      ]
     },
     "metadata": {
      "needs_background": "light"
     },
     "output_type": "display_data"
    }
   ],
   "source": [
    "plt.figure(figsize=(25,9))\n",
    "splot = sns.barplot(x='aksi', y='PH', data=ph_aksi)\n",
    "plt.title(\"Rata-rata PH\")\n",
    "# plt.annotate(str(ph_aksi.iloc[0]['PH']), xy=(-0.4, 2), xytext=(-0.29, 2), size=20, color='w')\n",
    "# plt.annotate(str(ph_aksi.iloc[1]['PH']), xy=(0.7, 3), xytext=(0.7, 3), size=20, color='w')\n",
    "# plt.annotate(str(ph_aksi.iloc[2]['PH']), xy=(1.7, 6), xytext=(1.7, 6), size=20, color='w')\n",
    "# plt.annotate(str(ph_aksi.iloc[3]['PH']), xy=(1.7, 3), xytext=(2.7, 3), size=20, color='w')\n",
    "for p in splot.patches:\n",
    "    splot.annotate(format(p.get_height(), '.1f'), (p.get_x() + p.get_width() / 2., p.get_height()), ha = 'center', va = 'center', xytext = (0, 10), textcoords = 'offset points')\n",
    "\n",
    "\n",
    "plt.show()"
   ]
  },
  {
   "cell_type": "markdown",
   "id": "33697f14",
   "metadata": {},
   "source": [
    "### Intensitas Air"
   ]
  },
  {
   "cell_type": "code",
   "execution_count": 46,
   "id": "c2de5bdd",
   "metadata": {},
   "outputs": [
    {
     "data": {
      "text/plain": [
       "array(['Tinggi', 'Cukup', 'Rendah', 'Rendah sekali'], dtype=object)"
      ]
     },
     "execution_count": 46,
     "metadata": {},
     "output_type": "execute_result"
    }
   ],
   "source": [
    "df_smote.intensitas_air.unique()"
   ]
  },
  {
   "cell_type": "code",
   "execution_count": 47,
   "id": "461d420c",
   "metadata": {},
   "outputs": [
    {
     "data": {
      "image/png": "[encoded data removed]",
      "text/plain": [
       "<Figure size 1800x720 with 1 Axes>"
      ]
     },
     "metadata": {
      "needs_background": "light"
     },
     "output_type": "display_data"
    }
   ],
   "source": [
    "plt.figure(figsize=(25,10))\n",
    "splot = sns.countplot(x='intensitas_air', hue='aksi', data=df_smote)\n",
    "for p in splot.patches:\n",
    "    splot.annotate(format(p.get_height(), '.1f'), (p.get_x() + p.get_width() / 2., p.get_height()), ha = 'center', va = 'center', xytext = (0, 10), textcoords = 'offset points')\n",
    "\n",
    "plt.title(\"Value count intensitas air\")\n",
    "plt.legend(bbox_to_anchor=(0.9,1))\n",
    "plt.show()"
   ]
  },
  {
   "cell_type": "markdown",
   "id": "5d131107",
   "metadata": {},
   "source": [
    "### Cahaya"
   ]
  },
  {
   "cell_type": "code",
   "execution_count": 48,
   "id": "8cf72471",
   "metadata": {},
   "outputs": [
    {
     "data": {
      "image/png": "[encoded data removed]",
      "text/plain": [
       "<Figure size 1800x720 with 1 Axes>"
      ]
     },
     "metadata": {
      "needs_background": "light"
     },
     "output_type": "display_data"
    }
   ],
   "source": [
    "plt.figure(figsize=(25,10))\n",
    "splot = sns.countplot(x='cahaya', hue='aksi', data=df_smote)\n",
    "for p in splot.patches:\n",
    "    splot.annotate(format(p.get_height(), '.1f'), (p.get_x() + p.get_width() / 2., p.get_height()), ha = 'center', va = 'center', xytext = (0, 10), textcoords = 'offset points')\n",
    "\n",
    "plt.title(\"Value count cahaya\")\n",
    "plt.legend(bbox_to_anchor=(1,1))\n",
    "plt.show()"
   ]
  },
  {
   "cell_type": "markdown",
   "id": "a5636e86",
   "metadata": {},
   "source": [
    "### Suhu"
   ]
  },
  {
   "cell_type": "code",
   "execution_count": 49,
   "id": "34999e7f",
   "metadata": {},
   "outputs": [
    {
     "data": {
      "image/png": "[encoded data removed]",
      "text/plain": [
       "<Figure size 1800x648 with 1 Axes>"
      ]
     },
     "metadata": {
      "needs_background": "light"
     },
     "output_type": "display_data"
    }
   ],
   "source": [
    "plt.figure(figsize=(25,9))\n",
    "splot = sns.barplot(x='aksi', y='suhu', data=df_smote.groupby('aksi')['suhu'].mean().reset_index())\n",
    "for p in splot.patches:\n",
    "    splot.annotate(format(p.get_height(), '.1f'), (p.get_x() + p.get_width() / 2., p.get_height()), ha = 'center', va = 'center', xytext = (0, 10), textcoords = 'offset points')\n",
    "\n",
    "plt.title(\"Rata-rata suhu\")\n",
    "plt.show()"
   ]
  },
  {
   "cell_type": "markdown",
   "id": "fe945827",
   "metadata": {},
   "source": [
    "### PPM"
   ]
  },
  {
   "cell_type": "code",
   "execution_count": 50,
   "id": "40346f38",
   "metadata": {},
   "outputs": [
    {
     "data": {
      "image/png": "[encoded data removed]",
      "text/plain": [
       "<Figure size 1800x648 with 1 Axes>"
      ]
     },
     "metadata": {
      "needs_background": "light"
     },
     "output_type": "display_data"
    }
   ],
   "source": [
    "plt.figure(figsize=(25,9))\n",
    "splot = sns.barplot(x='aksi', y='PPM', data=df_smote.groupby('aksi')['PPM'].mean().reset_index())\n",
    "for p in splot.patches:\n",
    "    splot.annotate(format(p.get_height(), '.1f'), (p.get_x() + p.get_width() / 2., p.get_height()), ha = 'center', va = 'center', xytext = (0, 10), textcoords = 'offset points')\n",
    "\n",
    "plt.title(\"Rata-rata PPM\")\n",
    "plt.show()"
   ]
  },
  {
   "cell_type": "markdown",
   "id": "1cd1f151",
   "metadata": {},
   "source": [
    "### Tinggi air"
   ]
  },
  {
   "cell_type": "code",
   "execution_count": 51,
   "id": "9b977d24",
   "metadata": {},
   "outputs": [
    {
     "data": {
      "image/png": "[encoded data removed]",
      "text/plain": [
       "<Figure size 1800x720 with 1 Axes>"
      ]
     },
     "metadata": {
      "needs_background": "light"
     },
     "output_type": "display_data"
    }
   ],
   "source": [
    "plt.figure(figsize=(25,10))\n",
    "splot = sns.barplot(x='aksi', y='tinggi_air', data=df_smote.groupby('aksi')['tinggi_air'].mean().reset_index())\n",
    "for p in splot.patches:\n",
    "    splot.annotate(format(p.get_height(), '.1f'), (p.get_x() + p.get_width() / 2., p.get_height()), ha = 'center', va = 'center', xytext = (0, 10), textcoords = 'offset points')\n",
    "\n",
    "plt.title(\"Rata-rata tinggi_air\")\n",
    "plt.show()"
   ]
  },
  {
   "cell_type": "markdown",
   "id": "1545ec45",
   "metadata": {},
   "source": [
    "# Build model KNN Tanpa smote"
   ]
  },
  {
   "cell_type": "markdown",
   "id": "b9fd48b5",
   "metadata": {},
   "source": [
    "### Encode kembali data kategorical"
   ]
  },
  {
   "cell_type": "code",
   "execution_count": 52,
   "id": "c229807d",
   "metadata": {},
   "outputs": [
    {
     "data": {
      "text/html": [
       "<div>\n",
       "<style scoped>\n",
       "    .dataframe tbody tr th:only-of-type {\n",
       "        vertical-align: middle;\n",
       "    }\n",
       "\n",
       "    .dataframe tbody tr th {\n",
       "        vertical-align: top;\n",
       "    }\n",
       "\n",
       "    .dataframe thead th {\n",
       "        text-align: right;\n",
       "    }\n",
       "</style>\n",
       "<table border=\"1\" class=\"dataframe\">\n",
       "  <thead>\n",
       "    <tr style=\"text-align: right;\">\n",
       "      <th></th>\n",
       "      <th>PH</th>\n",
       "      <th>cahaya</th>\n",
       "      <th>intensitas_air</th>\n",
       "      <th>suhu</th>\n",
       "      <th>PPM</th>\n",
       "      <th>tinggi_air</th>\n",
       "      <th>aksi</th>\n",
       "    </tr>\n",
       "  </thead>\n",
       "  <tbody>\n",
       "    <tr>\n",
       "      <th>0</th>\n",
       "      <td>6.5</td>\n",
       "      <td>1</td>\n",
       "      <td>4</td>\n",
       "      <td>27.0</td>\n",
       "      <td>188.0</td>\n",
       "      <td>622</td>\n",
       "      <td>4</td>\n",
       "    </tr>\n",
       "    <tr>\n",
       "      <th>1</th>\n",
       "      <td>5.7</td>\n",
       "      <td>1</td>\n",
       "      <td>4</td>\n",
       "      <td>26.9</td>\n",
       "      <td>79.0</td>\n",
       "      <td>557</td>\n",
       "      <td>4</td>\n",
       "    </tr>\n",
       "    <tr>\n",
       "      <th>2</th>\n",
       "      <td>6.0</td>\n",
       "      <td>1</td>\n",
       "      <td>4</td>\n",
       "      <td>27.0</td>\n",
       "      <td>11.0</td>\n",
       "      <td>491</td>\n",
       "      <td>4</td>\n",
       "    </tr>\n",
       "    <tr>\n",
       "      <th>3</th>\n",
       "      <td>6.2</td>\n",
       "      <td>1</td>\n",
       "      <td>4</td>\n",
       "      <td>27.1</td>\n",
       "      <td>602.0</td>\n",
       "      <td>444</td>\n",
       "      <td>1</td>\n",
       "    </tr>\n",
       "    <tr>\n",
       "      <th>4</th>\n",
       "      <td>6.1</td>\n",
       "      <td>1</td>\n",
       "      <td>4</td>\n",
       "      <td>27.0</td>\n",
       "      <td>561.0</td>\n",
       "      <td>405</td>\n",
       "      <td>2</td>\n",
       "    </tr>\n",
       "  </tbody>\n",
       "</table>\n",
       "</div>"
      ],
      "text/plain": [
       "    PH  cahaya  intensitas_air  suhu    PPM  tinggi_air  aksi\n",
       "0  6.5       1               4  27.0  188.0         622     4\n",
       "1  5.7       1               4  26.9   79.0         557     4\n",
       "2  6.0       1               4  27.0   11.0         491     4\n",
       "3  6.2       1               4  27.1  602.0         444     1\n",
       "4  6.1       1               4  27.0  561.0         405     2"
      ]
     },
     "execution_count": 52,
     "metadata": {},
     "output_type": "execute_result"
    }
   ],
   "source": [
    "df_smote['intensitas_air'] = df_smote[['intensitas_air']].applymap(mapping.get)\n",
    "df_smote['cahaya'] = df_smote[['cahaya']].applymap(mapping2.get)\n",
    "df_smote['aksi'] = df_smote[['aksi']].applymap(mapping3.get)\n",
    "df_smote.head()"
   ]
  },
  {
   "cell_type": "markdown",
   "id": "32edebc4",
   "metadata": {},
   "source": [
    "### Split data"
   ]
  },
  {
   "cell_type": "code",
   "execution_count": 53,
   "id": "ee2f2cbc",
   "metadata": {},
   "outputs": [],
   "source": [
    "from sklearn.model_selection import train_test_split"
   ]
  },
  {
   "cell_type": "code",
   "execution_count": 54,
   "id": "7f8482e7",
   "metadata": {},
   "outputs": [
    {
     "data": {
      "text/plain": [
       "((489, 6), (123, 6), (489,), (123,))"
      ]
     },
     "execution_count": 54,
     "metadata": {},
     "output_type": "execute_result"
    }
   ],
   "source": [
    "X = df.drop(columns=\"aksi\")\n",
    "y = df.aksi\n",
    "\n",
    "X_train, X_test, y_train, y_test = train_test_split(X, y, test_size=0.2, stratify=y, random_state=42)\n",
    "X_train.shape, X_test.shape, y_train.shape, y_test.shape"
   ]
  },
  {
   "cell_type": "code",
   "execution_count": 55,
   "id": "8141952e",
   "metadata": {},
   "outputs": [],
   "source": [
    "from sklearn.neighbors import KNeighborsClassifier\n",
    "from sklearn.model_selection import GridSearchCV"
   ]
  },
  {
   "cell_type": "code",
   "execution_count": 56,
   "id": "e54d93cb",
   "metadata": {},
   "outputs": [
    {
     "data": {
      "text/plain": [
       "array([ 1,  3,  5,  7,  9, 11, 13, 15, 17, 19, 21, 23, 25, 27, 29, 31, 33,\n",
       "       35, 37, 39, 41, 43, 45, 47, 49])"
      ]
     },
     "execution_count": 56,
     "metadata": {},
     "output_type": "execute_result"
    }
   ],
   "source": [
    "np.arange(1,50,2)"
   ]
  },
  {
   "cell_type": "code",
   "execution_count": 57,
   "id": "074f1169",
   "metadata": {},
   "outputs": [],
   "source": [
    "params = {\n",
    "    'n_neighbors':np.arange(1,50,2),\n",
    "    'weights':['uniform','distance'],\n",
    "    'p':[1,1.5,2]\n",
    "}"
   ]
  },
  {
   "cell_type": "markdown",
   "id": "481212b7",
   "metadata": {},
   "source": [
    "### Build model with gridsearch tunning"
   ]
  },
  {
   "cell_type": "code",
   "execution_count": 58,
   "id": "34c47fa2",
   "metadata": {},
   "outputs": [
    {
     "data": {
      "text/plain": [
       "Index(['PH', 'cahaya', 'intensitas_air', 'suhu', 'PPM', 'tinggi_air', 'aksi'], dtype='object')"
      ]
     },
     "execution_count": 58,
     "metadata": {},
     "output_type": "execute_result"
    }
   ],
   "source": [
    "df.columns"
   ]
  },
  {
   "cell_type": "code",
   "execution_count": 59,
   "id": "d321cba7",
   "metadata": {},
   "outputs": [
    {
     "name": "stdout",
     "output_type": "stream",
     "text": [
      "Fitting 5 folds for each of 150 candidates, totalling 750 fits\n",
      "{'n_neighbors': 17, 'p': 1, 'weights': 'distance'}\n",
      "1.0 0.7730696402272249 0.7642276422764228\n"
     ]
    },
    {
     "name": "stderr",
     "output_type": "stream",
     "text": [
      "D:\\Pemrograman\\miniconda3\\envs\\orbit_env\\lib\\site-packages\\sklearn\\base.py:442: UserWarning: X does not have valid feature names, but KNeighborsClassifier was fitted with feature names\n",
      "  \"X does not have valid feature names, but\"\n",
      "D:\\Pemrograman\\miniconda3\\envs\\orbit_env\\lib\\site-packages\\sklearn\\base.py:442: UserWarning: X does not have valid feature names, but KNeighborsClassifier was fitted with feature names\n",
      "  \"X does not have valid feature names, but\"\n"
     ]
    }
   ],
   "source": [
    "knn = KNeighborsClassifier()\n",
    "\n",
    "model = GridSearchCV(knn, params, cv=5, n_jobs=-1, verbose=1)\n",
    "model.fit(X_train, y_train)\n",
    "\n",
    "print(model.best_params_)\n",
    "print(model.score(X_train, y_train), model.best_score_, model.score(X_test, y_test))"
   ]
  },
  {
   "cell_type": "code",
   "execution_count": 60,
   "id": "3e1e46cb",
   "metadata": {},
   "outputs": [],
   "source": [
    "from sklearn.pipeline import Pipeline\n",
    "from sklearn.compose import ColumnTransformer\n",
    "from sklearn.pipeline import Pipeline\n",
    "from sklearn.impute import SimpleImputer\n",
    "from sklearn.preprocessing import OneHotEncoder, MinMaxScaler, RobustScaler, PowerTransformer, StandardScaler, OrdinalEncoder"
   ]
  },
  {
   "cell_type": "code",
   "execution_count": 61,
   "id": "4263b519",
   "metadata": {},
   "outputs": [],
   "source": [
    "numerical_pipeline = Pipeline([\n",
    "    (\"imputer\", SimpleImputer(strategy='mean')),\n",
    "    (\"tansform\", PowerTransformer(method='yeo-johnson')), \n",
    "    (\"scaler\", StandardScaler())\n",
    "])\n",
    "\n",
    "categorical_pipeline = Pipeline([\n",
    "    (\"imputer\", SimpleImputer(strategy=\"most_frequent\")), \n",
    "    (\"onehot\", OneHotEncoder())\n",
    "])"
   ]
  },
  {
   "cell_type": "code",
   "execution_count": 62,
   "id": "30982fe9",
   "metadata": {},
   "outputs": [],
   "source": [
    "params_pipeline = {\n",
    "    'algo__n_neighbors':np.arange(1,50,2),\n",
    "    'algo__weights':['uniform','distance'],\n",
    "    'algo__p':[1,1.5,2]\n",
    "}"
   ]
  },
  {
   "cell_type": "code",
   "execution_count": 63,
   "id": "28bd7f17",
   "metadata": {},
   "outputs": [
    {
     "name": "stdout",
     "output_type": "stream",
     "text": [
      "Fitting 5 folds for each of 150 candidates, totalling 750 fits\n",
      "{'algo__n_neighbors': 3, 'algo__p': 1, 'algo__weights': 'distance'}\n",
      "1.0 0.7079681311514908 0.7346629288653906\n"
     ]
    }
   ],
   "source": [
    "from sklearn.neighbors import KNeighborsRegressor\n",
    "preprocessor = ColumnTransformer([\n",
    "    ('numeric', numerical_pipeline, ['PH','suhu','PPM','tinggi_air']),\n",
    "    ('categoric', categorical_pipeline, ['cahaya','intensitas_air']),\n",
    "])\n",
    "pipeline = Pipeline([\n",
    "    ('prep', preprocessor),\n",
    "    ('algo', KNeighborsRegressor())\n",
    "])\n",
    "\n",
    "model = GridSearchCV(pipeline, params_pipeline, cv=5, n_jobs=-1, verbose=1)\n",
    "model.fit(X_train, y_train)\n",
    "\n",
    "print(model.best_params_)\n",
    "print(model.score(X_train, y_train), model.best_score_, model.score(X_test, y_test))"
   ]
  },
  {
   "cell_type": "markdown",
   "id": "94dc991a",
   "metadata": {},
   "source": [
    "`Setelah dicoba dengan transformasi yeo-johnson dan beberapa scaler, accuracy tidak meningkat`"
   ]
  },
  {
   "cell_type": "code",
   "execution_count": 64,
   "id": "1f932407",
   "metadata": {},
   "outputs": [],
   "source": [
    "numerical_pipeline = Pipeline([\n",
    "    (\"imputer\", SimpleImputer(strategy='mean')), \n",
    "    (\"tansform\", PowerTransformer(method='yeo-johnson')), \n",
    "    (\"scaler\", StandardScaler())\n",
    "])\n",
    "\n",
    "categorical_pipeline = Pipeline([\n",
    "    (\"imputer\", SimpleImputer(strategy=\"most_frequent\")), \n",
    "    (\"onehot\", OrdinalEncoder())\n",
    "])"
   ]
  },
  {
   "cell_type": "code",
   "execution_count": 65,
   "id": "0eed8878",
   "metadata": {},
   "outputs": [],
   "source": [
    "params_pipeline = {\n",
    "    'algo__n_neighbors':np.arange(1,50,2),\n",
    "    'algo__weights':['uniform','distance'],\n",
    "    'algo__p':[1,1.5,2]\n",
    "}"
   ]
  },
  {
   "cell_type": "code",
   "execution_count": 66,
   "id": "51c96c4c",
   "metadata": {},
   "outputs": [
    {
     "name": "stdout",
     "output_type": "stream",
     "text": [
      "Fitting 5 folds for each of 150 candidates, totalling 750 fits\n",
      "{'algo__n_neighbors': 5, 'algo__p': 1, 'algo__weights': 'distance'}\n",
      "1.0 0.7311166104066722 0.7412832809992336\n"
     ]
    }
   ],
   "source": [
    "from sklearn.neighbors import KNeighborsRegressor\n",
    "preprocessor = ColumnTransformer([\n",
    "    ('numeric', numerical_pipeline, ['PH','suhu','PPM','tinggi_air']),\n",
    "    ('categoric', categorical_pipeline, ['cahaya','intensitas_air']),\n",
    "])\n",
    "pipeline = Pipeline([\n",
    "    ('prep', preprocessor),\n",
    "    ('algo', KNeighborsRegressor())\n",
    "])\n",
    "\n",
    "model = GridSearchCV(pipeline, params_pipeline, cv=5, n_jobs=-1, verbose=1)\n",
    "model.fit(X_train, y_train)\n",
    "\n",
    "print(model.best_params_)\n",
    "print(model.score(X_train, y_train), model.best_score_, model.score(X_test, y_test))"
   ]
  },
  {
   "cell_type": "markdown",
   "id": "ebe109d6",
   "metadata": {},
   "source": [
    "### Dengan Smote"
   ]
  },
  {
   "cell_type": "code",
   "execution_count": 67,
   "id": "d9d5b763",
   "metadata": {},
   "outputs": [
    {
     "data": {
      "text/plain": [
       "((1500, 6), (376, 6), (1500,), (376,))"
      ]
     },
     "execution_count": 67,
     "metadata": {},
     "output_type": "execute_result"
    }
   ],
   "source": [
    "X_smote = df_smote.drop(columns=\"aksi\")\n",
    "y_smote = df_smote.aksi\n",
    "\n",
    "X_train_smote, X_test_smote, y_train_smote, y_test_smote = train_test_split(X_smote, y_smote, test_size=0.2, stratify=y_smote, random_state=42)\n",
    "X_train_smote.shape, X_test_smote.shape, y_train_smote.shape, y_test_smote.shape"
   ]
  },
  {
   "cell_type": "code",
   "execution_count": 68,
   "id": "da76da4e",
   "metadata": {
    "scrolled": true
   },
   "outputs": [
    {
     "name": "stdout",
     "output_type": "stream",
     "text": [
      "Fitting 5 folds for each of 150 candidates, totalling 750 fits\n",
      "{'n_neighbors': 1, 'p': 1, 'weights': 'uniform'}\n",
      "1.0 0.8633333333333333 0.8723404255319149\n"
     ]
    },
    {
     "name": "stderr",
     "output_type": "stream",
     "text": [
      "D:\\Pemrograman\\miniconda3\\envs\\orbit_env\\lib\\site-packages\\sklearn\\base.py:442: UserWarning: X does not have valid feature names, but KNeighborsClassifier was fitted with feature names\n",
      "  \"X does not have valid feature names, but\"\n",
      "D:\\Pemrograman\\miniconda3\\envs\\orbit_env\\lib\\site-packages\\sklearn\\base.py:442: UserWarning: X does not have valid feature names, but KNeighborsClassifier was fitted with feature names\n",
      "  \"X does not have valid feature names, but\"\n"
     ]
    }
   ],
   "source": [
    "knn_smote = KNeighborsClassifier()\n",
    "\n",
    "model_smote = GridSearchCV(knn_smote, params, cv=5, n_jobs=-1, verbose=1)\n",
    "model_smote.fit(X_train_smote, y_train_smote)\n",
    "\n",
    "print(model_smote.best_params_)\n",
    "print(model_smote.score(X_train_smote, y_train_smote), model_smote.best_score_, model_smote.score(X_test_smote, y_test_smote))"
   ]
  },
  {
   "cell_type": "code",
   "execution_count": 69,
   "id": "e4cf0fbc",
   "metadata": {},
   "outputs": [
    {
     "data": {
      "text/plain": [
       "{'algo__n_neighbors': array([ 1,  3,  5,  7,  9, 11, 13, 15, 17, 19, 21, 23, 25, 27, 29, 31, 33,\n",
       "        35, 37, 39, 41, 43, 45, 47, 49]),\n",
       " 'algo__weights': ['uniform', 'distance'],\n",
       " 'algo__p': [1, 1.5, 2]}"
      ]
     },
     "execution_count": 69,
     "metadata": {},
     "output_type": "execute_result"
    }
   ],
   "source": [
    "params_pipeline"
   ]
  },
  {
   "cell_type": "code",
   "execution_count": 71,
   "id": "4ba768df",
   "metadata": {},
   "outputs": [
    {
     "data": {
      "text/plain": [
       "Pipeline(steps=[('imputer', SimpleImputer()), ('tansform', PowerTransformer()),\n",
       "                ('scaler', StandardScaler())])"
      ]
     },
     "execution_count": 71,
     "metadata": {},
     "output_type": "execute_result"
    }
   ],
   "source": [
    "numerical_pipeline"
   ]
  },
  {
   "cell_type": "code",
   "execution_count": 72,
   "id": "7714d2c0",
   "metadata": {},
   "outputs": [
    {
     "data": {
      "text/plain": [
       "Pipeline(steps=[('imputer', SimpleImputer(strategy='most_frequent')),\n",
       "                ('onehot', OrdinalEncoder())])"
      ]
     },
     "execution_count": 72,
     "metadata": {},
     "output_type": "execute_result"
    }
   ],
   "source": [
    "categorical_pipeline"
   ]
  },
  {
   "cell_type": "code",
   "execution_count": 70,
   "id": "2ea50b96",
   "metadata": {},
   "outputs": [
    {
     "name": "stdout",
     "output_type": "stream",
     "text": [
      "Fitting 5 folds for each of 150 candidates, totalling 750 fits\n",
      "{'algo__n_neighbors': 1, 'algo__p': 1, 'algo__weights': 'uniform'}\n",
      "1.0 0.9049304934405846 0.9638297872340426\n"
     ]
    }
   ],
   "source": [
    "from sklearn.neighbors import KNeighborsRegressor\n",
    "preprocessor_smote = ColumnTransformer([\n",
    "    ('numeric', numerical_pipeline, ['PH','suhu','PPM','tinggi_air']),\n",
    "    ('categoric', categorical_pipeline, ['cahaya','intensitas_air']),\n",
    "])\n",
    "pipeline_smote = Pipeline([\n",
    "    ('prep', preprocessor_smote),\n",
    "    ('algo', KNeighborsRegressor())\n",
    "])\n",
    "\n",
    "model_smote = GridSearchCV(pipeline_smote, params_pipeline, cv=5, n_jobs=-1, verbose=1)\n",
    "model_smote.fit(X_train_smote, y_train_smote)\n",
    "\n",
    "print(model_smote.best_params_)\n",
    "print(model_smote.score(X_train_smote, y_train_smote), model_smote.best_score_, model_smote.score(X_test_smote, y_test_smote))"
   ]
  },
  {
   "cell_type": "code",
   "execution_count": 74,
   "id": "216fdb47",
   "metadata": {},
   "outputs": [
    {
     "data": {
      "text/plain": [
       "0.827247191011236"
      ]
     },
     "execution_count": 74,
     "metadata": {},
     "output_type": "execute_result"
    }
   ],
   "source": [
    "model_smote.score(X_test, y_test)"
   ]
  },
  {
   "cell_type": "code",
   "execution_count": 76,
   "id": "b1552c5d",
   "metadata": {
    "scrolled": true
   },
   "outputs": [
    {
     "data": {
      "text/plain": [
       "1    94\n",
       "2    19\n",
       "4     8\n",
       "3     2\n",
       "Name: aksi, dtype: int64"
      ]
     },
     "execution_count": 76,
     "metadata": {},
     "output_type": "execute_result"
    }
   ],
   "source": [
    "y_test.value_counts()"
   ]
  },
  {
   "cell_type": "code",
   "execution_count": 78,
   "id": "f445217d",
   "metadata": {},
   "outputs": [],
   "source": [
    "from sklearn.metrics import confusion_matrix, classification_report"
   ]
  },
  {
   "cell_type": "code",
   "execution_count": 81,
   "id": "5e1dcc20",
   "metadata": {},
   "outputs": [
    {
     "data": {
      "text/plain": [
       "array([[88,  3,  0,  0],\n",
       "       [ 5, 91,  0,  0],\n",
       "       [ 0,  0, 94,  0],\n",
       "       [ 1,  0,  0, 94]], dtype=int64)"
      ]
     },
     "execution_count": 81,
     "metadata": {},
     "output_type": "execute_result"
    }
   ],
   "source": [
    "confusion_matrix(model_smote.predict(X_test_smote), y_test_smote)"
   ]
  },
  {
   "cell_type": "code",
   "execution_count": 83,
   "id": "668bc4f9",
   "metadata": {},
   "outputs": [
    {
     "name": "stdout",
     "output_type": "stream",
     "text": [
      "              precision    recall  f1-score   support\n",
      "\n",
      "         1.0       0.94      0.97      0.95        91\n",
      "         2.0       0.97      0.95      0.96        96\n",
      "         3.0       1.00      1.00      1.00        94\n",
      "         4.0       1.00      0.99      0.99        95\n",
      "\n",
      "    accuracy                           0.98       376\n",
      "   macro avg       0.98      0.98      0.98       376\n",
      "weighted avg       0.98      0.98      0.98       376\n",
      "\n"
     ]
    }
   ],
   "source": [
    "print(classification_report(model_smote.predict(X_test_smote), y_test_smote))"
   ]
  },
  {
   "cell_type": "code",
   "execution_count": 84,
   "id": "2f251fbd",
   "metadata": {},
   "outputs": [
    {
     "data": {
      "text/plain": [
       "array([[88,  0,  0,  0],\n",
       "       [ 5, 19,  0,  0],\n",
       "       [ 0,  0,  2,  0],\n",
       "       [ 1,  0,  0,  8]], dtype=int64)"
      ]
     },
     "execution_count": 84,
     "metadata": {},
     "output_type": "execute_result"
    }
   ],
   "source": [
    "confusion_matrix(model_smote.predict(X_test), y_test)"
   ]
  },
  {
   "cell_type": "code",
   "execution_count": 85,
   "id": "1a8a67e3",
   "metadata": {},
   "outputs": [
    {
     "name": "stdout",
     "output_type": "stream",
     "text": [
      "              precision    recall  f1-score   support\n",
      "\n",
      "         1.0       0.94      1.00      0.97        88\n",
      "         2.0       1.00      0.79      0.88        24\n",
      "         3.0       1.00      1.00      1.00         2\n",
      "         4.0       1.00      0.89      0.94         9\n",
      "\n",
      "    accuracy                           0.95       123\n",
      "   macro avg       0.98      0.92      0.95       123\n",
      "weighted avg       0.95      0.95      0.95       123\n",
      "\n"
     ]
    }
   ],
   "source": [
    "print(classification_report(model_smote.predict(X_test), y_test))"
   ]
  },
  {
   "cell_type": "code",
   "execution_count": null,
   "id": "aecd945b",
   "metadata": {},
   "outputs": [],
   "source": []
  }
 ],
 "metadata": {
  "kernelspec": {
   "display_name": "Python [conda env:orbit_env]",
   "language": "python",
   "name": "conda-env-orbit_env-py"
  },
  "language_info": {
   "codemirror_mode": {
    "name": "ipython",
    "version": 3
   },
   "file_extension": ".py",
   "mimetype": "text/x-python",
   "name": "python",
   "nbconvert_exporter": "python",
   "pygments_lexer": "ipython3",
   "version": "3.7.6"
  },
  "varInspector": {
   "cols": {
    "lenName": 16,
    "lenType": 16,
    "lenVar": 40
   },
   "kernels_config": {
    "python": {
     "delete_cmd_postfix": "",
     "delete_cmd_prefix": "del ",
     "library": "var_list.py",
     "varRefreshCmd": "print(var_dic_list())"
    },
    "r": {
     "delete_cmd_postfix": ") ",
     "delete_cmd_prefix": "rm(",
     "library": "var_list.r",
     "varRefreshCmd": "cat(var_dic_list()) "
    }
   },
   "types_to_exclude": [
    "module",
    "function",
    "builtin_function_or_method",
    "instance",
    "_Feature"
   ],
   "window_display": false
  }
 },
 "nbformat": 4,
 "nbformat_minor": 5
}
